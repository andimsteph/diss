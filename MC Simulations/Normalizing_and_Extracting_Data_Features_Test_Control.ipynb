{
  "nbformat": 4,
  "nbformat_minor": 0,
  "metadata": {
    "colab": {
      "provenance": []
    },
    "kernelspec": {
      "name": "python3",
      "display_name": "Python 3"
    },
    "language_info": {
      "name": "python"
    }
  },
  "cells": [
    {
      "cell_type": "code",
      "execution_count": null,
      "metadata": {
        "id": "Uddb3tREKvZ4"
      },
      "outputs": [],
      "source": [
        "#Import packages\n",
        "import pandas as pd\n",
        "import numpy as np\n",
        "import matplotlib.pyplot as plt\n",
        "from math import tan, radians\n",
        "from sklearn.linear_model import LinearRegression\n",
        "from sklearn import preprocessing\n",
        "\n",
        "lm = LinearRegression()\n",
        "standard_scaler = preprocessing.StandardScaler()"
      ]
    },
    {
      "cell_type": "code",
      "source": [
        "def standardize_data(x)\n",
        "\n",
        "    features = []\n",
        "\n",
        "    #identify indicies\n",
        "    indexControl = np.where(x[0]== 'Control')\n",
        "    indexTest = np.where(x[0]== 'Test')\n",
        "\n",
        "    #extract data\n",
        "    Control = (x[1][indexControl].astype(float)).flatten()\n",
        "    Test = (x[1][indexTest].astype(float)).flatten()\n",
        "\n",
        "    #mean and SD\n",
        "    overallMean = np.mean(np.hstack((Control, Test)))\n",
        "    overallSd = np.std(np.hstack((Control, Test)))\n",
        "\n",
        "    #standardize\n",
        "    Control  = (Control-overallMean)/overallSd\n",
        "    Control[np.isnan(Control)] = 0\n",
        "\n",
        "    Test = (Test-overallMean)/overallSd\n",
        "    Test[np.isnan(Test)] = 0\n",
        "\n",
        "    pointsControl = len(Control)\n",
        "    pointsTotal = pointsControl + len(Test)\n",
        "\n",
        "    #append\n",
        "    features.append([np.mean(Control), np.mean(Test)])\n",
        "    features.append([np.std(Test),np.std(Test)])\n",
        "\n",
        "    #lr\n",
        "    lm1 = LinearRegression().fit(np.array(range(pointsControl)).reshape(-1,1),\n",
        "                    np.expand_dims(Control, axis =1))\n",
        "    features.append([float(lm1.intercept_), float(lm1.coef_)])\n",
        "    lm2 = LinearRegression().fit(np.array(range(pointsControl,pointsTotal))\\\n",
        "                    .reshape(-1,1), np.expand_dims(Test, axis =1))\n",
        "    features.append([float(lm2.intercept_), float(lm2.coef_)])\n",
        "\n",
        "    features = np.array(features).flatten()\n",
        "\n",
        "    return features"
      ],
      "metadata": {
        "id": "UoUL54-_LKqH"
      },
      "execution_count": null,
      "outputs": []
    },
    {
      "cell_type": "code",
      "source": [
        "#Call\n",
        "all_ME_data, true_values, trend_values = perform_simulations()\n",
        "\n",
        "#Collect all features\n",
        "all_features = [standardize_data(ME_data) for ME_data in all_ME_data]\n",
        "\n",
        "#Convert to DataFrame\n",
        "df_features = pd.DataFrame(all_features, columns=[\n",
        "    'Mean Control', 'Mean Test',\n",
        "    'Std Control', 'Std Test',\n",
        "    'Intercept Control', 'Slope Control',\n",
        "    'Intercept Test', 'Slope Test'\n",
        "])\n",
        "\n",
        "#Save DataFrame to CSV\n",
        "df_features.to_csv('std_features_testcontrol.csv', index=False)\n",
        "\n",
        "print(\"Features saved to std_features_testcontrol.csv\")"
      ],
      "metadata": {
        "id": "kgna-XNqSjmE"
      },
      "execution_count": null,
      "outputs": []
    }
  ]
}