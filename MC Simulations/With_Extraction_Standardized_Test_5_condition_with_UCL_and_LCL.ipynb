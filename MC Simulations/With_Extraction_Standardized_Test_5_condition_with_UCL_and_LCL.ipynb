{
  "nbformat": 4,
  "nbformat_minor": 0,
  "metadata": {
    "colab": {
      "provenance": []
    },
    "kernelspec": {
      "name": "python3",
      "display_name": "Python 3"
    },
    "language_info": {
      "name": "python"
    }
  },
  "cells": [
    {
      "cell_type": "code",
      "execution_count": 3,
      "metadata": {
        "id": "ElXmPApEZ2Z1"
      },
      "outputs": [],
      "source": [
        "#Conducting Monte Carlo Simulations to Generate and Analyze Single-Case Graphs\n",
        "\n",
        "#Import packages\n",
        "import numpy as np\n",
        "import math\n",
        "import matplotlib.pyplot as plt\n",
        "from matplotlib.backends.backend_pdf import PdfPages\n",
        "\n",
        "#This function creates a time series with n points, an autocorrelation of a,\n",
        "#and a constant of ct\n",
        "\n",
        "def create_time_series(n, a, ct):\n",
        "\n",
        "    #Create an empty vector to hold values\n",
        "    time_series = np.empty((0,))\n",
        "\n",
        "    #Compute first point (no autocorrelation possible)\n",
        "    point1 = np.random.normal(size = 1)\n",
        "\n",
        "    #Add point1 to time series\n",
        "    time_series = np.hstack((time_series, point1))\n",
        "\n",
        "    #Repeat the process below for all subsequent points\n",
        "    for i in range(1, n):\n",
        "\n",
        "        #Compute autocorrelated point error term\n",
        "        point = a*time_series[i-1]+np.random.normal(size = 1)\n",
        "\n",
        "        #Add autcorrelated point to time series\n",
        "        time_series = np.hstack((time_series, point))\n",
        "\n",
        "    #Add constant to all points\n",
        "    time_series = time_series + ct\n",
        "\n",
        "    #Return the time series\n",
        "    return(time_series)\n",
        "\n"
      ]
    },
    {
      "cell_type": "code",
      "source": [
        "#This function creates data for an alternating treatment graph with an\n",
        "#autocorrelation of a, a trend of tr (in degrees), a constant of ct, a minimum\n",
        "#of nb_points in each condition, a standardized mean difference of smd,\n",
        "#and level of r in the control condition. Alternation is semi-random\n",
        "\n",
        "def create_ME_data(a, trControl, trAttention, trTangibles, trEscape, trAlone, ct, nb_points, smdAttention, smdTangibles, smdEscape, smdAlone, r, alternation):\n",
        "\n",
        "  if alternation == 'semi-random':\n",
        "\n",
        "        #Empty vector for labels\n",
        "        labels = np.empty((0,))\n",
        "\n",
        "        #Repeat process for each pair of points\n",
        "        for i in range(nb_points):\n",
        "\n",
        "            #Randomly select the order of 5 conditions\n",
        "            new_var = 5\n",
        "            conditions = np.random.choice(['Control', 'Attention', 'Tangibles', 'Escape', 'Alone'], 5, replace = False)\n",
        "\n",
        "            #Add conditions to labels\n",
        "            labels = np.hstack((labels, conditions))\n",
        "\n",
        "        #Run code until minimum number of points is reached for all phases\n",
        "        while (np.sum(labels == 'Control') < nb_points) | (np.sum(labels == 'Attention') < nb_points)| (np.sum(labels == 'Tangibles') < nb_points)| (np.sum(labels == 'Escape') < nb_points)| (np.sum(labels == 'Alone') < nb_points):\n",
        "\n",
        "            #Randomly select one condition\n",
        "            condition = np.random.choice(['Control', 'Test', 'Tangibles', 'Escape', 'Alone'], 1)\n",
        "\n",
        "            #Add condition to labels\n",
        "            labels = np.hstack((labels, condition))\n",
        "\n",
        "  #Create times series\n",
        "  time_series = create_time_series(len(labels), a, ct)\n",
        "  all_values = np.copy(time_series)\n",
        "\n",
        "  #Indices for Phase A (Control)\n",
        "  idxControl = np.where(labels == 'Control')[0]\n",
        "\n",
        "  #Indices for Attention\n",
        "  idxAttention = np.where(labels == 'Attention')[0]\n",
        "\n",
        "  #Indices for Tangibles\n",
        "  idxTangibles = np.where(labels == 'Tangibles')[0]\n",
        "\n",
        "  #Indices for Escape\n",
        "  idxEscape = np.where(labels == 'Escape')[0]\n",
        "\n",
        "  #Indices for Alone\n",
        "  idxAlone = np.where(labels == 'Alone')[0]\n",
        "\n",
        "  #Add smd to values of test conditions\n",
        "  all_values[idxAttention] += smdAttention\n",
        "  all_values[idxTangibles] += smdTangibles\n",
        "  all_values[idxEscape] += smdEscape\n",
        "  all_values[idxAlone] += smdAlone\n",
        "\n",
        "  #Identify middle point around which to pivot trend\n",
        "  middle_point = np.median(range(len(all_values)))\n",
        "\n",
        "  #Apply trend to all points separately\n",
        "  #Control\n",
        "  for j in range(len(idxControl)):\n",
        "    distance = idxControl[j] - middle_point\n",
        "    all_values[idxControl[j]] += distance * math.tan(trControl * math.pi / 180)\n",
        "\n",
        "  #Phase Attention\n",
        "  for j in range(len(idxAttention)):\n",
        "        distance = idxAttention[j] - middle_point\n",
        "        all_values[idxAttention[j]] += distance * math.tan(trAttention * math.pi / 180)\n",
        "\n",
        "  #Phase Tangibles\n",
        "  for j in range(len(idxTangibles)):\n",
        "        distance = idxTangibles[j] - middle_point\n",
        "        all_values[idxTangibles[j]] += distance * math.tan(trTangibles * math.pi / 180)\n",
        "\n",
        "  #Phase Escape\n",
        "  for j in range(len(idxEscape)):\n",
        "        distance = idxEscape[j] - middle_point\n",
        "        all_values[idxEscape[j]] += distance * math.tan(trEscape * math.pi / 180)\n",
        "\n",
        "  #Phase Alone\n",
        "  for j in range(len(idxAlone)):\n",
        "        distance = idxAlone[j] - middle_point\n",
        "        all_values[idxAlone[j]] += distance * math.tan(trAlone * math.pi / 180)\n",
        "\n",
        "  #Set max and min values, and normalize\n",
        "  min_value = np.min(all_values)\n",
        "  max_value = np.max(all_values)\n",
        "  all_values = (all_values - min_value) / (max_value - min_value) * 10\n",
        "\n",
        "  #Recalculate smd\n",
        "  mean_control = np.mean(all_values[idxControl])\n",
        "  mean_attention = np.mean(all_values[idxAttention])\n",
        "  mean_tangibles = np.mean(all_values[idxTangibles])\n",
        "  mean_escape = np.mean(all_values[idxEscape])\n",
        "  mean_alone = np.mean(all_values[idxAlone])\n",
        "\n",
        "  current_smd_attention = mean_attention - mean_control\n",
        "  current_smd_tangibles = mean_tangibles - mean_control\n",
        "  current_smd_escape = mean_escape - mean_control\n",
        "  current_smd_alone = mean_alone - mean_control\n",
        "\n",
        "  #Adjust values to maintain smd\n",
        "  #Attention\n",
        "  if current_smd_attention != smdAttention:\n",
        "      adjustment = smdAttention - current_smd_attention\n",
        "      all_values[idxAttention] += adjustment / 2\n",
        "      all_values[idxControl] -= adjustment / 2\n",
        "\n",
        "  #Tangibles\n",
        "  if current_smd_tangibles != smdTangibles:\n",
        "      adjustment = smdTangibles - current_smd_tangibles\n",
        "      all_values[idxTangibles] += adjustment / 2\n",
        "      all_values[idxControl] -= adjustment / 2\n",
        "\n",
        "  #Escape\n",
        "  if current_smd_escape != smdEscape:\n",
        "      adjustment = smdEscape - current_smd_escape\n",
        "      all_values[idxEscape] += adjustment / 2\n",
        "      all_values[idxControl] -= adjustment / 2\n",
        "\n",
        "  #Alone\n",
        "  if current_smd_alone != smdAlone:\n",
        "      adjustment = smdAlone - current_smd_alone\n",
        "      all_values[idxAlone] += adjustment / 2\n",
        "      all_values[idxControl] -= adjustment / 2\n",
        "\n",
        "  #Set max and min values, and normalize (to ensure positive values)\n",
        "  min_value = np.min(all_values)\n",
        "  max_value = np.max(all_values)\n",
        "  all_values = (all_values - min_value) / (max_value - min_value) * 10\n",
        "\n",
        "  #add r after normalization to increase level\n",
        "  all_values[idxControl] += r\n",
        "  all_values[idxAttention] += r\n",
        "  all_values[idxTangibles] += r\n",
        "  all_values[idxEscape] += r\n",
        "  all_values[idxAlone] += r\n",
        "\n",
        "  #Combine labels and values in same list\n",
        "  ME_data = [labels, all_values]\n",
        "\n",
        "  #Return ME data\n",
        "  return(ME_data)\n",
        "\n"
      ],
      "metadata": {
        "id": "1j5qOxC2aE9O"
      },
      "execution_count": 4,
      "outputs": []
    },
    {
      "cell_type": "code",
      "source": [
        "#Function to produce ME graph\n",
        "\n",
        "def ATgraph(ME_data, trControl, trAttention, trTangibles, trEscape, trAlone):\n",
        "\n",
        "    #Identify indices for all conditions\n",
        "    Control, = np.where(ME_data[0] == 'Control')\n",
        "    Attention, = np.where(ME_data[0] == 'Attention')\n",
        "    Tangibles, = np.where(ME_data[0] == 'Tangibles')\n",
        "    Escape, = np.where(ME_data[0] == 'Escape')\n",
        "    Alone, = np.where(ME_data[0] == 'Alone')\n",
        "\n",
        "    #Extract values for each condition\n",
        "    valuesControl = ME_data[1][Control]\n",
        "    valuesTest = ME_data[1][Attention]\n",
        "    valuesTestB = ME_data[1][Tangibles]\n",
        "    valuesTestC = ME_data[1][Escape]\n",
        "    valuesTestD = ME_data[1][Alone]\n",
        "\n",
        "    #Calculate mean and sd of control\n",
        "    meanControl = np.mean(valuesControl)\n",
        "    stdControl = np.std(valuesControl)\n",
        "\n",
        "    #Initialize figure\n",
        "    fig = plt.figure()\n",
        "    ax = fig.add_subplot(111)\n",
        "\n",
        "    #Plot data\n",
        "    plt.plot(Control+1, valuesControl, 'ks-', label = 'Control')\n",
        "    plt.plot(Attention+1, valuesTest, 'ko-', label = 'Attention')\n",
        "    plt.plot(Tangibles+1, valuesTestB, 'go-', label = 'Tangibles')\n",
        "    plt.plot(Escape+1, valuesTestC, 'ro-', label = 'Escape')\n",
        "    plt.plot(Alone+1, valuesTestD, 'bo-', label = 'Alone')\n",
        "\n",
        "    #Add axes titles\n",
        "    plt.xlabel('Session')\n",
        "    plt.ylabel('Behavior')\n",
        "\n",
        "    #Add legend to graph\n",
        "    ax.legend(loc='upper right', frameon=False)\n",
        "\n",
        "    #Adjust height of graph\n",
        "    plt.ylim(0, np.max(ME_data[1]*1.5))\n",
        "\n",
        "    #Remove right and top borders\n",
        "    ax.spines['right'].set_visible(False)\n",
        "    ax.spines['top'].set_visible(False)\n",
        "\n",
        "    #Plot UCL and LCL\n",
        "    if meanControl == 0:\n",
        "        plt.axhline(y=0, color='b', linestyle='--', label='UCL/LCL at 0')\n",
        "    else:\n",
        "        plt.axhline(y=meanControl + stdControl, color='b', linestyle='--', label='UCL')\n",
        "        plt.axhline(y=meanControl - stdControl, color='b', linestyle='--', label='LCL')\n"
      ],
      "metadata": {
        "id": "-xviJ6n7hy8p"
      },
      "execution_count": 5,
      "outputs": []
    },
    {
      "cell_type": "code",
      "source": [
        "# Define ranges for each parameter\n",
        "nb_points_list = [6, 10]\n",
        "a_list = [0, 0.2]\n",
        "tr_list_Control = [0] #determine number of 0s, angle of trend from effect size data\n",
        "tr_list_Attention = [0]\n",
        "tr_list_Tangibles = [0]\n",
        "tr_list_Escape = [0]\n",
        "tr_list_Alone = [0]\n",
        "smd_list_Attention = [0, 3]\n",
        "smd_list_Tangibles = [0, 3]\n",
        "smd_list_Escape = [0, 3]\n",
        "smd_list_Alone = [0, 3]\n",
        "r_list = [0]\n",
        "ct = 10\n",
        "\n",
        "\n",
        "# Function to create data and graph\n",
        "def perform_simulations():\n",
        "\n",
        "  #Empty list to contain all the input data\n",
        "  all_ME_data = []\n",
        "\n",
        "  #Empty vector to contain the true values\n",
        "  true_values = np.empty((0,))\n",
        "\n",
        "  #Empty vector to contain trend values for each data series\n",
        "  trend_values = np.empty((0, 5))\n",
        "\n",
        "  #pp\n",
        "  pp = PdfPages('ME5graphTest.pdf')\n",
        "\n",
        "  # Loop over each combination of parameters\n",
        "  for nb in nb_points_list:\n",
        "       for a in a_list:\n",
        "          for trControl in tr_list_Control:\n",
        "              for trAttention in tr_list_Attention:\n",
        "                  for trTangibles in tr_list_Tangibles:\n",
        "                      for trEscape in tr_list_Escape:\n",
        "                          for trAlone in tr_list_Alone:\n",
        "                              for smdAttention in smd_list_Attention:\n",
        "                                  for smdTangibles in smd_list_Tangibles:\n",
        "                                      for smdEscape in smd_list_Escape:\n",
        "                                          for smdAlone in smd_list_Alone:\n",
        "                                              for r in r_list:\n",
        "\n",
        "                                                  # Generate ME data for the set of parameters\n",
        "                                                  ME_data = create_ME_data(a=a, trControl=trControl, trAttention=trAttention, trTangibles=trTangibles, trEscape=trEscape, trAlone=trAlone, ct=ct, nb_points=nb, smdAttention=smdAttention, smdTangibles=smdTangibles, smdEscape=smdEscape, smdAlone=smdAlone, r=r, alternation='semi-random')\n",
        "\n",
        "                                                  # Plot graph\n",
        "                                                  plt.figure()\n",
        "                                                  ATgraph(ME_data, trControl, trAttention, trTangibles, trEscape, trAlone)\n",
        "\n",
        "                                                  # Title to distinguish different graphs\n",
        "                                                  plt.title(f'nb_points={nb}, a={a}, trControl={trControl}, trAttnention={trAttention}, trTangibles={trTangibles},trEscape={trEscape},trControl={trControl}, smdAttention={smdAttention}, smdTangibles={smdTangibles}, smdEscape={smdEscape}, smdAlone={smdAlone}, r={r}', fontsize=4)\n",
        "\n",
        "                                                  #plt.show()\n",
        "                                                  pp.savefig()\n",
        "                                                  plt.close()\n",
        "\n",
        "                                                  #Add data series to list\n",
        "                                                  all_ME_data.append(ME_data)\n",
        "\n",
        "                                                  #Determine true values\n",
        "                                                  smd_values = [smdAttention, smdTangibles, smdEscape, smdAlone]\n",
        "                                                  count_greater_than_zero = sum(1 for smd in smd_values if smd > 0)\n",
        "                                                  true_value = 2 if count_greater_than_zero >= 2 else (1 if count_greater_than_zero == 1 else 0)\n",
        "\n",
        "                                                  #Add trend value to vector\n",
        "                                                  trend_values = np.vstack((trend_values, np.array([[trControl, trAttention, trTangibles, trEscape, trAlone]])))\n",
        "\n",
        "                                                  #Add true value to vector\n",
        "                                                  true_values = np.hstack((true_values, true_value))\n",
        "\n",
        "  pp.close()\n",
        "\n",
        "  return all_ME_data, true_values, trend_values\n",
        "\n",
        "#Call\n",
        "all_ME_data, true_values, trend_values = perform_simulations()\n"
      ],
      "metadata": {
        "colab": {
          "base_uri": "https://localhost:8080/",
          "height": 1000
        },
        "id": "BF44fS06mJa3",
        "outputId": "9e75f69c-6022-435a-a3d4-64740882dc3e",
        "collapsed": true
      },
      "execution_count": 6,
      "outputs": [
        {
          "output_type": "stream",
          "name": "stderr",
          "text": [
            "<ipython-input-5-82444e1222f7>:24: RuntimeWarning: More than 20 figures have been opened. Figures created through the pyplot interface (`matplotlib.pyplot.figure`) are retained until explicitly closed and may consume too much memory. (To control this warning, see the rcParam `figure.max_open_warning`). Consider using `matplotlib.pyplot.close()`.\n",
            "  fig = plt.figure()\n",
            "<ipython-input-6-d4d4a0592169>:50: RuntimeWarning: More than 20 figures have been opened. Figures created through the pyplot interface (`matplotlib.pyplot.figure`) are retained until explicitly closed and may consume too much memory. (To control this warning, see the rcParam `figure.max_open_warning`). Consider using `matplotlib.pyplot.close()`.\n",
            "  plt.figure()\n"
          ]
        },
        {
          "output_type": "display_data",
          "data": {
            "text/plain": [
              "<Figure size 640x480 with 0 Axes>"
            ]
          },
          "metadata": {}
        },
        {
          "output_type": "display_data",
          "data": {
            "text/plain": [
              "<Figure size 640x480 with 0 Axes>"
            ]
          },
          "metadata": {}
        },
        {
          "output_type": "display_data",
          "data": {
            "text/plain": [
              "<Figure size 640x480 with 0 Axes>"
            ]
          },
          "metadata": {}
        },
        {
          "output_type": "display_data",
          "data": {
            "text/plain": [
              "<Figure size 640x480 with 0 Axes>"
            ]
          },
          "metadata": {}
        },
        {
          "output_type": "display_data",
          "data": {
            "text/plain": [
              "<Figure size 640x480 with 0 Axes>"
            ]
          },
          "metadata": {}
        },
        {
          "output_type": "display_data",
          "data": {
            "text/plain": [
              "<Figure size 640x480 with 0 Axes>"
            ]
          },
          "metadata": {}
        },
        {
          "output_type": "display_data",
          "data": {
            "text/plain": [
              "<Figure size 640x480 with 0 Axes>"
            ]
          },
          "metadata": {}
        },
        {
          "output_type": "display_data",
          "data": {
            "text/plain": [
              "<Figure size 640x480 with 0 Axes>"
            ]
          },
          "metadata": {}
        },
        {
          "output_type": "display_data",
          "data": {
            "text/plain": [
              "<Figure size 640x480 with 0 Axes>"
            ]
          },
          "metadata": {}
        },
        {
          "output_type": "display_data",
          "data": {
            "text/plain": [
              "<Figure size 640x480 with 0 Axes>"
            ]
          },
          "metadata": {}
        },
        {
          "output_type": "display_data",
          "data": {
            "text/plain": [
              "<Figure size 640x480 with 0 Axes>"
            ]
          },
          "metadata": {}
        },
        {
          "output_type": "display_data",
          "data": {
            "text/plain": [
              "<Figure size 640x480 with 0 Axes>"
            ]
          },
          "metadata": {}
        },
        {
          "output_type": "display_data",
          "data": {
            "text/plain": [
              "<Figure size 640x480 with 0 Axes>"
            ]
          },
          "metadata": {}
        },
        {
          "output_type": "display_data",
          "data": {
            "text/plain": [
              "<Figure size 640x480 with 0 Axes>"
            ]
          },
          "metadata": {}
        },
        {
          "output_type": "display_data",
          "data": {
            "text/plain": [
              "<Figure size 640x480 with 0 Axes>"
            ]
          },
          "metadata": {}
        },
        {
          "output_type": "display_data",
          "data": {
            "text/plain": [
              "<Figure size 640x480 with 0 Axes>"
            ]
          },
          "metadata": {}
        },
        {
          "output_type": "display_data",
          "data": {
            "text/plain": [
              "<Figure size 640x480 with 0 Axes>"
            ]
          },
          "metadata": {}
        },
        {
          "output_type": "display_data",
          "data": {
            "text/plain": [
              "<Figure size 640x480 with 0 Axes>"
            ]
          },
          "metadata": {}
        },
        {
          "output_type": "display_data",
          "data": {
            "text/plain": [
              "<Figure size 640x480 with 0 Axes>"
            ]
          },
          "metadata": {}
        },
        {
          "output_type": "display_data",
          "data": {
            "text/plain": [
              "<Figure size 640x480 with 0 Axes>"
            ]
          },
          "metadata": {}
        },
        {
          "output_type": "display_data",
          "data": {
            "text/plain": [
              "<Figure size 640x480 with 0 Axes>"
            ]
          },
          "metadata": {}
        },
        {
          "output_type": "display_data",
          "data": {
            "text/plain": [
              "<Figure size 640x480 with 0 Axes>"
            ]
          },
          "metadata": {}
        },
        {
          "output_type": "display_data",
          "data": {
            "text/plain": [
              "<Figure size 640x480 with 0 Axes>"
            ]
          },
          "metadata": {}
        },
        {
          "output_type": "display_data",
          "data": {
            "text/plain": [
              "<Figure size 640x480 with 0 Axes>"
            ]
          },
          "metadata": {}
        },
        {
          "output_type": "display_data",
          "data": {
            "text/plain": [
              "<Figure size 640x480 with 0 Axes>"
            ]
          },
          "metadata": {}
        },
        {
          "output_type": "display_data",
          "data": {
            "text/plain": [
              "<Figure size 640x480 with 0 Axes>"
            ]
          },
          "metadata": {}
        },
        {
          "output_type": "display_data",
          "data": {
            "text/plain": [
              "<Figure size 640x480 with 0 Axes>"
            ]
          },
          "metadata": {}
        },
        {
          "output_type": "display_data",
          "data": {
            "text/plain": [
              "<Figure size 640x480 with 0 Axes>"
            ]
          },
          "metadata": {}
        },
        {
          "output_type": "display_data",
          "data": {
            "text/plain": [
              "<Figure size 640x480 with 0 Axes>"
            ]
          },
          "metadata": {}
        },
        {
          "output_type": "display_data",
          "data": {
            "text/plain": [
              "<Figure size 640x480 with 0 Axes>"
            ]
          },
          "metadata": {}
        },
        {
          "output_type": "display_data",
          "data": {
            "text/plain": [
              "<Figure size 640x480 with 0 Axes>"
            ]
          },
          "metadata": {}
        },
        {
          "output_type": "display_data",
          "data": {
            "text/plain": [
              "<Figure size 640x480 with 0 Axes>"
            ]
          },
          "metadata": {}
        },
        {
          "output_type": "display_data",
          "data": {
            "text/plain": [
              "<Figure size 640x480 with 0 Axes>"
            ]
          },
          "metadata": {}
        },
        {
          "output_type": "display_data",
          "data": {
            "text/plain": [
              "<Figure size 640x480 with 0 Axes>"
            ]
          },
          "metadata": {}
        },
        {
          "output_type": "display_data",
          "data": {
            "text/plain": [
              "<Figure size 640x480 with 0 Axes>"
            ]
          },
          "metadata": {}
        },
        {
          "output_type": "display_data",
          "data": {
            "text/plain": [
              "<Figure size 640x480 with 0 Axes>"
            ]
          },
          "metadata": {}
        },
        {
          "output_type": "display_data",
          "data": {
            "text/plain": [
              "<Figure size 640x480 with 0 Axes>"
            ]
          },
          "metadata": {}
        },
        {
          "output_type": "display_data",
          "data": {
            "text/plain": [
              "<Figure size 640x480 with 0 Axes>"
            ]
          },
          "metadata": {}
        },
        {
          "output_type": "display_data",
          "data": {
            "text/plain": [
              "<Figure size 640x480 with 0 Axes>"
            ]
          },
          "metadata": {}
        },
        {
          "output_type": "display_data",
          "data": {
            "text/plain": [
              "<Figure size 640x480 with 0 Axes>"
            ]
          },
          "metadata": {}
        },
        {
          "output_type": "display_data",
          "data": {
            "text/plain": [
              "<Figure size 640x480 with 0 Axes>"
            ]
          },
          "metadata": {}
        },
        {
          "output_type": "display_data",
          "data": {
            "text/plain": [
              "<Figure size 640x480 with 0 Axes>"
            ]
          },
          "metadata": {}
        },
        {
          "output_type": "display_data",
          "data": {
            "text/plain": [
              "<Figure size 640x480 with 0 Axes>"
            ]
          },
          "metadata": {}
        },
        {
          "output_type": "display_data",
          "data": {
            "text/plain": [
              "<Figure size 640x480 with 0 Axes>"
            ]
          },
          "metadata": {}
        },
        {
          "output_type": "display_data",
          "data": {
            "text/plain": [
              "<Figure size 640x480 with 0 Axes>"
            ]
          },
          "metadata": {}
        },
        {
          "output_type": "display_data",
          "data": {
            "text/plain": [
              "<Figure size 640x480 with 0 Axes>"
            ]
          },
          "metadata": {}
        },
        {
          "output_type": "display_data",
          "data": {
            "text/plain": [
              "<Figure size 640x480 with 0 Axes>"
            ]
          },
          "metadata": {}
        },
        {
          "output_type": "display_data",
          "data": {
            "text/plain": [
              "<Figure size 640x480 with 0 Axes>"
            ]
          },
          "metadata": {}
        },
        {
          "output_type": "display_data",
          "data": {
            "text/plain": [
              "<Figure size 640x480 with 0 Axes>"
            ]
          },
          "metadata": {}
        },
        {
          "output_type": "display_data",
          "data": {
            "text/plain": [
              "<Figure size 640x480 with 0 Axes>"
            ]
          },
          "metadata": {}
        },
        {
          "output_type": "display_data",
          "data": {
            "text/plain": [
              "<Figure size 640x480 with 0 Axes>"
            ]
          },
          "metadata": {}
        },
        {
          "output_type": "display_data",
          "data": {
            "text/plain": [
              "<Figure size 640x480 with 0 Axes>"
            ]
          },
          "metadata": {}
        },
        {
          "output_type": "display_data",
          "data": {
            "text/plain": [
              "<Figure size 640x480 with 0 Axes>"
            ]
          },
          "metadata": {}
        },
        {
          "output_type": "display_data",
          "data": {
            "text/plain": [
              "<Figure size 640x480 with 0 Axes>"
            ]
          },
          "metadata": {}
        },
        {
          "output_type": "display_data",
          "data": {
            "text/plain": [
              "<Figure size 640x480 with 0 Axes>"
            ]
          },
          "metadata": {}
        },
        {
          "output_type": "display_data",
          "data": {
            "text/plain": [
              "<Figure size 640x480 with 0 Axes>"
            ]
          },
          "metadata": {}
        },
        {
          "output_type": "display_data",
          "data": {
            "text/plain": [
              "<Figure size 640x480 with 0 Axes>"
            ]
          },
          "metadata": {}
        },
        {
          "output_type": "display_data",
          "data": {
            "text/plain": [
              "<Figure size 640x480 with 0 Axes>"
            ]
          },
          "metadata": {}
        },
        {
          "output_type": "display_data",
          "data": {
            "text/plain": [
              "<Figure size 640x480 with 0 Axes>"
            ]
          },
          "metadata": {}
        },
        {
          "output_type": "display_data",
          "data": {
            "text/plain": [
              "<Figure size 640x480 with 0 Axes>"
            ]
          },
          "metadata": {}
        },
        {
          "output_type": "display_data",
          "data": {
            "text/plain": [
              "<Figure size 640x480 with 0 Axes>"
            ]
          },
          "metadata": {}
        },
        {
          "output_type": "display_data",
          "data": {
            "text/plain": [
              "<Figure size 640x480 with 0 Axes>"
            ]
          },
          "metadata": {}
        },
        {
          "output_type": "display_data",
          "data": {
            "text/plain": [
              "<Figure size 640x480 with 0 Axes>"
            ]
          },
          "metadata": {}
        },
        {
          "output_type": "display_data",
          "data": {
            "text/plain": [
              "<Figure size 640x480 with 0 Axes>"
            ]
          },
          "metadata": {}
        }
      ]
    },
    {
      "cell_type": "markdown",
      "source": [],
      "metadata": {
        "id": "FICT2ztYJF8k"
      }
    },
    {
      "cell_type": "code",
      "source": [
        "#Import packages\n",
        "import pandas as pd\n",
        "import numpy as np\n",
        "import matplotlib.pyplot as plt\n",
        "from math import tan, radians\n",
        "from sklearn.linear_model import LinearRegression\n",
        "from sklearn import preprocessing\n",
        "from sklearn.cluster import KMeans\n",
        "\n",
        "lm = LinearRegression()\n",
        "standard_scaler = preprocessing.StandardScaler()\n",
        "\n",
        "# List of condition names\n",
        "conditions_names = ['Control', 'Attention', 'Tangibles', 'Escape', 'Alone']"
      ],
      "metadata": {
        "id": "xT09ukjKFlgM"
      },
      "execution_count": 7,
      "outputs": []
    },
    {
      "cell_type": "code",
      "source": [
        "def standardize_data(x):\n",
        "\n",
        "    features = []\n",
        "    conditions = []  #Initialize conditions list\n",
        "\n",
        "    #identify indicies\n",
        "    indexControl = np.where(x[0]== 'Control')\n",
        "    indexAttention = np.where(x[0]== 'Attention')\n",
        "    indexTangibles = np.where(x[0]== 'Tangibles')\n",
        "    indexEscape = np.where(x[0]== 'Escape')\n",
        "    indexAlone = np.where(x[0]== 'Alone')\n",
        "\n",
        "    #extract data\n",
        "    Control = (x[1][indexControl].astype(float)).flatten()\n",
        "    Attention = (x[1][indexAttention].astype(float)).flatten()\n",
        "    Tangibles = (x[1][indexTangibles].astype(float)).flatten()\n",
        "    Escape = (x[1][indexEscape].astype(float)).flatten()\n",
        "    Alone = (x[1][indexAlone].astype(float)).flatten()\n",
        "\n",
        "    conditions.extend([Control, Attention, Tangibles, Escape, Alone]) # Add conditions to the list\n",
        "\n",
        "    #mean and SD\n",
        "    overallMean = np.mean(np.hstack((Control, Attention, Tangibles, Escape, Alone)))\n",
        "    overallSd = np.std(np.hstack((Control, Attention, Tangibles, Escape, Alone)))\n",
        "\n",
        "    #standardize\n",
        "    Control  = (Control-overallMean)/overallSd\n",
        "    Control[np.isnan(Control)] = 0\n",
        "\n",
        "    Attention = (Attention-overallMean)/overallSd\n",
        "    Attention[np.isnan(Attention)] = 0\n",
        "\n",
        "    Tangibles = (Tangibles-overallMean)/overallSd\n",
        "    Tangibles[np.isnan(Tangibles)] = 0\n",
        "\n",
        "    Escape = (Escape-overallMean)/overallSd\n",
        "    Escape[np.isnan(Escape)] = 0\n",
        "\n",
        "    Alone = (Alone-overallMean)/overallSd\n",
        "    Alone[np.isnan(Alone)] = 0\n",
        "\n",
        "    pointsControl = len(Control)\n",
        "    pointsTotal = pointsControl + len(Attention) + len(Tangibles) + len(Escape) + len(Alone)\n",
        "\n",
        "\n",
        "    #Collect basic statistics: mean and standard deviation for each condition\n",
        "    features.extend([np.mean(Control), np.mean(Attention), np.mean(Tangibles), np.mean(Escape), np.mean(Alone)])\n",
        "    features.extend([np.std(Control), np.std(Attention), np.std(Tangibles), np.std(Escape), np.std(Alone)])\n",
        "\n",
        "\n",
        "    #Fit linear models for each condition to collect slope and intercept (linear trend)\n",
        "    for condition in conditions:\n",
        "        if len(condition) > 0:  # Avoid fitting if condition data is empty\n",
        "            lm.fit(np.array(range(len(condition))).reshape(-1, 1), condition.reshape(-1, 1))\n",
        "            features.append(float(lm.intercept_))  # Append intercept of regression line\n",
        "            features.append(float(lm.coef_))       # Append slope of regression line\n",
        "        else:\n",
        "            # If condition is empty, append zeros for both intercept and slope\n",
        "            features.append(0)\n",
        "            features.append(0)\n",
        "\n",
        "    #Calculate the Interquartile Range (IQR) for each condition\n",
        "    for condition in conditions:\n",
        "        if len(condition) > 0:  #Avoid calculation if condition data is empty\n",
        "            q75, q25 = np.percentile(condition, [75, 25])\n",
        "            iqr = q75 - q25\n",
        "            features.append(iqr)  #Append IQR for the condition\n",
        "        else:\n",
        "            features.append(0)   #If condition is empty, append 0 for IQR\n",
        "\n",
        "    return np.array(features).flatten()"
      ],
      "metadata": {
        "id": "U2T2hMpeD575"
      },
      "execution_count": 12,
      "outputs": []
    },
    {
      "cell_type": "code",
      "source": [
        "#Call\n",
        "all_ME_data, true_values, trend_values = perform_simulations()\n",
        "\n",
        "#Collect all features using the standardize_data function\n",
        "all_features = []\n",
        "expected_feature_length = 39\n",
        "\n",
        "for i, ME_data in enumerate(all_ME_data):\n",
        "    try:\n",
        "        #basic features from standardize_data\n",
        "        features = standardize_data(ME_data)\n",
        "\n",
        "        #Extract raw conditions from data\n",
        "        Control = (ME_data[1][np.where(ME_data[0] == 'Control')].astype(float)).flatten()\n",
        "        Attention = (ME_data[1][np.where(ME_data[0] == 'Attention')].astype(float)).flatten()\n",
        "        Tangibles = (ME_data[1][np.where(ME_data[0] == 'Tangibles')].astype(float)).flatten()\n",
        "        Escape = (ME_data[1][np.where(ME_data[0] == 'Escape')].astype(float)).flatten()\n",
        "        Alone = (ME_data[1][np.where(ME_data[0] == 'Alone')].astype(float)).flatten()\n",
        "\n",
        "        #Stability (Standard Deviation / Mean) for each condition\n",
        "        stability_conditions = [Control, Attention, Tangibles, Escape, Alone]\n",
        "        for condition in stability_conditions:\n",
        "            stability = np.std(condition) / np.mean(condition) if np.mean(condition) != 0 else np.inf\n",
        "            features = np.append(features, stability)\n",
        "\n",
        "        #Percentage of Non-Overlapping Data (PND) with Control\n",
        "        def calculate_pnd(control_data, comparison_data):\n",
        "            if len(control_data) == 0 or len(comparison_data) == 0:\n",
        "                return 0  # If either dataset is empty, return 0 for PND\n",
        "            threshold = np.max(control_data)\n",
        "            non_overlapping_points = [point for point in comparison_data if point > threshold]\n",
        "            pnd = len(non_overlapping_points) / len(comparison_data)\n",
        "            return pnd\n",
        "\n",
        "        #Calculate PND for each condition compared to Control\n",
        "        features = np.append(features, calculate_pnd(Control, Attention))\n",
        "        features = np.append(features, calculate_pnd(Control, Tangibles))\n",
        "        features = np.append(features, calculate_pnd(Control, Escape))\n",
        "        features = np.append(features, calculate_pnd(Control, Alone))\n",
        "\n",
        "        #Highest Response Condition\n",
        "        condition_means = [np.mean(Control), np.mean(Attention), np.mean(Tangibles), np.mean(Escape), np.mean(Alone)]\n",
        "        highest_response_condition = np.argmax(condition_means)  # Store as an integer representing index\n",
        "        features = np.append(features, highest_response_condition)\n",
        "\n",
        "        #Condition Clustering (KMeans)\n",
        "        kmeans_data = np.array([condition_means]).reshape(-1, 1)  # Corrected reshape\n",
        "        kmeans = KMeans(n_clusters=2, random_state=0).fit(kmeans_data)\n",
        "        cluster_labels = kmeans.labels_\n",
        "\n",
        "        #Identify if each condition falls in the same cluster as Control\n",
        "        control_cluster = cluster_labels[0]\n",
        "        for label in cluster_labels[1:]:\n",
        "            features = np.append(features, int(label == control_cluster))\n",
        "\n",
        "        #Debugging: Check the length of features\n",
        "        if len(features) != expected_feature_length:\n",
        "            print(f\"Inconsistent feature length at index {i}: {len(features)} (expected {expected_feature_length})\")\n",
        "            # Add padding if features are shorter, to maintain consistent length\n",
        "            if len(features) < expected_feature_length:\n",
        "                features = np.append(features, [0] * (expected_feature_length - len(features)))\n",
        "\n",
        "        #Add the complete feature set to all_features\n",
        "        all_features.append(features)\n",
        "\n",
        "    except Exception as e:\n",
        "        print(f\"Error processing data at index {i}: {e}\")\n",
        "\n",
        "#Ensure that all_features has at least one element before proceeding\n",
        "if not all_features:\n",
        "    raise ValueError(\"No features were generated. Please check the input data and feature extraction logic.\")\n",
        "\n",
        "#Convert features to a DataFrame\n",
        "columns = [\n",
        "    'Mean Control', 'Mean Attention', 'Mean Tangibles', 'Mean Escape', 'Mean Alone',\n",
        "    'Std Control', 'Std Attention', 'Std Tangibles', 'Std Escape', 'Std Alone',\n",
        "    'Intercept Control', 'Slope Control',\n",
        "    'Intercept Attention', 'Slope Attention',\n",
        "    'Intercept Tangibles', 'Slope Tangibles',\n",
        "    'Intercept Escape', 'Slope Escape',\n",
        "    'Intercept Alone', 'Slope Alone',\n",
        "    'IQR Control', 'IQR Attention', 'IQR Tangibles', 'IQR Escape', 'IQR Alone',\n",
        "    'Stability Control', 'Stability Attention', 'Stability Tangibles', 'Stability Escape', 'Stability Alone',\n",
        "    'PND Control-Attention', 'PND Control-Tangibles', 'PND Control-Escape', 'PND Control-Alone',\n",
        "    'Highest Response Condition',\n",
        "    'Cluster Similarity Attention', 'Cluster Similarity Tangibles', 'Cluster Similarity Escape', 'Cluster Similarity Alone'\n",
        "]\n",
        "\n",
        "#Correct length of features before creating DataFrame\n",
        "all_features = np.array(all_features)\n",
        "assert all_features.shape[1] == len(columns), \"Mismatch between number of features and column names.\"\n",
        "\n",
        "df_features = pd.DataFrame(all_features, columns=columns)\n",
        "\n",
        "#Save DataFrame to CSV\n",
        "df_features.to_csv('std_features_5condition.csv', index=False)\n",
        "\n",
        "print(\"Features saved to std_features_5condition.csv\")"
      ],
      "metadata": {
        "colab": {
          "base_uri": "https://localhost:8080/",
          "height": 1000
        },
        "id": "vrHfnyc8YQxE",
        "outputId": "9b4d802d-5bad-409c-b20d-da0a03f11d57"
      },
      "execution_count": 13,
      "outputs": [
        {
          "output_type": "stream",
          "name": "stderr",
          "text": [
            "<ipython-input-5-82444e1222f7>:24: RuntimeWarning: More than 20 figures have been opened. Figures created through the pyplot interface (`matplotlib.pyplot.figure`) are retained until explicitly closed and may consume too much memory. (To control this warning, see the rcParam `figure.max_open_warning`). Consider using `matplotlib.pyplot.close()`.\n",
            "  fig = plt.figure()\n",
            "<ipython-input-6-d4d4a0592169>:50: RuntimeWarning: More than 20 figures have been opened. Figures created through the pyplot interface (`matplotlib.pyplot.figure`) are retained until explicitly closed and may consume too much memory. (To control this warning, see the rcParam `figure.max_open_warning`). Consider using `matplotlib.pyplot.close()`.\n",
            "  plt.figure()\n",
            "<ipython-input-12-668b296618b7>:55: DeprecationWarning: Conversion of an array with ndim > 0 to a scalar is deprecated, and will error in future. Ensure you extract a single element from your array before performing this operation. (Deprecated NumPy 1.25.)\n",
            "  features.append(float(lm.intercept_))  # Append intercept of regression line\n",
            "<ipython-input-12-668b296618b7>:56: DeprecationWarning: Conversion of an array with ndim > 0 to a scalar is deprecated, and will error in future. Ensure you extract a single element from your array before performing this operation. (Deprecated NumPy 1.25.)\n",
            "  features.append(float(lm.coef_))       # Append slope of regression line\n",
            "<ipython-input-12-668b296618b7>:55: DeprecationWarning: Conversion of an array with ndim > 0 to a scalar is deprecated, and will error in future. Ensure you extract a single element from your array before performing this operation. (Deprecated NumPy 1.25.)\n",
            "  features.append(float(lm.intercept_))  # Append intercept of regression line\n",
            "<ipython-input-12-668b296618b7>:56: DeprecationWarning: Conversion of an array with ndim > 0 to a scalar is deprecated, and will error in future. Ensure you extract a single element from your array before performing this operation. (Deprecated NumPy 1.25.)\n",
            "  features.append(float(lm.coef_))       # Append slope of regression line\n",
            "<ipython-input-12-668b296618b7>:55: DeprecationWarning: Conversion of an array with ndim > 0 to a scalar is deprecated, and will error in future. Ensure you extract a single element from your array before performing this operation. (Deprecated NumPy 1.25.)\n",
            "  features.append(float(lm.intercept_))  # Append intercept of regression line\n",
            "<ipython-input-12-668b296618b7>:56: DeprecationWarning: Conversion of an array with ndim > 0 to a scalar is deprecated, and will error in future. Ensure you extract a single element from your array before performing this operation. (Deprecated NumPy 1.25.)\n",
            "  features.append(float(lm.coef_))       # Append slope of regression line\n",
            "<ipython-input-12-668b296618b7>:55: DeprecationWarning: Conversion of an array with ndim > 0 to a scalar is deprecated, and will error in future. Ensure you extract a single element from your array before performing this operation. (Deprecated NumPy 1.25.)\n",
            "  features.append(float(lm.intercept_))  # Append intercept of regression line\n",
            "<ipython-input-12-668b296618b7>:56: DeprecationWarning: Conversion of an array with ndim > 0 to a scalar is deprecated, and will error in future. Ensure you extract a single element from your array before performing this operation. (Deprecated NumPy 1.25.)\n",
            "  features.append(float(lm.coef_))       # Append slope of regression line\n",
            "<ipython-input-12-668b296618b7>:55: DeprecationWarning: Conversion of an array with ndim > 0 to a scalar is deprecated, and will error in future. Ensure you extract a single element from your array before performing this operation. (Deprecated NumPy 1.25.)\n",
            "  features.append(float(lm.intercept_))  # Append intercept of regression line\n",
            "<ipython-input-12-668b296618b7>:56: DeprecationWarning: Conversion of an array with ndim > 0 to a scalar is deprecated, and will error in future. Ensure you extract a single element from your array before performing this operation. (Deprecated NumPy 1.25.)\n",
            "  features.append(float(lm.coef_))       # Append slope of regression line\n",
            "<ipython-input-12-668b296618b7>:55: DeprecationWarning: Conversion of an array with ndim > 0 to a scalar is deprecated, and will error in future. Ensure you extract a single element from your array before performing this operation. (Deprecated NumPy 1.25.)\n",
            "  features.append(float(lm.intercept_))  # Append intercept of regression line\n",
            "<ipython-input-12-668b296618b7>:56: DeprecationWarning: Conversion of an array with ndim > 0 to a scalar is deprecated, and will error in future. Ensure you extract a single element from your array before performing this operation. (Deprecated NumPy 1.25.)\n",
            "  features.append(float(lm.coef_))       # Append slope of regression line\n",
            "<ipython-input-12-668b296618b7>:55: DeprecationWarning: Conversion of an array with ndim > 0 to a scalar is deprecated, and will error in future. Ensure you extract a single element from your array before performing this operation. (Deprecated NumPy 1.25.)\n",
            "  features.append(float(lm.intercept_))  # Append intercept of regression line\n",
            "<ipython-input-12-668b296618b7>:56: DeprecationWarning: Conversion of an array with ndim > 0 to a scalar is deprecated, and will error in future. Ensure you extract a single element from your array before performing this operation. (Deprecated NumPy 1.25.)\n",
            "  features.append(float(lm.coef_))       # Append slope of regression line\n",
            "<ipython-input-12-668b296618b7>:55: DeprecationWarning: Conversion of an array with ndim > 0 to a scalar is deprecated, and will error in future. Ensure you extract a single element from your array before performing this operation. (Deprecated NumPy 1.25.)\n",
            "  features.append(float(lm.intercept_))  # Append intercept of regression line\n",
            "<ipython-input-12-668b296618b7>:56: DeprecationWarning: Conversion of an array with ndim > 0 to a scalar is deprecated, and will error in future. Ensure you extract a single element from your array before performing this operation. (Deprecated NumPy 1.25.)\n",
            "  features.append(float(lm.coef_))       # Append slope of regression line\n",
            "<ipython-input-12-668b296618b7>:55: DeprecationWarning: Conversion of an array with ndim > 0 to a scalar is deprecated, and will error in future. Ensure you extract a single element from your array before performing this operation. (Deprecated NumPy 1.25.)\n",
            "  features.append(float(lm.intercept_))  # Append intercept of regression line\n",
            "<ipython-input-12-668b296618b7>:56: DeprecationWarning: Conversion of an array with ndim > 0 to a scalar is deprecated, and will error in future. Ensure you extract a single element from your array before performing this operation. (Deprecated NumPy 1.25.)\n",
            "  features.append(float(lm.coef_))       # Append slope of regression line\n",
            "<ipython-input-12-668b296618b7>:55: DeprecationWarning: Conversion of an array with ndim > 0 to a scalar is deprecated, and will error in future. Ensure you extract a single element from your array before performing this operation. (Deprecated NumPy 1.25.)\n",
            "  features.append(float(lm.intercept_))  # Append intercept of regression line\n",
            "<ipython-input-12-668b296618b7>:56: DeprecationWarning: Conversion of an array with ndim > 0 to a scalar is deprecated, and will error in future. Ensure you extract a single element from your array before performing this operation. (Deprecated NumPy 1.25.)\n",
            "  features.append(float(lm.coef_))       # Append slope of regression line\n",
            "<ipython-input-12-668b296618b7>:55: DeprecationWarning: Conversion of an array with ndim > 0 to a scalar is deprecated, and will error in future. Ensure you extract a single element from your array before performing this operation. (Deprecated NumPy 1.25.)\n",
            "  features.append(float(lm.intercept_))  # Append intercept of regression line\n",
            "<ipython-input-12-668b296618b7>:56: DeprecationWarning: Conversion of an array with ndim > 0 to a scalar is deprecated, and will error in future. Ensure you extract a single element from your array before performing this operation. (Deprecated NumPy 1.25.)\n",
            "  features.append(float(lm.coef_))       # Append slope of regression line\n",
            "<ipython-input-12-668b296618b7>:55: DeprecationWarning: Conversion of an array with ndim > 0 to a scalar is deprecated, and will error in future. Ensure you extract a single element from your array before performing this operation. (Deprecated NumPy 1.25.)\n",
            "  features.append(float(lm.intercept_))  # Append intercept of regression line\n",
            "<ipython-input-12-668b296618b7>:56: DeprecationWarning: Conversion of an array with ndim > 0 to a scalar is deprecated, and will error in future. Ensure you extract a single element from your array before performing this operation. (Deprecated NumPy 1.25.)\n",
            "  features.append(float(lm.coef_))       # Append slope of regression line\n",
            "<ipython-input-12-668b296618b7>:55: DeprecationWarning: Conversion of an array with ndim > 0 to a scalar is deprecated, and will error in future. Ensure you extract a single element from your array before performing this operation. (Deprecated NumPy 1.25.)\n",
            "  features.append(float(lm.intercept_))  # Append intercept of regression line\n",
            "<ipython-input-12-668b296618b7>:56: DeprecationWarning: Conversion of an array with ndim > 0 to a scalar is deprecated, and will error in future. Ensure you extract a single element from your array before performing this operation. (Deprecated NumPy 1.25.)\n",
            "  features.append(float(lm.coef_))       # Append slope of regression line\n",
            "<ipython-input-12-668b296618b7>:55: DeprecationWarning: Conversion of an array with ndim > 0 to a scalar is deprecated, and will error in future. Ensure you extract a single element from your array before performing this operation. (Deprecated NumPy 1.25.)\n",
            "  features.append(float(lm.intercept_))  # Append intercept of regression line\n",
            "<ipython-input-12-668b296618b7>:56: DeprecationWarning: Conversion of an array with ndim > 0 to a scalar is deprecated, and will error in future. Ensure you extract a single element from your array before performing this operation. (Deprecated NumPy 1.25.)\n",
            "  features.append(float(lm.coef_))       # Append slope of regression line\n",
            "<ipython-input-12-668b296618b7>:55: DeprecationWarning: Conversion of an array with ndim > 0 to a scalar is deprecated, and will error in future. Ensure you extract a single element from your array before performing this operation. (Deprecated NumPy 1.25.)\n",
            "  features.append(float(lm.intercept_))  # Append intercept of regression line\n",
            "<ipython-input-12-668b296618b7>:56: DeprecationWarning: Conversion of an array with ndim > 0 to a scalar is deprecated, and will error in future. Ensure you extract a single element from your array before performing this operation. (Deprecated NumPy 1.25.)\n",
            "  features.append(float(lm.coef_))       # Append slope of regression line\n",
            "<ipython-input-12-668b296618b7>:55: DeprecationWarning: Conversion of an array with ndim > 0 to a scalar is deprecated, and will error in future. Ensure you extract a single element from your array before performing this operation. (Deprecated NumPy 1.25.)\n",
            "  features.append(float(lm.intercept_))  # Append intercept of regression line\n",
            "<ipython-input-12-668b296618b7>:56: DeprecationWarning: Conversion of an array with ndim > 0 to a scalar is deprecated, and will error in future. Ensure you extract a single element from your array before performing this operation. (Deprecated NumPy 1.25.)\n",
            "  features.append(float(lm.coef_))       # Append slope of regression line\n",
            "<ipython-input-12-668b296618b7>:55: DeprecationWarning: Conversion of an array with ndim > 0 to a scalar is deprecated, and will error in future. Ensure you extract a single element from your array before performing this operation. (Deprecated NumPy 1.25.)\n",
            "  features.append(float(lm.intercept_))  # Append intercept of regression line\n",
            "<ipython-input-12-668b296618b7>:56: DeprecationWarning: Conversion of an array with ndim > 0 to a scalar is deprecated, and will error in future. Ensure you extract a single element from your array before performing this operation. (Deprecated NumPy 1.25.)\n",
            "  features.append(float(lm.coef_))       # Append slope of regression line\n",
            "<ipython-input-12-668b296618b7>:55: DeprecationWarning: Conversion of an array with ndim > 0 to a scalar is deprecated, and will error in future. Ensure you extract a single element from your array before performing this operation. (Deprecated NumPy 1.25.)\n",
            "  features.append(float(lm.intercept_))  # Append intercept of regression line\n",
            "<ipython-input-12-668b296618b7>:56: DeprecationWarning: Conversion of an array with ndim > 0 to a scalar is deprecated, and will error in future. Ensure you extract a single element from your array before performing this operation. (Deprecated NumPy 1.25.)\n",
            "  features.append(float(lm.coef_))       # Append slope of regression line\n",
            "<ipython-input-12-668b296618b7>:55: DeprecationWarning: Conversion of an array with ndim > 0 to a scalar is deprecated, and will error in future. Ensure you extract a single element from your array before performing this operation. (Deprecated NumPy 1.25.)\n",
            "  features.append(float(lm.intercept_))  # Append intercept of regression line\n",
            "<ipython-input-12-668b296618b7>:56: DeprecationWarning: Conversion of an array with ndim > 0 to a scalar is deprecated, and will error in future. Ensure you extract a single element from your array before performing this operation. (Deprecated NumPy 1.25.)\n",
            "  features.append(float(lm.coef_))       # Append slope of regression line\n",
            "<ipython-input-12-668b296618b7>:55: DeprecationWarning: Conversion of an array with ndim > 0 to a scalar is deprecated, and will error in future. Ensure you extract a single element from your array before performing this operation. (Deprecated NumPy 1.25.)\n",
            "  features.append(float(lm.intercept_))  # Append intercept of regression line\n",
            "<ipython-input-12-668b296618b7>:56: DeprecationWarning: Conversion of an array with ndim > 0 to a scalar is deprecated, and will error in future. Ensure you extract a single element from your array before performing this operation. (Deprecated NumPy 1.25.)\n",
            "  features.append(float(lm.coef_))       # Append slope of regression line\n",
            "<ipython-input-12-668b296618b7>:55: DeprecationWarning: Conversion of an array with ndim > 0 to a scalar is deprecated, and will error in future. Ensure you extract a single element from your array before performing this operation. (Deprecated NumPy 1.25.)\n",
            "  features.append(float(lm.intercept_))  # Append intercept of regression line\n",
            "<ipython-input-12-668b296618b7>:56: DeprecationWarning: Conversion of an array with ndim > 0 to a scalar is deprecated, and will error in future. Ensure you extract a single element from your array before performing this operation. (Deprecated NumPy 1.25.)\n",
            "  features.append(float(lm.coef_))       # Append slope of regression line\n",
            "<ipython-input-12-668b296618b7>:55: DeprecationWarning: Conversion of an array with ndim > 0 to a scalar is deprecated, and will error in future. Ensure you extract a single element from your array before performing this operation. (Deprecated NumPy 1.25.)\n",
            "  features.append(float(lm.intercept_))  # Append intercept of regression line\n",
            "<ipython-input-12-668b296618b7>:56: DeprecationWarning: Conversion of an array with ndim > 0 to a scalar is deprecated, and will error in future. Ensure you extract a single element from your array before performing this operation. (Deprecated NumPy 1.25.)\n",
            "  features.append(float(lm.coef_))       # Append slope of regression line\n",
            "<ipython-input-12-668b296618b7>:55: DeprecationWarning: Conversion of an array with ndim > 0 to a scalar is deprecated, and will error in future. Ensure you extract a single element from your array before performing this operation. (Deprecated NumPy 1.25.)\n",
            "  features.append(float(lm.intercept_))  # Append intercept of regression line\n",
            "<ipython-input-12-668b296618b7>:56: DeprecationWarning: Conversion of an array with ndim > 0 to a scalar is deprecated, and will error in future. Ensure you extract a single element from your array before performing this operation. (Deprecated NumPy 1.25.)\n",
            "  features.append(float(lm.coef_))       # Append slope of regression line\n",
            "<ipython-input-12-668b296618b7>:55: DeprecationWarning: Conversion of an array with ndim > 0 to a scalar is deprecated, and will error in future. Ensure you extract a single element from your array before performing this operation. (Deprecated NumPy 1.25.)\n",
            "  features.append(float(lm.intercept_))  # Append intercept of regression line\n",
            "<ipython-input-12-668b296618b7>:56: DeprecationWarning: Conversion of an array with ndim > 0 to a scalar is deprecated, and will error in future. Ensure you extract a single element from your array before performing this operation. (Deprecated NumPy 1.25.)\n",
            "  features.append(float(lm.coef_))       # Append slope of regression line\n",
            "<ipython-input-12-668b296618b7>:55: DeprecationWarning: Conversion of an array with ndim > 0 to a scalar is deprecated, and will error in future. Ensure you extract a single element from your array before performing this operation. (Deprecated NumPy 1.25.)\n",
            "  features.append(float(lm.intercept_))  # Append intercept of regression line\n",
            "<ipython-input-12-668b296618b7>:56: DeprecationWarning: Conversion of an array with ndim > 0 to a scalar is deprecated, and will error in future. Ensure you extract a single element from your array before performing this operation. (Deprecated NumPy 1.25.)\n",
            "  features.append(float(lm.coef_))       # Append slope of regression line\n",
            "<ipython-input-12-668b296618b7>:55: DeprecationWarning: Conversion of an array with ndim > 0 to a scalar is deprecated, and will error in future. Ensure you extract a single element from your array before performing this operation. (Deprecated NumPy 1.25.)\n",
            "  features.append(float(lm.intercept_))  # Append intercept of regression line\n",
            "<ipython-input-12-668b296618b7>:56: DeprecationWarning: Conversion of an array with ndim > 0 to a scalar is deprecated, and will error in future. Ensure you extract a single element from your array before performing this operation. (Deprecated NumPy 1.25.)\n",
            "  features.append(float(lm.coef_))       # Append slope of regression line\n",
            "<ipython-input-12-668b296618b7>:55: DeprecationWarning: Conversion of an array with ndim > 0 to a scalar is deprecated, and will error in future. Ensure you extract a single element from your array before performing this operation. (Deprecated NumPy 1.25.)\n",
            "  features.append(float(lm.intercept_))  # Append intercept of regression line\n",
            "<ipython-input-12-668b296618b7>:56: DeprecationWarning: Conversion of an array with ndim > 0 to a scalar is deprecated, and will error in future. Ensure you extract a single element from your array before performing this operation. (Deprecated NumPy 1.25.)\n",
            "  features.append(float(lm.coef_))       # Append slope of regression line\n",
            "<ipython-input-12-668b296618b7>:55: DeprecationWarning: Conversion of an array with ndim > 0 to a scalar is deprecated, and will error in future. Ensure you extract a single element from your array before performing this operation. (Deprecated NumPy 1.25.)\n",
            "  features.append(float(lm.intercept_))  # Append intercept of regression line\n",
            "<ipython-input-12-668b296618b7>:56: DeprecationWarning: Conversion of an array with ndim > 0 to a scalar is deprecated, and will error in future. Ensure you extract a single element from your array before performing this operation. (Deprecated NumPy 1.25.)\n",
            "  features.append(float(lm.coef_))       # Append slope of regression line\n",
            "<ipython-input-12-668b296618b7>:55: DeprecationWarning: Conversion of an array with ndim > 0 to a scalar is deprecated, and will error in future. Ensure you extract a single element from your array before performing this operation. (Deprecated NumPy 1.25.)\n",
            "  features.append(float(lm.intercept_))  # Append intercept of regression line\n",
            "<ipython-input-12-668b296618b7>:56: DeprecationWarning: Conversion of an array with ndim > 0 to a scalar is deprecated, and will error in future. Ensure you extract a single element from your array before performing this operation. (Deprecated NumPy 1.25.)\n",
            "  features.append(float(lm.coef_))       # Append slope of regression line\n",
            "<ipython-input-12-668b296618b7>:55: DeprecationWarning: Conversion of an array with ndim > 0 to a scalar is deprecated, and will error in future. Ensure you extract a single element from your array before performing this operation. (Deprecated NumPy 1.25.)\n",
            "  features.append(float(lm.intercept_))  # Append intercept of regression line\n",
            "<ipython-input-12-668b296618b7>:56: DeprecationWarning: Conversion of an array with ndim > 0 to a scalar is deprecated, and will error in future. Ensure you extract a single element from your array before performing this operation. (Deprecated NumPy 1.25.)\n",
            "  features.append(float(lm.coef_))       # Append slope of regression line\n",
            "<ipython-input-12-668b296618b7>:55: DeprecationWarning: Conversion of an array with ndim > 0 to a scalar is deprecated, and will error in future. Ensure you extract a single element from your array before performing this operation. (Deprecated NumPy 1.25.)\n",
            "  features.append(float(lm.intercept_))  # Append intercept of regression line\n",
            "<ipython-input-12-668b296618b7>:56: DeprecationWarning: Conversion of an array with ndim > 0 to a scalar is deprecated, and will error in future. Ensure you extract a single element from your array before performing this operation. (Deprecated NumPy 1.25.)\n",
            "  features.append(float(lm.coef_))       # Append slope of regression line\n",
            "<ipython-input-12-668b296618b7>:55: DeprecationWarning: Conversion of an array with ndim > 0 to a scalar is deprecated, and will error in future. Ensure you extract a single element from your array before performing this operation. (Deprecated NumPy 1.25.)\n",
            "  features.append(float(lm.intercept_))  # Append intercept of regression line\n",
            "<ipython-input-12-668b296618b7>:56: DeprecationWarning: Conversion of an array with ndim > 0 to a scalar is deprecated, and will error in future. Ensure you extract a single element from your array before performing this operation. (Deprecated NumPy 1.25.)\n",
            "  features.append(float(lm.coef_))       # Append slope of regression line\n",
            "<ipython-input-12-668b296618b7>:55: DeprecationWarning: Conversion of an array with ndim > 0 to a scalar is deprecated, and will error in future. Ensure you extract a single element from your array before performing this operation. (Deprecated NumPy 1.25.)\n",
            "  features.append(float(lm.intercept_))  # Append intercept of regression line\n",
            "<ipython-input-12-668b296618b7>:56: DeprecationWarning: Conversion of an array with ndim > 0 to a scalar is deprecated, and will error in future. Ensure you extract a single element from your array before performing this operation. (Deprecated NumPy 1.25.)\n",
            "  features.append(float(lm.coef_))       # Append slope of regression line\n",
            "<ipython-input-12-668b296618b7>:55: DeprecationWarning: Conversion of an array with ndim > 0 to a scalar is deprecated, and will error in future. Ensure you extract a single element from your array before performing this operation. (Deprecated NumPy 1.25.)\n",
            "  features.append(float(lm.intercept_))  # Append intercept of regression line\n",
            "<ipython-input-12-668b296618b7>:56: DeprecationWarning: Conversion of an array with ndim > 0 to a scalar is deprecated, and will error in future. Ensure you extract a single element from your array before performing this operation. (Deprecated NumPy 1.25.)\n",
            "  features.append(float(lm.coef_))       # Append slope of regression line\n",
            "<ipython-input-12-668b296618b7>:55: DeprecationWarning: Conversion of an array with ndim > 0 to a scalar is deprecated, and will error in future. Ensure you extract a single element from your array before performing this operation. (Deprecated NumPy 1.25.)\n",
            "  features.append(float(lm.intercept_))  # Append intercept of regression line\n",
            "<ipython-input-12-668b296618b7>:56: DeprecationWarning: Conversion of an array with ndim > 0 to a scalar is deprecated, and will error in future. Ensure you extract a single element from your array before performing this operation. (Deprecated NumPy 1.25.)\n",
            "  features.append(float(lm.coef_))       # Append slope of regression line\n",
            "<ipython-input-12-668b296618b7>:55: DeprecationWarning: Conversion of an array with ndim > 0 to a scalar is deprecated, and will error in future. Ensure you extract a single element from your array before performing this operation. (Deprecated NumPy 1.25.)\n",
            "  features.append(float(lm.intercept_))  # Append intercept of regression line\n",
            "<ipython-input-12-668b296618b7>:56: DeprecationWarning: Conversion of an array with ndim > 0 to a scalar is deprecated, and will error in future. Ensure you extract a single element from your array before performing this operation. (Deprecated NumPy 1.25.)\n",
            "  features.append(float(lm.coef_))       # Append slope of regression line\n",
            "<ipython-input-12-668b296618b7>:55: DeprecationWarning: Conversion of an array with ndim > 0 to a scalar is deprecated, and will error in future. Ensure you extract a single element from your array before performing this operation. (Deprecated NumPy 1.25.)\n",
            "  features.append(float(lm.intercept_))  # Append intercept of regression line\n",
            "<ipython-input-12-668b296618b7>:56: DeprecationWarning: Conversion of an array with ndim > 0 to a scalar is deprecated, and will error in future. Ensure you extract a single element from your array before performing this operation. (Deprecated NumPy 1.25.)\n",
            "  features.append(float(lm.coef_))       # Append slope of regression line\n",
            "<ipython-input-12-668b296618b7>:55: DeprecationWarning: Conversion of an array with ndim > 0 to a scalar is deprecated, and will error in future. Ensure you extract a single element from your array before performing this operation. (Deprecated NumPy 1.25.)\n",
            "  features.append(float(lm.intercept_))  # Append intercept of regression line\n",
            "<ipython-input-12-668b296618b7>:56: DeprecationWarning: Conversion of an array with ndim > 0 to a scalar is deprecated, and will error in future. Ensure you extract a single element from your array before performing this operation. (Deprecated NumPy 1.25.)\n",
            "  features.append(float(lm.coef_))       # Append slope of regression line\n",
            "<ipython-input-12-668b296618b7>:55: DeprecationWarning: Conversion of an array with ndim > 0 to a scalar is deprecated, and will error in future. Ensure you extract a single element from your array before performing this operation. (Deprecated NumPy 1.25.)\n",
            "  features.append(float(lm.intercept_))  # Append intercept of regression line\n",
            "<ipython-input-12-668b296618b7>:56: DeprecationWarning: Conversion of an array with ndim > 0 to a scalar is deprecated, and will error in future. Ensure you extract a single element from your array before performing this operation. (Deprecated NumPy 1.25.)\n",
            "  features.append(float(lm.coef_))       # Append slope of regression line\n",
            "<ipython-input-12-668b296618b7>:55: DeprecationWarning: Conversion of an array with ndim > 0 to a scalar is deprecated, and will error in future. Ensure you extract a single element from your array before performing this operation. (Deprecated NumPy 1.25.)\n",
            "  features.append(float(lm.intercept_))  # Append intercept of regression line\n",
            "<ipython-input-12-668b296618b7>:56: DeprecationWarning: Conversion of an array with ndim > 0 to a scalar is deprecated, and will error in future. Ensure you extract a single element from your array before performing this operation. (Deprecated NumPy 1.25.)\n",
            "  features.append(float(lm.coef_))       # Append slope of regression line\n",
            "<ipython-input-12-668b296618b7>:55: DeprecationWarning: Conversion of an array with ndim > 0 to a scalar is deprecated, and will error in future. Ensure you extract a single element from your array before performing this operation. (Deprecated NumPy 1.25.)\n",
            "  features.append(float(lm.intercept_))  # Append intercept of regression line\n",
            "<ipython-input-12-668b296618b7>:56: DeprecationWarning: Conversion of an array with ndim > 0 to a scalar is deprecated, and will error in future. Ensure you extract a single element from your array before performing this operation. (Deprecated NumPy 1.25.)\n",
            "  features.append(float(lm.coef_))       # Append slope of regression line\n",
            "<ipython-input-12-668b296618b7>:55: DeprecationWarning: Conversion of an array with ndim > 0 to a scalar is deprecated, and will error in future. Ensure you extract a single element from your array before performing this operation. (Deprecated NumPy 1.25.)\n",
            "  features.append(float(lm.intercept_))  # Append intercept of regression line\n",
            "<ipython-input-12-668b296618b7>:56: DeprecationWarning: Conversion of an array with ndim > 0 to a scalar is deprecated, and will error in future. Ensure you extract a single element from your array before performing this operation. (Deprecated NumPy 1.25.)\n",
            "  features.append(float(lm.coef_))       # Append slope of regression line\n",
            "<ipython-input-12-668b296618b7>:55: DeprecationWarning: Conversion of an array with ndim > 0 to a scalar is deprecated, and will error in future. Ensure you extract a single element from your array before performing this operation. (Deprecated NumPy 1.25.)\n",
            "  features.append(float(lm.intercept_))  # Append intercept of regression line\n",
            "<ipython-input-12-668b296618b7>:56: DeprecationWarning: Conversion of an array with ndim > 0 to a scalar is deprecated, and will error in future. Ensure you extract a single element from your array before performing this operation. (Deprecated NumPy 1.25.)\n",
            "  features.append(float(lm.coef_))       # Append slope of regression line\n",
            "<ipython-input-12-668b296618b7>:55: DeprecationWarning: Conversion of an array with ndim > 0 to a scalar is deprecated, and will error in future. Ensure you extract a single element from your array before performing this operation. (Deprecated NumPy 1.25.)\n",
            "  features.append(float(lm.intercept_))  # Append intercept of regression line\n",
            "<ipython-input-12-668b296618b7>:56: DeprecationWarning: Conversion of an array with ndim > 0 to a scalar is deprecated, and will error in future. Ensure you extract a single element from your array before performing this operation. (Deprecated NumPy 1.25.)\n",
            "  features.append(float(lm.coef_))       # Append slope of regression line\n",
            "<ipython-input-12-668b296618b7>:55: DeprecationWarning: Conversion of an array with ndim > 0 to a scalar is deprecated, and will error in future. Ensure you extract a single element from your array before performing this operation. (Deprecated NumPy 1.25.)\n",
            "  features.append(float(lm.intercept_))  # Append intercept of regression line\n",
            "<ipython-input-12-668b296618b7>:56: DeprecationWarning: Conversion of an array with ndim > 0 to a scalar is deprecated, and will error in future. Ensure you extract a single element from your array before performing this operation. (Deprecated NumPy 1.25.)\n",
            "  features.append(float(lm.coef_))       # Append slope of regression line\n",
            "<ipython-input-12-668b296618b7>:55: DeprecationWarning: Conversion of an array with ndim > 0 to a scalar is deprecated, and will error in future. Ensure you extract a single element from your array before performing this operation. (Deprecated NumPy 1.25.)\n",
            "  features.append(float(lm.intercept_))  # Append intercept of regression line\n",
            "<ipython-input-12-668b296618b7>:56: DeprecationWarning: Conversion of an array with ndim > 0 to a scalar is deprecated, and will error in future. Ensure you extract a single element from your array before performing this operation. (Deprecated NumPy 1.25.)\n",
            "  features.append(float(lm.coef_))       # Append slope of regression line\n",
            "<ipython-input-12-668b296618b7>:55: DeprecationWarning: Conversion of an array with ndim > 0 to a scalar is deprecated, and will error in future. Ensure you extract a single element from your array before performing this operation. (Deprecated NumPy 1.25.)\n",
            "  features.append(float(lm.intercept_))  # Append intercept of regression line\n",
            "<ipython-input-12-668b296618b7>:56: DeprecationWarning: Conversion of an array with ndim > 0 to a scalar is deprecated, and will error in future. Ensure you extract a single element from your array before performing this operation. (Deprecated NumPy 1.25.)\n",
            "  features.append(float(lm.coef_))       # Append slope of regression line\n",
            "<ipython-input-12-668b296618b7>:55: DeprecationWarning: Conversion of an array with ndim > 0 to a scalar is deprecated, and will error in future. Ensure you extract a single element from your array before performing this operation. (Deprecated NumPy 1.25.)\n",
            "  features.append(float(lm.intercept_))  # Append intercept of regression line\n",
            "<ipython-input-12-668b296618b7>:56: DeprecationWarning: Conversion of an array with ndim > 0 to a scalar is deprecated, and will error in future. Ensure you extract a single element from your array before performing this operation. (Deprecated NumPy 1.25.)\n",
            "  features.append(float(lm.coef_))       # Append slope of regression line\n",
            "<ipython-input-12-668b296618b7>:55: DeprecationWarning: Conversion of an array with ndim > 0 to a scalar is deprecated, and will error in future. Ensure you extract a single element from your array before performing this operation. (Deprecated NumPy 1.25.)\n",
            "  features.append(float(lm.intercept_))  # Append intercept of regression line\n",
            "<ipython-input-12-668b296618b7>:56: DeprecationWarning: Conversion of an array with ndim > 0 to a scalar is deprecated, and will error in future. Ensure you extract a single element from your array before performing this operation. (Deprecated NumPy 1.25.)\n",
            "  features.append(float(lm.coef_))       # Append slope of regression line\n",
            "<ipython-input-12-668b296618b7>:55: DeprecationWarning: Conversion of an array with ndim > 0 to a scalar is deprecated, and will error in future. Ensure you extract a single element from your array before performing this operation. (Deprecated NumPy 1.25.)\n",
            "  features.append(float(lm.intercept_))  # Append intercept of regression line\n",
            "<ipython-input-12-668b296618b7>:56: DeprecationWarning: Conversion of an array with ndim > 0 to a scalar is deprecated, and will error in future. Ensure you extract a single element from your array before performing this operation. (Deprecated NumPy 1.25.)\n",
            "  features.append(float(lm.coef_))       # Append slope of regression line\n",
            "<ipython-input-12-668b296618b7>:55: DeprecationWarning: Conversion of an array with ndim > 0 to a scalar is deprecated, and will error in future. Ensure you extract a single element from your array before performing this operation. (Deprecated NumPy 1.25.)\n",
            "  features.append(float(lm.intercept_))  # Append intercept of regression line\n",
            "<ipython-input-12-668b296618b7>:56: DeprecationWarning: Conversion of an array with ndim > 0 to a scalar is deprecated, and will error in future. Ensure you extract a single element from your array before performing this operation. (Deprecated NumPy 1.25.)\n",
            "  features.append(float(lm.coef_))       # Append slope of regression line\n",
            "<ipython-input-12-668b296618b7>:55: DeprecationWarning: Conversion of an array with ndim > 0 to a scalar is deprecated, and will error in future. Ensure you extract a single element from your array before performing this operation. (Deprecated NumPy 1.25.)\n",
            "  features.append(float(lm.intercept_))  # Append intercept of regression line\n",
            "<ipython-input-12-668b296618b7>:56: DeprecationWarning: Conversion of an array with ndim > 0 to a scalar is deprecated, and will error in future. Ensure you extract a single element from your array before performing this operation. (Deprecated NumPy 1.25.)\n",
            "  features.append(float(lm.coef_))       # Append slope of regression line\n",
            "<ipython-input-12-668b296618b7>:55: DeprecationWarning: Conversion of an array with ndim > 0 to a scalar is deprecated, and will error in future. Ensure you extract a single element from your array before performing this operation. (Deprecated NumPy 1.25.)\n",
            "  features.append(float(lm.intercept_))  # Append intercept of regression line\n",
            "<ipython-input-12-668b296618b7>:56: DeprecationWarning: Conversion of an array with ndim > 0 to a scalar is deprecated, and will error in future. Ensure you extract a single element from your array before performing this operation. (Deprecated NumPy 1.25.)\n",
            "  features.append(float(lm.coef_))       # Append slope of regression line\n",
            "<ipython-input-12-668b296618b7>:55: DeprecationWarning: Conversion of an array with ndim > 0 to a scalar is deprecated, and will error in future. Ensure you extract a single element from your array before performing this operation. (Deprecated NumPy 1.25.)\n",
            "  features.append(float(lm.intercept_))  # Append intercept of regression line\n",
            "<ipython-input-12-668b296618b7>:56: DeprecationWarning: Conversion of an array with ndim > 0 to a scalar is deprecated, and will error in future. Ensure you extract a single element from your array before performing this operation. (Deprecated NumPy 1.25.)\n",
            "  features.append(float(lm.coef_))       # Append slope of regression line\n",
            "<ipython-input-12-668b296618b7>:55: DeprecationWarning: Conversion of an array with ndim > 0 to a scalar is deprecated, and will error in future. Ensure you extract a single element from your array before performing this operation. (Deprecated NumPy 1.25.)\n",
            "  features.append(float(lm.intercept_))  # Append intercept of regression line\n",
            "<ipython-input-12-668b296618b7>:56: DeprecationWarning: Conversion of an array with ndim > 0 to a scalar is deprecated, and will error in future. Ensure you extract a single element from your array before performing this operation. (Deprecated NumPy 1.25.)\n",
            "  features.append(float(lm.coef_))       # Append slope of regression line\n",
            "<ipython-input-12-668b296618b7>:55: DeprecationWarning: Conversion of an array with ndim > 0 to a scalar is deprecated, and will error in future. Ensure you extract a single element from your array before performing this operation. (Deprecated NumPy 1.25.)\n",
            "  features.append(float(lm.intercept_))  # Append intercept of regression line\n",
            "<ipython-input-12-668b296618b7>:56: DeprecationWarning: Conversion of an array with ndim > 0 to a scalar is deprecated, and will error in future. Ensure you extract a single element from your array before performing this operation. (Deprecated NumPy 1.25.)\n",
            "  features.append(float(lm.coef_))       # Append slope of regression line\n",
            "<ipython-input-12-668b296618b7>:55: DeprecationWarning: Conversion of an array with ndim > 0 to a scalar is deprecated, and will error in future. Ensure you extract a single element from your array before performing this operation. (Deprecated NumPy 1.25.)\n",
            "  features.append(float(lm.intercept_))  # Append intercept of regression line\n",
            "<ipython-input-12-668b296618b7>:56: DeprecationWarning: Conversion of an array with ndim > 0 to a scalar is deprecated, and will error in future. Ensure you extract a single element from your array before performing this operation. (Deprecated NumPy 1.25.)\n",
            "  features.append(float(lm.coef_))       # Append slope of regression line\n",
            "<ipython-input-12-668b296618b7>:55: DeprecationWarning: Conversion of an array with ndim > 0 to a scalar is deprecated, and will error in future. Ensure you extract a single element from your array before performing this operation. (Deprecated NumPy 1.25.)\n",
            "  features.append(float(lm.intercept_))  # Append intercept of regression line\n",
            "<ipython-input-12-668b296618b7>:56: DeprecationWarning: Conversion of an array with ndim > 0 to a scalar is deprecated, and will error in future. Ensure you extract a single element from your array before performing this operation. (Deprecated NumPy 1.25.)\n",
            "  features.append(float(lm.coef_))       # Append slope of regression line\n",
            "<ipython-input-12-668b296618b7>:55: DeprecationWarning: Conversion of an array with ndim > 0 to a scalar is deprecated, and will error in future. Ensure you extract a single element from your array before performing this operation. (Deprecated NumPy 1.25.)\n",
            "  features.append(float(lm.intercept_))  # Append intercept of regression line\n",
            "<ipython-input-12-668b296618b7>:56: DeprecationWarning: Conversion of an array with ndim > 0 to a scalar is deprecated, and will error in future. Ensure you extract a single element from your array before performing this operation. (Deprecated NumPy 1.25.)\n",
            "  features.append(float(lm.coef_))       # Append slope of regression line\n",
            "<ipython-input-12-668b296618b7>:55: DeprecationWarning: Conversion of an array with ndim > 0 to a scalar is deprecated, and will error in future. Ensure you extract a single element from your array before performing this operation. (Deprecated NumPy 1.25.)\n",
            "  features.append(float(lm.intercept_))  # Append intercept of regression line\n",
            "<ipython-input-12-668b296618b7>:56: DeprecationWarning: Conversion of an array with ndim > 0 to a scalar is deprecated, and will error in future. Ensure you extract a single element from your array before performing this operation. (Deprecated NumPy 1.25.)\n",
            "  features.append(float(lm.coef_))       # Append slope of regression line\n",
            "<ipython-input-12-668b296618b7>:55: DeprecationWarning: Conversion of an array with ndim > 0 to a scalar is deprecated, and will error in future. Ensure you extract a single element from your array before performing this operation. (Deprecated NumPy 1.25.)\n",
            "  features.append(float(lm.intercept_))  # Append intercept of regression line\n",
            "<ipython-input-12-668b296618b7>:56: DeprecationWarning: Conversion of an array with ndim > 0 to a scalar is deprecated, and will error in future. Ensure you extract a single element from your array before performing this operation. (Deprecated NumPy 1.25.)\n",
            "  features.append(float(lm.coef_))       # Append slope of regression line\n",
            "<ipython-input-12-668b296618b7>:55: DeprecationWarning: Conversion of an array with ndim > 0 to a scalar is deprecated, and will error in future. Ensure you extract a single element from your array before performing this operation. (Deprecated NumPy 1.25.)\n",
            "  features.append(float(lm.intercept_))  # Append intercept of regression line\n",
            "<ipython-input-12-668b296618b7>:56: DeprecationWarning: Conversion of an array with ndim > 0 to a scalar is deprecated, and will error in future. Ensure you extract a single element from your array before performing this operation. (Deprecated NumPy 1.25.)\n",
            "  features.append(float(lm.coef_))       # Append slope of regression line\n",
            "<ipython-input-12-668b296618b7>:55: DeprecationWarning: Conversion of an array with ndim > 0 to a scalar is deprecated, and will error in future. Ensure you extract a single element from your array before performing this operation. (Deprecated NumPy 1.25.)\n",
            "  features.append(float(lm.intercept_))  # Append intercept of regression line\n",
            "<ipython-input-12-668b296618b7>:56: DeprecationWarning: Conversion of an array with ndim > 0 to a scalar is deprecated, and will error in future. Ensure you extract a single element from your array before performing this operation. (Deprecated NumPy 1.25.)\n",
            "  features.append(float(lm.coef_))       # Append slope of regression line\n",
            "<ipython-input-12-668b296618b7>:55: DeprecationWarning: Conversion of an array with ndim > 0 to a scalar is deprecated, and will error in future. Ensure you extract a single element from your array before performing this operation. (Deprecated NumPy 1.25.)\n",
            "  features.append(float(lm.intercept_))  # Append intercept of regression line\n",
            "<ipython-input-12-668b296618b7>:56: DeprecationWarning: Conversion of an array with ndim > 0 to a scalar is deprecated, and will error in future. Ensure you extract a single element from your array before performing this operation. (Deprecated NumPy 1.25.)\n",
            "  features.append(float(lm.coef_))       # Append slope of regression line\n",
            "<ipython-input-12-668b296618b7>:55: DeprecationWarning: Conversion of an array with ndim > 0 to a scalar is deprecated, and will error in future. Ensure you extract a single element from your array before performing this operation. (Deprecated NumPy 1.25.)\n",
            "  features.append(float(lm.intercept_))  # Append intercept of regression line\n",
            "<ipython-input-12-668b296618b7>:56: DeprecationWarning: Conversion of an array with ndim > 0 to a scalar is deprecated, and will error in future. Ensure you extract a single element from your array before performing this operation. (Deprecated NumPy 1.25.)\n",
            "  features.append(float(lm.coef_))       # Append slope of regression line\n",
            "<ipython-input-12-668b296618b7>:55: DeprecationWarning: Conversion of an array with ndim > 0 to a scalar is deprecated, and will error in future. Ensure you extract a single element from your array before performing this operation. (Deprecated NumPy 1.25.)\n",
            "  features.append(float(lm.intercept_))  # Append intercept of regression line\n",
            "<ipython-input-12-668b296618b7>:56: DeprecationWarning: Conversion of an array with ndim > 0 to a scalar is deprecated, and will error in future. Ensure you extract a single element from your array before performing this operation. (Deprecated NumPy 1.25.)\n",
            "  features.append(float(lm.coef_))       # Append slope of regression line\n",
            "<ipython-input-12-668b296618b7>:55: DeprecationWarning: Conversion of an array with ndim > 0 to a scalar is deprecated, and will error in future. Ensure you extract a single element from your array before performing this operation. (Deprecated NumPy 1.25.)\n",
            "  features.append(float(lm.intercept_))  # Append intercept of regression line\n",
            "<ipython-input-12-668b296618b7>:56: DeprecationWarning: Conversion of an array with ndim > 0 to a scalar is deprecated, and will error in future. Ensure you extract a single element from your array before performing this operation. (Deprecated NumPy 1.25.)\n",
            "  features.append(float(lm.coef_))       # Append slope of regression line\n",
            "<ipython-input-12-668b296618b7>:55: DeprecationWarning: Conversion of an array with ndim > 0 to a scalar is deprecated, and will error in future. Ensure you extract a single element from your array before performing this operation. (Deprecated NumPy 1.25.)\n",
            "  features.append(float(lm.intercept_))  # Append intercept of regression line\n",
            "<ipython-input-12-668b296618b7>:56: DeprecationWarning: Conversion of an array with ndim > 0 to a scalar is deprecated, and will error in future. Ensure you extract a single element from your array before performing this operation. (Deprecated NumPy 1.25.)\n",
            "  features.append(float(lm.coef_))       # Append slope of regression line\n",
            "<ipython-input-12-668b296618b7>:55: DeprecationWarning: Conversion of an array with ndim > 0 to a scalar is deprecated, and will error in future. Ensure you extract a single element from your array before performing this operation. (Deprecated NumPy 1.25.)\n",
            "  features.append(float(lm.intercept_))  # Append intercept of regression line\n",
            "<ipython-input-12-668b296618b7>:56: DeprecationWarning: Conversion of an array with ndim > 0 to a scalar is deprecated, and will error in future. Ensure you extract a single element from your array before performing this operation. (Deprecated NumPy 1.25.)\n",
            "  features.append(float(lm.coef_))       # Append slope of regression line\n",
            "<ipython-input-12-668b296618b7>:55: DeprecationWarning: Conversion of an array with ndim > 0 to a scalar is deprecated, and will error in future. Ensure you extract a single element from your array before performing this operation. (Deprecated NumPy 1.25.)\n",
            "  features.append(float(lm.intercept_))  # Append intercept of regression line\n",
            "<ipython-input-12-668b296618b7>:56: DeprecationWarning: Conversion of an array with ndim > 0 to a scalar is deprecated, and will error in future. Ensure you extract a single element from your array before performing this operation. (Deprecated NumPy 1.25.)\n",
            "  features.append(float(lm.coef_))       # Append slope of regression line\n",
            "<ipython-input-12-668b296618b7>:55: DeprecationWarning: Conversion of an array with ndim > 0 to a scalar is deprecated, and will error in future. Ensure you extract a single element from your array before performing this operation. (Deprecated NumPy 1.25.)\n",
            "  features.append(float(lm.intercept_))  # Append intercept of regression line\n",
            "<ipython-input-12-668b296618b7>:56: DeprecationWarning: Conversion of an array with ndim > 0 to a scalar is deprecated, and will error in future. Ensure you extract a single element from your array before performing this operation. (Deprecated NumPy 1.25.)\n",
            "  features.append(float(lm.coef_))       # Append slope of regression line\n",
            "<ipython-input-12-668b296618b7>:55: DeprecationWarning: Conversion of an array with ndim > 0 to a scalar is deprecated, and will error in future. Ensure you extract a single element from your array before performing this operation. (Deprecated NumPy 1.25.)\n",
            "  features.append(float(lm.intercept_))  # Append intercept of regression line\n",
            "<ipython-input-12-668b296618b7>:56: DeprecationWarning: Conversion of an array with ndim > 0 to a scalar is deprecated, and will error in future. Ensure you extract a single element from your array before performing this operation. (Deprecated NumPy 1.25.)\n",
            "  features.append(float(lm.coef_))       # Append slope of regression line\n",
            "<ipython-input-12-668b296618b7>:55: DeprecationWarning: Conversion of an array with ndim > 0 to a scalar is deprecated, and will error in future. Ensure you extract a single element from your array before performing this operation. (Deprecated NumPy 1.25.)\n",
            "  features.append(float(lm.intercept_))  # Append intercept of regression line\n",
            "<ipython-input-12-668b296618b7>:56: DeprecationWarning: Conversion of an array with ndim > 0 to a scalar is deprecated, and will error in future. Ensure you extract a single element from your array before performing this operation. (Deprecated NumPy 1.25.)\n",
            "  features.append(float(lm.coef_))       # Append slope of regression line\n",
            "<ipython-input-12-668b296618b7>:55: DeprecationWarning: Conversion of an array with ndim > 0 to a scalar is deprecated, and will error in future. Ensure you extract a single element from your array before performing this operation. (Deprecated NumPy 1.25.)\n",
            "  features.append(float(lm.intercept_))  # Append intercept of regression line\n",
            "<ipython-input-12-668b296618b7>:56: DeprecationWarning: Conversion of an array with ndim > 0 to a scalar is deprecated, and will error in future. Ensure you extract a single element from your array before performing this operation. (Deprecated NumPy 1.25.)\n",
            "  features.append(float(lm.coef_))       # Append slope of regression line\n",
            "<ipython-input-12-668b296618b7>:55: DeprecationWarning: Conversion of an array with ndim > 0 to a scalar is deprecated, and will error in future. Ensure you extract a single element from your array before performing this operation. (Deprecated NumPy 1.25.)\n",
            "  features.append(float(lm.intercept_))  # Append intercept of regression line\n",
            "<ipython-input-12-668b296618b7>:56: DeprecationWarning: Conversion of an array with ndim > 0 to a scalar is deprecated, and will error in future. Ensure you extract a single element from your array before performing this operation. (Deprecated NumPy 1.25.)\n",
            "  features.append(float(lm.coef_))       # Append slope of regression line\n",
            "<ipython-input-12-668b296618b7>:55: DeprecationWarning: Conversion of an array with ndim > 0 to a scalar is deprecated, and will error in future. Ensure you extract a single element from your array before performing this operation. (Deprecated NumPy 1.25.)\n",
            "  features.append(float(lm.intercept_))  # Append intercept of regression line\n",
            "<ipython-input-12-668b296618b7>:56: DeprecationWarning: Conversion of an array with ndim > 0 to a scalar is deprecated, and will error in future. Ensure you extract a single element from your array before performing this operation. (Deprecated NumPy 1.25.)\n",
            "  features.append(float(lm.coef_))       # Append slope of regression line\n",
            "<ipython-input-12-668b296618b7>:55: DeprecationWarning: Conversion of an array with ndim > 0 to a scalar is deprecated, and will error in future. Ensure you extract a single element from your array before performing this operation. (Deprecated NumPy 1.25.)\n",
            "  features.append(float(lm.intercept_))  # Append intercept of regression line\n",
            "<ipython-input-12-668b296618b7>:56: DeprecationWarning: Conversion of an array with ndim > 0 to a scalar is deprecated, and will error in future. Ensure you extract a single element from your array before performing this operation. (Deprecated NumPy 1.25.)\n",
            "  features.append(float(lm.coef_))       # Append slope of regression line\n",
            "<ipython-input-12-668b296618b7>:55: DeprecationWarning: Conversion of an array with ndim > 0 to a scalar is deprecated, and will error in future. Ensure you extract a single element from your array before performing this operation. (Deprecated NumPy 1.25.)\n",
            "  features.append(float(lm.intercept_))  # Append intercept of regression line\n",
            "<ipython-input-12-668b296618b7>:56: DeprecationWarning: Conversion of an array with ndim > 0 to a scalar is deprecated, and will error in future. Ensure you extract a single element from your array before performing this operation. (Deprecated NumPy 1.25.)\n",
            "  features.append(float(lm.coef_))       # Append slope of regression line\n",
            "<ipython-input-12-668b296618b7>:55: DeprecationWarning: Conversion of an array with ndim > 0 to a scalar is deprecated, and will error in future. Ensure you extract a single element from your array before performing this operation. (Deprecated NumPy 1.25.)\n",
            "  features.append(float(lm.intercept_))  # Append intercept of regression line\n",
            "<ipython-input-12-668b296618b7>:56: DeprecationWarning: Conversion of an array with ndim > 0 to a scalar is deprecated, and will error in future. Ensure you extract a single element from your array before performing this operation. (Deprecated NumPy 1.25.)\n",
            "  features.append(float(lm.coef_))       # Append slope of regression line\n",
            "<ipython-input-12-668b296618b7>:55: DeprecationWarning: Conversion of an array with ndim > 0 to a scalar is deprecated, and will error in future. Ensure you extract a single element from your array before performing this operation. (Deprecated NumPy 1.25.)\n",
            "  features.append(float(lm.intercept_))  # Append intercept of regression line\n",
            "<ipython-input-12-668b296618b7>:56: DeprecationWarning: Conversion of an array with ndim > 0 to a scalar is deprecated, and will error in future. Ensure you extract a single element from your array before performing this operation. (Deprecated NumPy 1.25.)\n",
            "  features.append(float(lm.coef_))       # Append slope of regression line\n",
            "<ipython-input-12-668b296618b7>:55: DeprecationWarning: Conversion of an array with ndim > 0 to a scalar is deprecated, and will error in future. Ensure you extract a single element from your array before performing this operation. (Deprecated NumPy 1.25.)\n",
            "  features.append(float(lm.intercept_))  # Append intercept of regression line\n",
            "<ipython-input-12-668b296618b7>:56: DeprecationWarning: Conversion of an array with ndim > 0 to a scalar is deprecated, and will error in future. Ensure you extract a single element from your array before performing this operation. (Deprecated NumPy 1.25.)\n",
            "  features.append(float(lm.coef_))       # Append slope of regression line\n",
            "<ipython-input-12-668b296618b7>:55: DeprecationWarning: Conversion of an array with ndim > 0 to a scalar is deprecated, and will error in future. Ensure you extract a single element from your array before performing this operation. (Deprecated NumPy 1.25.)\n",
            "  features.append(float(lm.intercept_))  # Append intercept of regression line\n",
            "<ipython-input-12-668b296618b7>:56: DeprecationWarning: Conversion of an array with ndim > 0 to a scalar is deprecated, and will error in future. Ensure you extract a single element from your array before performing this operation. (Deprecated NumPy 1.25.)\n",
            "  features.append(float(lm.coef_))       # Append slope of regression line\n",
            "<ipython-input-12-668b296618b7>:55: DeprecationWarning: Conversion of an array with ndim > 0 to a scalar is deprecated, and will error in future. Ensure you extract a single element from your array before performing this operation. (Deprecated NumPy 1.25.)\n",
            "  features.append(float(lm.intercept_))  # Append intercept of regression line\n",
            "<ipython-input-12-668b296618b7>:56: DeprecationWarning: Conversion of an array with ndim > 0 to a scalar is deprecated, and will error in future. Ensure you extract a single element from your array before performing this operation. (Deprecated NumPy 1.25.)\n",
            "  features.append(float(lm.coef_))       # Append slope of regression line\n",
            "<ipython-input-12-668b296618b7>:55: DeprecationWarning: Conversion of an array with ndim > 0 to a scalar is deprecated, and will error in future. Ensure you extract a single element from your array before performing this operation. (Deprecated NumPy 1.25.)\n",
            "  features.append(float(lm.intercept_))  # Append intercept of regression line\n",
            "<ipython-input-12-668b296618b7>:56: DeprecationWarning: Conversion of an array with ndim > 0 to a scalar is deprecated, and will error in future. Ensure you extract a single element from your array before performing this operation. (Deprecated NumPy 1.25.)\n",
            "  features.append(float(lm.coef_))       # Append slope of regression line\n",
            "<ipython-input-12-668b296618b7>:55: DeprecationWarning: Conversion of an array with ndim > 0 to a scalar is deprecated, and will error in future. Ensure you extract a single element from your array before performing this operation. (Deprecated NumPy 1.25.)\n",
            "  features.append(float(lm.intercept_))  # Append intercept of regression line\n",
            "<ipython-input-12-668b296618b7>:56: DeprecationWarning: Conversion of an array with ndim > 0 to a scalar is deprecated, and will error in future. Ensure you extract a single element from your array before performing this operation. (Deprecated NumPy 1.25.)\n",
            "  features.append(float(lm.coef_))       # Append slope of regression line\n",
            "<ipython-input-12-668b296618b7>:55: DeprecationWarning: Conversion of an array with ndim > 0 to a scalar is deprecated, and will error in future. Ensure you extract a single element from your array before performing this operation. (Deprecated NumPy 1.25.)\n",
            "  features.append(float(lm.intercept_))  # Append intercept of regression line\n",
            "<ipython-input-12-668b296618b7>:56: DeprecationWarning: Conversion of an array with ndim > 0 to a scalar is deprecated, and will error in future. Ensure you extract a single element from your array before performing this operation. (Deprecated NumPy 1.25.)\n",
            "  features.append(float(lm.coef_))       # Append slope of regression line\n",
            "<ipython-input-12-668b296618b7>:55: DeprecationWarning: Conversion of an array with ndim > 0 to a scalar is deprecated, and will error in future. Ensure you extract a single element from your array before performing this operation. (Deprecated NumPy 1.25.)\n",
            "  features.append(float(lm.intercept_))  # Append intercept of regression line\n",
            "<ipython-input-12-668b296618b7>:56: DeprecationWarning: Conversion of an array with ndim > 0 to a scalar is deprecated, and will error in future. Ensure you extract a single element from your array before performing this operation. (Deprecated NumPy 1.25.)\n",
            "  features.append(float(lm.coef_))       # Append slope of regression line\n",
            "<ipython-input-12-668b296618b7>:55: DeprecationWarning: Conversion of an array with ndim > 0 to a scalar is deprecated, and will error in future. Ensure you extract a single element from your array before performing this operation. (Deprecated NumPy 1.25.)\n",
            "  features.append(float(lm.intercept_))  # Append intercept of regression line\n",
            "<ipython-input-12-668b296618b7>:56: DeprecationWarning: Conversion of an array with ndim > 0 to a scalar is deprecated, and will error in future. Ensure you extract a single element from your array before performing this operation. (Deprecated NumPy 1.25.)\n",
            "  features.append(float(lm.coef_))       # Append slope of regression line\n",
            "<ipython-input-12-668b296618b7>:55: DeprecationWarning: Conversion of an array with ndim > 0 to a scalar is deprecated, and will error in future. Ensure you extract a single element from your array before performing this operation. (Deprecated NumPy 1.25.)\n",
            "  features.append(float(lm.intercept_))  # Append intercept of regression line\n",
            "<ipython-input-12-668b296618b7>:56: DeprecationWarning: Conversion of an array with ndim > 0 to a scalar is deprecated, and will error in future. Ensure you extract a single element from your array before performing this operation. (Deprecated NumPy 1.25.)\n",
            "  features.append(float(lm.coef_))       # Append slope of regression line\n",
            "<ipython-input-12-668b296618b7>:55: DeprecationWarning: Conversion of an array with ndim > 0 to a scalar is deprecated, and will error in future. Ensure you extract a single element from your array before performing this operation. (Deprecated NumPy 1.25.)\n",
            "  features.append(float(lm.intercept_))  # Append intercept of regression line\n",
            "<ipython-input-12-668b296618b7>:56: DeprecationWarning: Conversion of an array with ndim > 0 to a scalar is deprecated, and will error in future. Ensure you extract a single element from your array before performing this operation. (Deprecated NumPy 1.25.)\n",
            "  features.append(float(lm.coef_))       # Append slope of regression line\n",
            "<ipython-input-12-668b296618b7>:55: DeprecationWarning: Conversion of an array with ndim > 0 to a scalar is deprecated, and will error in future. Ensure you extract a single element from your array before performing this operation. (Deprecated NumPy 1.25.)\n",
            "  features.append(float(lm.intercept_))  # Append intercept of regression line\n",
            "<ipython-input-12-668b296618b7>:56: DeprecationWarning: Conversion of an array with ndim > 0 to a scalar is deprecated, and will error in future. Ensure you extract a single element from your array before performing this operation. (Deprecated NumPy 1.25.)\n",
            "  features.append(float(lm.coef_))       # Append slope of regression line\n",
            "<ipython-input-12-668b296618b7>:55: DeprecationWarning: Conversion of an array with ndim > 0 to a scalar is deprecated, and will error in future. Ensure you extract a single element from your array before performing this operation. (Deprecated NumPy 1.25.)\n",
            "  features.append(float(lm.intercept_))  # Append intercept of regression line\n",
            "<ipython-input-12-668b296618b7>:56: DeprecationWarning: Conversion of an array with ndim > 0 to a scalar is deprecated, and will error in future. Ensure you extract a single element from your array before performing this operation. (Deprecated NumPy 1.25.)\n",
            "  features.append(float(lm.coef_))       # Append slope of regression line\n",
            "<ipython-input-12-668b296618b7>:55: DeprecationWarning: Conversion of an array with ndim > 0 to a scalar is deprecated, and will error in future. Ensure you extract a single element from your array before performing this operation. (Deprecated NumPy 1.25.)\n",
            "  features.append(float(lm.intercept_))  # Append intercept of regression line\n",
            "<ipython-input-12-668b296618b7>:56: DeprecationWarning: Conversion of an array with ndim > 0 to a scalar is deprecated, and will error in future. Ensure you extract a single element from your array before performing this operation. (Deprecated NumPy 1.25.)\n",
            "  features.append(float(lm.coef_))       # Append slope of regression line\n",
            "<ipython-input-12-668b296618b7>:55: DeprecationWarning: Conversion of an array with ndim > 0 to a scalar is deprecated, and will error in future. Ensure you extract a single element from your array before performing this operation. (Deprecated NumPy 1.25.)\n",
            "  features.append(float(lm.intercept_))  # Append intercept of regression line\n",
            "<ipython-input-12-668b296618b7>:56: DeprecationWarning: Conversion of an array with ndim > 0 to a scalar is deprecated, and will error in future. Ensure you extract a single element from your array before performing this operation. (Deprecated NumPy 1.25.)\n",
            "  features.append(float(lm.coef_))       # Append slope of regression line\n",
            "<ipython-input-12-668b296618b7>:55: DeprecationWarning: Conversion of an array with ndim > 0 to a scalar is deprecated, and will error in future. Ensure you extract a single element from your array before performing this operation. (Deprecated NumPy 1.25.)\n",
            "  features.append(float(lm.intercept_))  # Append intercept of regression line\n",
            "<ipython-input-12-668b296618b7>:56: DeprecationWarning: Conversion of an array with ndim > 0 to a scalar is deprecated, and will error in future. Ensure you extract a single element from your array before performing this operation. (Deprecated NumPy 1.25.)\n",
            "  features.append(float(lm.coef_))       # Append slope of regression line\n",
            "<ipython-input-12-668b296618b7>:55: DeprecationWarning: Conversion of an array with ndim > 0 to a scalar is deprecated, and will error in future. Ensure you extract a single element from your array before performing this operation. (Deprecated NumPy 1.25.)\n",
            "  features.append(float(lm.intercept_))  # Append intercept of regression line\n",
            "<ipython-input-12-668b296618b7>:56: DeprecationWarning: Conversion of an array with ndim > 0 to a scalar is deprecated, and will error in future. Ensure you extract a single element from your array before performing this operation. (Deprecated NumPy 1.25.)\n",
            "  features.append(float(lm.coef_))       # Append slope of regression line\n",
            "<ipython-input-12-668b296618b7>:55: DeprecationWarning: Conversion of an array with ndim > 0 to a scalar is deprecated, and will error in future. Ensure you extract a single element from your array before performing this operation. (Deprecated NumPy 1.25.)\n",
            "  features.append(float(lm.intercept_))  # Append intercept of regression line\n",
            "<ipython-input-12-668b296618b7>:56: DeprecationWarning: Conversion of an array with ndim > 0 to a scalar is deprecated, and will error in future. Ensure you extract a single element from your array before performing this operation. (Deprecated NumPy 1.25.)\n",
            "  features.append(float(lm.coef_))       # Append slope of regression line\n",
            "<ipython-input-12-668b296618b7>:55: DeprecationWarning: Conversion of an array with ndim > 0 to a scalar is deprecated, and will error in future. Ensure you extract a single element from your array before performing this operation. (Deprecated NumPy 1.25.)\n",
            "  features.append(float(lm.intercept_))  # Append intercept of regression line\n",
            "<ipython-input-12-668b296618b7>:56: DeprecationWarning: Conversion of an array with ndim > 0 to a scalar is deprecated, and will error in future. Ensure you extract a single element from your array before performing this operation. (Deprecated NumPy 1.25.)\n",
            "  features.append(float(lm.coef_))       # Append slope of regression line\n",
            "<ipython-input-12-668b296618b7>:55: DeprecationWarning: Conversion of an array with ndim > 0 to a scalar is deprecated, and will error in future. Ensure you extract a single element from your array before performing this operation. (Deprecated NumPy 1.25.)\n",
            "  features.append(float(lm.intercept_))  # Append intercept of regression line\n",
            "<ipython-input-12-668b296618b7>:56: DeprecationWarning: Conversion of an array with ndim > 0 to a scalar is deprecated, and will error in future. Ensure you extract a single element from your array before performing this operation. (Deprecated NumPy 1.25.)\n",
            "  features.append(float(lm.coef_))       # Append slope of regression line\n",
            "<ipython-input-12-668b296618b7>:55: DeprecationWarning: Conversion of an array with ndim > 0 to a scalar is deprecated, and will error in future. Ensure you extract a single element from your array before performing this operation. (Deprecated NumPy 1.25.)\n",
            "  features.append(float(lm.intercept_))  # Append intercept of regression line\n",
            "<ipython-input-12-668b296618b7>:56: DeprecationWarning: Conversion of an array with ndim > 0 to a scalar is deprecated, and will error in future. Ensure you extract a single element from your array before performing this operation. (Deprecated NumPy 1.25.)\n",
            "  features.append(float(lm.coef_))       # Append slope of regression line\n",
            "<ipython-input-12-668b296618b7>:55: DeprecationWarning: Conversion of an array with ndim > 0 to a scalar is deprecated, and will error in future. Ensure you extract a single element from your array before performing this operation. (Deprecated NumPy 1.25.)\n",
            "  features.append(float(lm.intercept_))  # Append intercept of regression line\n",
            "<ipython-input-12-668b296618b7>:56: DeprecationWarning: Conversion of an array with ndim > 0 to a scalar is deprecated, and will error in future. Ensure you extract a single element from your array before performing this operation. (Deprecated NumPy 1.25.)\n",
            "  features.append(float(lm.coef_))       # Append slope of regression line\n",
            "<ipython-input-12-668b296618b7>:55: DeprecationWarning: Conversion of an array with ndim > 0 to a scalar is deprecated, and will error in future. Ensure you extract a single element from your array before performing this operation. (Deprecated NumPy 1.25.)\n",
            "  features.append(float(lm.intercept_))  # Append intercept of regression line\n",
            "<ipython-input-12-668b296618b7>:56: DeprecationWarning: Conversion of an array with ndim > 0 to a scalar is deprecated, and will error in future. Ensure you extract a single element from your array before performing this operation. (Deprecated NumPy 1.25.)\n",
            "  features.append(float(lm.coef_))       # Append slope of regression line\n",
            "<ipython-input-12-668b296618b7>:55: DeprecationWarning: Conversion of an array with ndim > 0 to a scalar is deprecated, and will error in future. Ensure you extract a single element from your array before performing this operation. (Deprecated NumPy 1.25.)\n",
            "  features.append(float(lm.intercept_))  # Append intercept of regression line\n",
            "<ipython-input-12-668b296618b7>:56: DeprecationWarning: Conversion of an array with ndim > 0 to a scalar is deprecated, and will error in future. Ensure you extract a single element from your array before performing this operation. (Deprecated NumPy 1.25.)\n",
            "  features.append(float(lm.coef_))       # Append slope of regression line\n",
            "<ipython-input-12-668b296618b7>:55: DeprecationWarning: Conversion of an array with ndim > 0 to a scalar is deprecated, and will error in future. Ensure you extract a single element from your array before performing this operation. (Deprecated NumPy 1.25.)\n",
            "  features.append(float(lm.intercept_))  # Append intercept of regression line\n",
            "<ipython-input-12-668b296618b7>:56: DeprecationWarning: Conversion of an array with ndim > 0 to a scalar is deprecated, and will error in future. Ensure you extract a single element from your array before performing this operation. (Deprecated NumPy 1.25.)\n",
            "  features.append(float(lm.coef_))       # Append slope of regression line\n",
            "<ipython-input-12-668b296618b7>:55: DeprecationWarning: Conversion of an array with ndim > 0 to a scalar is deprecated, and will error in future. Ensure you extract a single element from your array before performing this operation. (Deprecated NumPy 1.25.)\n",
            "  features.append(float(lm.intercept_))  # Append intercept of regression line\n",
            "<ipython-input-12-668b296618b7>:56: DeprecationWarning: Conversion of an array with ndim > 0 to a scalar is deprecated, and will error in future. Ensure you extract a single element from your array before performing this operation. (Deprecated NumPy 1.25.)\n",
            "  features.append(float(lm.coef_))       # Append slope of regression line\n",
            "<ipython-input-12-668b296618b7>:55: DeprecationWarning: Conversion of an array with ndim > 0 to a scalar is deprecated, and will error in future. Ensure you extract a single element from your array before performing this operation. (Deprecated NumPy 1.25.)\n",
            "  features.append(float(lm.intercept_))  # Append intercept of regression line\n",
            "<ipython-input-12-668b296618b7>:56: DeprecationWarning: Conversion of an array with ndim > 0 to a scalar is deprecated, and will error in future. Ensure you extract a single element from your array before performing this operation. (Deprecated NumPy 1.25.)\n",
            "  features.append(float(lm.coef_))       # Append slope of regression line\n",
            "<ipython-input-12-668b296618b7>:55: DeprecationWarning: Conversion of an array with ndim > 0 to a scalar is deprecated, and will error in future. Ensure you extract a single element from your array before performing this operation. (Deprecated NumPy 1.25.)\n",
            "  features.append(float(lm.intercept_))  # Append intercept of regression line\n",
            "<ipython-input-12-668b296618b7>:56: DeprecationWarning: Conversion of an array with ndim > 0 to a scalar is deprecated, and will error in future. Ensure you extract a single element from your array before performing this operation. (Deprecated NumPy 1.25.)\n",
            "  features.append(float(lm.coef_))       # Append slope of regression line\n",
            "<ipython-input-12-668b296618b7>:55: DeprecationWarning: Conversion of an array with ndim > 0 to a scalar is deprecated, and will error in future. Ensure you extract a single element from your array before performing this operation. (Deprecated NumPy 1.25.)\n",
            "  features.append(float(lm.intercept_))  # Append intercept of regression line\n",
            "<ipython-input-12-668b296618b7>:56: DeprecationWarning: Conversion of an array with ndim > 0 to a scalar is deprecated, and will error in future. Ensure you extract a single element from your array before performing this operation. (Deprecated NumPy 1.25.)\n",
            "  features.append(float(lm.coef_))       # Append slope of regression line\n",
            "<ipython-input-12-668b296618b7>:55: DeprecationWarning: Conversion of an array with ndim > 0 to a scalar is deprecated, and will error in future. Ensure you extract a single element from your array before performing this operation. (Deprecated NumPy 1.25.)\n",
            "  features.append(float(lm.intercept_))  # Append intercept of regression line\n",
            "<ipython-input-12-668b296618b7>:56: DeprecationWarning: Conversion of an array with ndim > 0 to a scalar is deprecated, and will error in future. Ensure you extract a single element from your array before performing this operation. (Deprecated NumPy 1.25.)\n",
            "  features.append(float(lm.coef_))       # Append slope of regression line\n",
            "<ipython-input-12-668b296618b7>:55: DeprecationWarning: Conversion of an array with ndim > 0 to a scalar is deprecated, and will error in future. Ensure you extract a single element from your array before performing this operation. (Deprecated NumPy 1.25.)\n",
            "  features.append(float(lm.intercept_))  # Append intercept of regression line\n",
            "<ipython-input-12-668b296618b7>:56: DeprecationWarning: Conversion of an array with ndim > 0 to a scalar is deprecated, and will error in future. Ensure you extract a single element from your array before performing this operation. (Deprecated NumPy 1.25.)\n",
            "  features.append(float(lm.coef_))       # Append slope of regression line\n",
            "<ipython-input-12-668b296618b7>:55: DeprecationWarning: Conversion of an array with ndim > 0 to a scalar is deprecated, and will error in future. Ensure you extract a single element from your array before performing this operation. (Deprecated NumPy 1.25.)\n",
            "  features.append(float(lm.intercept_))  # Append intercept of regression line\n",
            "<ipython-input-12-668b296618b7>:56: DeprecationWarning: Conversion of an array with ndim > 0 to a scalar is deprecated, and will error in future. Ensure you extract a single element from your array before performing this operation. (Deprecated NumPy 1.25.)\n",
            "  features.append(float(lm.coef_))       # Append slope of regression line\n",
            "<ipython-input-12-668b296618b7>:55: DeprecationWarning: Conversion of an array with ndim > 0 to a scalar is deprecated, and will error in future. Ensure you extract a single element from your array before performing this operation. (Deprecated NumPy 1.25.)\n",
            "  features.append(float(lm.intercept_))  # Append intercept of regression line\n",
            "<ipython-input-12-668b296618b7>:56: DeprecationWarning: Conversion of an array with ndim > 0 to a scalar is deprecated, and will error in future. Ensure you extract a single element from your array before performing this operation. (Deprecated NumPy 1.25.)\n",
            "  features.append(float(lm.coef_))       # Append slope of regression line\n",
            "<ipython-input-12-668b296618b7>:55: DeprecationWarning: Conversion of an array with ndim > 0 to a scalar is deprecated, and will error in future. Ensure you extract a single element from your array before performing this operation. (Deprecated NumPy 1.25.)\n",
            "  features.append(float(lm.intercept_))  # Append intercept of regression line\n",
            "<ipython-input-12-668b296618b7>:56: DeprecationWarning: Conversion of an array with ndim > 0 to a scalar is deprecated, and will error in future. Ensure you extract a single element from your array before performing this operation. (Deprecated NumPy 1.25.)\n",
            "  features.append(float(lm.coef_))       # Append slope of regression line\n",
            "<ipython-input-12-668b296618b7>:55: DeprecationWarning: Conversion of an array with ndim > 0 to a scalar is deprecated, and will error in future. Ensure you extract a single element from your array before performing this operation. (Deprecated NumPy 1.25.)\n",
            "  features.append(float(lm.intercept_))  # Append intercept of regression line\n",
            "<ipython-input-12-668b296618b7>:56: DeprecationWarning: Conversion of an array with ndim > 0 to a scalar is deprecated, and will error in future. Ensure you extract a single element from your array before performing this operation. (Deprecated NumPy 1.25.)\n",
            "  features.append(float(lm.coef_))       # Append slope of regression line\n",
            "<ipython-input-12-668b296618b7>:55: DeprecationWarning: Conversion of an array with ndim > 0 to a scalar is deprecated, and will error in future. Ensure you extract a single element from your array before performing this operation. (Deprecated NumPy 1.25.)\n",
            "  features.append(float(lm.intercept_))  # Append intercept of regression line\n",
            "<ipython-input-12-668b296618b7>:56: DeprecationWarning: Conversion of an array with ndim > 0 to a scalar is deprecated, and will error in future. Ensure you extract a single element from your array before performing this operation. (Deprecated NumPy 1.25.)\n",
            "  features.append(float(lm.coef_))       # Append slope of regression line\n",
            "<ipython-input-12-668b296618b7>:55: DeprecationWarning: Conversion of an array with ndim > 0 to a scalar is deprecated, and will error in future. Ensure you extract a single element from your array before performing this operation. (Deprecated NumPy 1.25.)\n",
            "  features.append(float(lm.intercept_))  # Append intercept of regression line\n",
            "<ipython-input-12-668b296618b7>:56: DeprecationWarning: Conversion of an array with ndim > 0 to a scalar is deprecated, and will error in future. Ensure you extract a single element from your array before performing this operation. (Deprecated NumPy 1.25.)\n",
            "  features.append(float(lm.coef_))       # Append slope of regression line\n",
            "<ipython-input-12-668b296618b7>:55: DeprecationWarning: Conversion of an array with ndim > 0 to a scalar is deprecated, and will error in future. Ensure you extract a single element from your array before performing this operation. (Deprecated NumPy 1.25.)\n",
            "  features.append(float(lm.intercept_))  # Append intercept of regression line\n",
            "<ipython-input-12-668b296618b7>:56: DeprecationWarning: Conversion of an array with ndim > 0 to a scalar is deprecated, and will error in future. Ensure you extract a single element from your array before performing this operation. (Deprecated NumPy 1.25.)\n",
            "  features.append(float(lm.coef_))       # Append slope of regression line\n",
            "<ipython-input-12-668b296618b7>:55: DeprecationWarning: Conversion of an array with ndim > 0 to a scalar is deprecated, and will error in future. Ensure you extract a single element from your array before performing this operation. (Deprecated NumPy 1.25.)\n",
            "  features.append(float(lm.intercept_))  # Append intercept of regression line\n",
            "<ipython-input-12-668b296618b7>:56: DeprecationWarning: Conversion of an array with ndim > 0 to a scalar is deprecated, and will error in future. Ensure you extract a single element from your array before performing this operation. (Deprecated NumPy 1.25.)\n",
            "  features.append(float(lm.coef_))       # Append slope of regression line\n",
            "<ipython-input-12-668b296618b7>:55: DeprecationWarning: Conversion of an array with ndim > 0 to a scalar is deprecated, and will error in future. Ensure you extract a single element from your array before performing this operation. (Deprecated NumPy 1.25.)\n",
            "  features.append(float(lm.intercept_))  # Append intercept of regression line\n",
            "<ipython-input-12-668b296618b7>:56: DeprecationWarning: Conversion of an array with ndim > 0 to a scalar is deprecated, and will error in future. Ensure you extract a single element from your array before performing this operation. (Deprecated NumPy 1.25.)\n",
            "  features.append(float(lm.coef_))       # Append slope of regression line\n",
            "<ipython-input-12-668b296618b7>:55: DeprecationWarning: Conversion of an array with ndim > 0 to a scalar is deprecated, and will error in future. Ensure you extract a single element from your array before performing this operation. (Deprecated NumPy 1.25.)\n",
            "  features.append(float(lm.intercept_))  # Append intercept of regression line\n",
            "<ipython-input-12-668b296618b7>:56: DeprecationWarning: Conversion of an array with ndim > 0 to a scalar is deprecated, and will error in future. Ensure you extract a single element from your array before performing this operation. (Deprecated NumPy 1.25.)\n",
            "  features.append(float(lm.coef_))       # Append slope of regression line\n",
            "<ipython-input-12-668b296618b7>:55: DeprecationWarning: Conversion of an array with ndim > 0 to a scalar is deprecated, and will error in future. Ensure you extract a single element from your array before performing this operation. (Deprecated NumPy 1.25.)\n",
            "  features.append(float(lm.intercept_))  # Append intercept of regression line\n",
            "<ipython-input-12-668b296618b7>:56: DeprecationWarning: Conversion of an array with ndim > 0 to a scalar is deprecated, and will error in future. Ensure you extract a single element from your array before performing this operation. (Deprecated NumPy 1.25.)\n",
            "  features.append(float(lm.coef_))       # Append slope of regression line\n",
            "<ipython-input-12-668b296618b7>:55: DeprecationWarning: Conversion of an array with ndim > 0 to a scalar is deprecated, and will error in future. Ensure you extract a single element from your array before performing this operation. (Deprecated NumPy 1.25.)\n",
            "  features.append(float(lm.intercept_))  # Append intercept of regression line\n",
            "<ipython-input-12-668b296618b7>:56: DeprecationWarning: Conversion of an array with ndim > 0 to a scalar is deprecated, and will error in future. Ensure you extract a single element from your array before performing this operation. (Deprecated NumPy 1.25.)\n",
            "  features.append(float(lm.coef_))       # Append slope of regression line\n",
            "<ipython-input-12-668b296618b7>:55: DeprecationWarning: Conversion of an array with ndim > 0 to a scalar is deprecated, and will error in future. Ensure you extract a single element from your array before performing this operation. (Deprecated NumPy 1.25.)\n",
            "  features.append(float(lm.intercept_))  # Append intercept of regression line\n",
            "<ipython-input-12-668b296618b7>:56: DeprecationWarning: Conversion of an array with ndim > 0 to a scalar is deprecated, and will error in future. Ensure you extract a single element from your array before performing this operation. (Deprecated NumPy 1.25.)\n",
            "  features.append(float(lm.coef_))       # Append slope of regression line\n",
            "<ipython-input-12-668b296618b7>:55: DeprecationWarning: Conversion of an array with ndim > 0 to a scalar is deprecated, and will error in future. Ensure you extract a single element from your array before performing this operation. (Deprecated NumPy 1.25.)\n",
            "  features.append(float(lm.intercept_))  # Append intercept of regression line\n",
            "<ipython-input-12-668b296618b7>:56: DeprecationWarning: Conversion of an array with ndim > 0 to a scalar is deprecated, and will error in future. Ensure you extract a single element from your array before performing this operation. (Deprecated NumPy 1.25.)\n",
            "  features.append(float(lm.coef_))       # Append slope of regression line\n",
            "<ipython-input-12-668b296618b7>:55: DeprecationWarning: Conversion of an array with ndim > 0 to a scalar is deprecated, and will error in future. Ensure you extract a single element from your array before performing this operation. (Deprecated NumPy 1.25.)\n",
            "  features.append(float(lm.intercept_))  # Append intercept of regression line\n",
            "<ipython-input-12-668b296618b7>:56: DeprecationWarning: Conversion of an array with ndim > 0 to a scalar is deprecated, and will error in future. Ensure you extract a single element from your array before performing this operation. (Deprecated NumPy 1.25.)\n",
            "  features.append(float(lm.coef_))       # Append slope of regression line\n",
            "<ipython-input-12-668b296618b7>:55: DeprecationWarning: Conversion of an array with ndim > 0 to a scalar is deprecated, and will error in future. Ensure you extract a single element from your array before performing this operation. (Deprecated NumPy 1.25.)\n",
            "  features.append(float(lm.intercept_))  # Append intercept of regression line\n",
            "<ipython-input-12-668b296618b7>:56: DeprecationWarning: Conversion of an array with ndim > 0 to a scalar is deprecated, and will error in future. Ensure you extract a single element from your array before performing this operation. (Deprecated NumPy 1.25.)\n",
            "  features.append(float(lm.coef_))       # Append slope of regression line\n",
            "<ipython-input-12-668b296618b7>:55: DeprecationWarning: Conversion of an array with ndim > 0 to a scalar is deprecated, and will error in future. Ensure you extract a single element from your array before performing this operation. (Deprecated NumPy 1.25.)\n",
            "  features.append(float(lm.intercept_))  # Append intercept of regression line\n",
            "<ipython-input-12-668b296618b7>:56: DeprecationWarning: Conversion of an array with ndim > 0 to a scalar is deprecated, and will error in future. Ensure you extract a single element from your array before performing this operation. (Deprecated NumPy 1.25.)\n",
            "  features.append(float(lm.coef_))       # Append slope of regression line\n",
            "<ipython-input-12-668b296618b7>:55: DeprecationWarning: Conversion of an array with ndim > 0 to a scalar is deprecated, and will error in future. Ensure you extract a single element from your array before performing this operation. (Deprecated NumPy 1.25.)\n",
            "  features.append(float(lm.intercept_))  # Append intercept of regression line\n",
            "<ipython-input-12-668b296618b7>:56: DeprecationWarning: Conversion of an array with ndim > 0 to a scalar is deprecated, and will error in future. Ensure you extract a single element from your array before performing this operation. (Deprecated NumPy 1.25.)\n",
            "  features.append(float(lm.coef_))       # Append slope of regression line\n",
            "<ipython-input-12-668b296618b7>:55: DeprecationWarning: Conversion of an array with ndim > 0 to a scalar is deprecated, and will error in future. Ensure you extract a single element from your array before performing this operation. (Deprecated NumPy 1.25.)\n",
            "  features.append(float(lm.intercept_))  # Append intercept of regression line\n",
            "<ipython-input-12-668b296618b7>:56: DeprecationWarning: Conversion of an array with ndim > 0 to a scalar is deprecated, and will error in future. Ensure you extract a single element from your array before performing this operation. (Deprecated NumPy 1.25.)\n",
            "  features.append(float(lm.coef_))       # Append slope of regression line\n",
            "<ipython-input-12-668b296618b7>:55: DeprecationWarning: Conversion of an array with ndim > 0 to a scalar is deprecated, and will error in future. Ensure you extract a single element from your array before performing this operation. (Deprecated NumPy 1.25.)\n",
            "  features.append(float(lm.intercept_))  # Append intercept of regression line\n",
            "<ipython-input-12-668b296618b7>:56: DeprecationWarning: Conversion of an array with ndim > 0 to a scalar is deprecated, and will error in future. Ensure you extract a single element from your array before performing this operation. (Deprecated NumPy 1.25.)\n",
            "  features.append(float(lm.coef_))       # Append slope of regression line\n",
            "<ipython-input-12-668b296618b7>:55: DeprecationWarning: Conversion of an array with ndim > 0 to a scalar is deprecated, and will error in future. Ensure you extract a single element from your array before performing this operation. (Deprecated NumPy 1.25.)\n",
            "  features.append(float(lm.intercept_))  # Append intercept of regression line\n",
            "<ipython-input-12-668b296618b7>:56: DeprecationWarning: Conversion of an array with ndim > 0 to a scalar is deprecated, and will error in future. Ensure you extract a single element from your array before performing this operation. (Deprecated NumPy 1.25.)\n",
            "  features.append(float(lm.coef_))       # Append slope of regression line\n",
            "<ipython-input-12-668b296618b7>:55: DeprecationWarning: Conversion of an array with ndim > 0 to a scalar is deprecated, and will error in future. Ensure you extract a single element from your array before performing this operation. (Deprecated NumPy 1.25.)\n",
            "  features.append(float(lm.intercept_))  # Append intercept of regression line\n",
            "<ipython-input-12-668b296618b7>:56: DeprecationWarning: Conversion of an array with ndim > 0 to a scalar is deprecated, and will error in future. Ensure you extract a single element from your array before performing this operation. (Deprecated NumPy 1.25.)\n",
            "  features.append(float(lm.coef_))       # Append slope of regression line\n",
            "<ipython-input-12-668b296618b7>:55: DeprecationWarning: Conversion of an array with ndim > 0 to a scalar is deprecated, and will error in future. Ensure you extract a single element from your array before performing this operation. (Deprecated NumPy 1.25.)\n",
            "  features.append(float(lm.intercept_))  # Append intercept of regression line\n",
            "<ipython-input-12-668b296618b7>:56: DeprecationWarning: Conversion of an array with ndim > 0 to a scalar is deprecated, and will error in future. Ensure you extract a single element from your array before performing this operation. (Deprecated NumPy 1.25.)\n",
            "  features.append(float(lm.coef_))       # Append slope of regression line\n",
            "<ipython-input-12-668b296618b7>:55: DeprecationWarning: Conversion of an array with ndim > 0 to a scalar is deprecated, and will error in future. Ensure you extract a single element from your array before performing this operation. (Deprecated NumPy 1.25.)\n",
            "  features.append(float(lm.intercept_))  # Append intercept of regression line\n",
            "<ipython-input-12-668b296618b7>:56: DeprecationWarning: Conversion of an array with ndim > 0 to a scalar is deprecated, and will error in future. Ensure you extract a single element from your array before performing this operation. (Deprecated NumPy 1.25.)\n",
            "  features.append(float(lm.coef_))       # Append slope of regression line\n",
            "<ipython-input-12-668b296618b7>:55: DeprecationWarning: Conversion of an array with ndim > 0 to a scalar is deprecated, and will error in future. Ensure you extract a single element from your array before performing this operation. (Deprecated NumPy 1.25.)\n",
            "  features.append(float(lm.intercept_))  # Append intercept of regression line\n",
            "<ipython-input-12-668b296618b7>:56: DeprecationWarning: Conversion of an array with ndim > 0 to a scalar is deprecated, and will error in future. Ensure you extract a single element from your array before performing this operation. (Deprecated NumPy 1.25.)\n",
            "  features.append(float(lm.coef_))       # Append slope of regression line\n",
            "<ipython-input-12-668b296618b7>:55: DeprecationWarning: Conversion of an array with ndim > 0 to a scalar is deprecated, and will error in future. Ensure you extract a single element from your array before performing this operation. (Deprecated NumPy 1.25.)\n",
            "  features.append(float(lm.intercept_))  # Append intercept of regression line\n",
            "<ipython-input-12-668b296618b7>:56: DeprecationWarning: Conversion of an array with ndim > 0 to a scalar is deprecated, and will error in future. Ensure you extract a single element from your array before performing this operation. (Deprecated NumPy 1.25.)\n",
            "  features.append(float(lm.coef_))       # Append slope of regression line\n",
            "<ipython-input-12-668b296618b7>:55: DeprecationWarning: Conversion of an array with ndim > 0 to a scalar is deprecated, and will error in future. Ensure you extract a single element from your array before performing this operation. (Deprecated NumPy 1.25.)\n",
            "  features.append(float(lm.intercept_))  # Append intercept of regression line\n",
            "<ipython-input-12-668b296618b7>:56: DeprecationWarning: Conversion of an array with ndim > 0 to a scalar is deprecated, and will error in future. Ensure you extract a single element from your array before performing this operation. (Deprecated NumPy 1.25.)\n",
            "  features.append(float(lm.coef_))       # Append slope of regression line\n",
            "<ipython-input-12-668b296618b7>:55: DeprecationWarning: Conversion of an array with ndim > 0 to a scalar is deprecated, and will error in future. Ensure you extract a single element from your array before performing this operation. (Deprecated NumPy 1.25.)\n",
            "  features.append(float(lm.intercept_))  # Append intercept of regression line\n",
            "<ipython-input-12-668b296618b7>:56: DeprecationWarning: Conversion of an array with ndim > 0 to a scalar is deprecated, and will error in future. Ensure you extract a single element from your array before performing this operation. (Deprecated NumPy 1.25.)\n",
            "  features.append(float(lm.coef_))       # Append slope of regression line\n",
            "<ipython-input-12-668b296618b7>:55: DeprecationWarning: Conversion of an array with ndim > 0 to a scalar is deprecated, and will error in future. Ensure you extract a single element from your array before performing this operation. (Deprecated NumPy 1.25.)\n",
            "  features.append(float(lm.intercept_))  # Append intercept of regression line\n",
            "<ipython-input-12-668b296618b7>:56: DeprecationWarning: Conversion of an array with ndim > 0 to a scalar is deprecated, and will error in future. Ensure you extract a single element from your array before performing this operation. (Deprecated NumPy 1.25.)\n",
            "  features.append(float(lm.coef_))       # Append slope of regression line\n",
            "<ipython-input-12-668b296618b7>:55: DeprecationWarning: Conversion of an array with ndim > 0 to a scalar is deprecated, and will error in future. Ensure you extract a single element from your array before performing this operation. (Deprecated NumPy 1.25.)\n",
            "  features.append(float(lm.intercept_))  # Append intercept of regression line\n",
            "<ipython-input-12-668b296618b7>:56: DeprecationWarning: Conversion of an array with ndim > 0 to a scalar is deprecated, and will error in future. Ensure you extract a single element from your array before performing this operation. (Deprecated NumPy 1.25.)\n",
            "  features.append(float(lm.coef_))       # Append slope of regression line\n",
            "<ipython-input-12-668b296618b7>:55: DeprecationWarning: Conversion of an array with ndim > 0 to a scalar is deprecated, and will error in future. Ensure you extract a single element from your array before performing this operation. (Deprecated NumPy 1.25.)\n",
            "  features.append(float(lm.intercept_))  # Append intercept of regression line\n",
            "<ipython-input-12-668b296618b7>:56: DeprecationWarning: Conversion of an array with ndim > 0 to a scalar is deprecated, and will error in future. Ensure you extract a single element from your array before performing this operation. (Deprecated NumPy 1.25.)\n",
            "  features.append(float(lm.coef_))       # Append slope of regression line\n",
            "<ipython-input-12-668b296618b7>:55: DeprecationWarning: Conversion of an array with ndim > 0 to a scalar is deprecated, and will error in future. Ensure you extract a single element from your array before performing this operation. (Deprecated NumPy 1.25.)\n",
            "  features.append(float(lm.intercept_))  # Append intercept of regression line\n",
            "<ipython-input-12-668b296618b7>:56: DeprecationWarning: Conversion of an array with ndim > 0 to a scalar is deprecated, and will error in future. Ensure you extract a single element from your array before performing this operation. (Deprecated NumPy 1.25.)\n",
            "  features.append(float(lm.coef_))       # Append slope of regression line\n",
            "<ipython-input-12-668b296618b7>:55: DeprecationWarning: Conversion of an array with ndim > 0 to a scalar is deprecated, and will error in future. Ensure you extract a single element from your array before performing this operation. (Deprecated NumPy 1.25.)\n",
            "  features.append(float(lm.intercept_))  # Append intercept of regression line\n",
            "<ipython-input-12-668b296618b7>:56: DeprecationWarning: Conversion of an array with ndim > 0 to a scalar is deprecated, and will error in future. Ensure you extract a single element from your array before performing this operation. (Deprecated NumPy 1.25.)\n",
            "  features.append(float(lm.coef_))       # Append slope of regression line\n",
            "<ipython-input-12-668b296618b7>:55: DeprecationWarning: Conversion of an array with ndim > 0 to a scalar is deprecated, and will error in future. Ensure you extract a single element from your array before performing this operation. (Deprecated NumPy 1.25.)\n",
            "  features.append(float(lm.intercept_))  # Append intercept of regression line\n",
            "<ipython-input-12-668b296618b7>:56: DeprecationWarning: Conversion of an array with ndim > 0 to a scalar is deprecated, and will error in future. Ensure you extract a single element from your array before performing this operation. (Deprecated NumPy 1.25.)\n",
            "  features.append(float(lm.coef_))       # Append slope of regression line\n",
            "<ipython-input-12-668b296618b7>:55: DeprecationWarning: Conversion of an array with ndim > 0 to a scalar is deprecated, and will error in future. Ensure you extract a single element from your array before performing this operation. (Deprecated NumPy 1.25.)\n",
            "  features.append(float(lm.intercept_))  # Append intercept of regression line\n",
            "<ipython-input-12-668b296618b7>:56: DeprecationWarning: Conversion of an array with ndim > 0 to a scalar is deprecated, and will error in future. Ensure you extract a single element from your array before performing this operation. (Deprecated NumPy 1.25.)\n",
            "  features.append(float(lm.coef_))       # Append slope of regression line\n",
            "<ipython-input-12-668b296618b7>:55: DeprecationWarning: Conversion of an array with ndim > 0 to a scalar is deprecated, and will error in future. Ensure you extract a single element from your array before performing this operation. (Deprecated NumPy 1.25.)\n",
            "  features.append(float(lm.intercept_))  # Append intercept of regression line\n",
            "<ipython-input-12-668b296618b7>:56: DeprecationWarning: Conversion of an array with ndim > 0 to a scalar is deprecated, and will error in future. Ensure you extract a single element from your array before performing this operation. (Deprecated NumPy 1.25.)\n",
            "  features.append(float(lm.coef_))       # Append slope of regression line\n",
            "<ipython-input-12-668b296618b7>:55: DeprecationWarning: Conversion of an array with ndim > 0 to a scalar is deprecated, and will error in future. Ensure you extract a single element from your array before performing this operation. (Deprecated NumPy 1.25.)\n",
            "  features.append(float(lm.intercept_))  # Append intercept of regression line\n",
            "<ipython-input-12-668b296618b7>:56: DeprecationWarning: Conversion of an array with ndim > 0 to a scalar is deprecated, and will error in future. Ensure you extract a single element from your array before performing this operation. (Deprecated NumPy 1.25.)\n",
            "  features.append(float(lm.coef_))       # Append slope of regression line\n",
            "<ipython-input-12-668b296618b7>:55: DeprecationWarning: Conversion of an array with ndim > 0 to a scalar is deprecated, and will error in future. Ensure you extract a single element from your array before performing this operation. (Deprecated NumPy 1.25.)\n",
            "  features.append(float(lm.intercept_))  # Append intercept of regression line\n",
            "<ipython-input-12-668b296618b7>:56: DeprecationWarning: Conversion of an array with ndim > 0 to a scalar is deprecated, and will error in future. Ensure you extract a single element from your array before performing this operation. (Deprecated NumPy 1.25.)\n",
            "  features.append(float(lm.coef_))       # Append slope of regression line\n",
            "<ipython-input-12-668b296618b7>:55: DeprecationWarning: Conversion of an array with ndim > 0 to a scalar is deprecated, and will error in future. Ensure you extract a single element from your array before performing this operation. (Deprecated NumPy 1.25.)\n",
            "  features.append(float(lm.intercept_))  # Append intercept of regression line\n",
            "<ipython-input-12-668b296618b7>:56: DeprecationWarning: Conversion of an array with ndim > 0 to a scalar is deprecated, and will error in future. Ensure you extract a single element from your array before performing this operation. (Deprecated NumPy 1.25.)\n",
            "  features.append(float(lm.coef_))       # Append slope of regression line\n",
            "<ipython-input-12-668b296618b7>:55: DeprecationWarning: Conversion of an array with ndim > 0 to a scalar is deprecated, and will error in future. Ensure you extract a single element from your array before performing this operation. (Deprecated NumPy 1.25.)\n",
            "  features.append(float(lm.intercept_))  # Append intercept of regression line\n",
            "<ipython-input-12-668b296618b7>:56: DeprecationWarning: Conversion of an array with ndim > 0 to a scalar is deprecated, and will error in future. Ensure you extract a single element from your array before performing this operation. (Deprecated NumPy 1.25.)\n",
            "  features.append(float(lm.coef_))       # Append slope of regression line\n",
            "<ipython-input-12-668b296618b7>:55: DeprecationWarning: Conversion of an array with ndim > 0 to a scalar is deprecated, and will error in future. Ensure you extract a single element from your array before performing this operation. (Deprecated NumPy 1.25.)\n",
            "  features.append(float(lm.intercept_))  # Append intercept of regression line\n",
            "<ipython-input-12-668b296618b7>:56: DeprecationWarning: Conversion of an array with ndim > 0 to a scalar is deprecated, and will error in future. Ensure you extract a single element from your array before performing this operation. (Deprecated NumPy 1.25.)\n",
            "  features.append(float(lm.coef_))       # Append slope of regression line\n",
            "<ipython-input-12-668b296618b7>:55: DeprecationWarning: Conversion of an array with ndim > 0 to a scalar is deprecated, and will error in future. Ensure you extract a single element from your array before performing this operation. (Deprecated NumPy 1.25.)\n",
            "  features.append(float(lm.intercept_))  # Append intercept of regression line\n",
            "<ipython-input-12-668b296618b7>:56: DeprecationWarning: Conversion of an array with ndim > 0 to a scalar is deprecated, and will error in future. Ensure you extract a single element from your array before performing this operation. (Deprecated NumPy 1.25.)\n",
            "  features.append(float(lm.coef_))       # Append slope of regression line\n",
            "<ipython-input-12-668b296618b7>:55: DeprecationWarning: Conversion of an array with ndim > 0 to a scalar is deprecated, and will error in future. Ensure you extract a single element from your array before performing this operation. (Deprecated NumPy 1.25.)\n",
            "  features.append(float(lm.intercept_))  # Append intercept of regression line\n",
            "<ipython-input-12-668b296618b7>:56: DeprecationWarning: Conversion of an array with ndim > 0 to a scalar is deprecated, and will error in future. Ensure you extract a single element from your array before performing this operation. (Deprecated NumPy 1.25.)\n",
            "  features.append(float(lm.coef_))       # Append slope of regression line\n",
            "<ipython-input-12-668b296618b7>:55: DeprecationWarning: Conversion of an array with ndim > 0 to a scalar is deprecated, and will error in future. Ensure you extract a single element from your array before performing this operation. (Deprecated NumPy 1.25.)\n",
            "  features.append(float(lm.intercept_))  # Append intercept of regression line\n",
            "<ipython-input-12-668b296618b7>:56: DeprecationWarning: Conversion of an array with ndim > 0 to a scalar is deprecated, and will error in future. Ensure you extract a single element from your array before performing this operation. (Deprecated NumPy 1.25.)\n",
            "  features.append(float(lm.coef_))       # Append slope of regression line\n",
            "<ipython-input-12-668b296618b7>:55: DeprecationWarning: Conversion of an array with ndim > 0 to a scalar is deprecated, and will error in future. Ensure you extract a single element from your array before performing this operation. (Deprecated NumPy 1.25.)\n",
            "  features.append(float(lm.intercept_))  # Append intercept of regression line\n",
            "<ipython-input-12-668b296618b7>:56: DeprecationWarning: Conversion of an array with ndim > 0 to a scalar is deprecated, and will error in future. Ensure you extract a single element from your array before performing this operation. (Deprecated NumPy 1.25.)\n",
            "  features.append(float(lm.coef_))       # Append slope of regression line\n",
            "<ipython-input-12-668b296618b7>:55: DeprecationWarning: Conversion of an array with ndim > 0 to a scalar is deprecated, and will error in future. Ensure you extract a single element from your array before performing this operation. (Deprecated NumPy 1.25.)\n",
            "  features.append(float(lm.intercept_))  # Append intercept of regression line\n",
            "<ipython-input-12-668b296618b7>:56: DeprecationWarning: Conversion of an array with ndim > 0 to a scalar is deprecated, and will error in future. Ensure you extract a single element from your array before performing this operation. (Deprecated NumPy 1.25.)\n",
            "  features.append(float(lm.coef_))       # Append slope of regression line\n",
            "<ipython-input-12-668b296618b7>:55: DeprecationWarning: Conversion of an array with ndim > 0 to a scalar is deprecated, and will error in future. Ensure you extract a single element from your array before performing this operation. (Deprecated NumPy 1.25.)\n",
            "  features.append(float(lm.intercept_))  # Append intercept of regression line\n",
            "<ipython-input-12-668b296618b7>:56: DeprecationWarning: Conversion of an array with ndim > 0 to a scalar is deprecated, and will error in future. Ensure you extract a single element from your array before performing this operation. (Deprecated NumPy 1.25.)\n",
            "  features.append(float(lm.coef_))       # Append slope of regression line\n",
            "<ipython-input-12-668b296618b7>:55: DeprecationWarning: Conversion of an array with ndim > 0 to a scalar is deprecated, and will error in future. Ensure you extract a single element from your array before performing this operation. (Deprecated NumPy 1.25.)\n",
            "  features.append(float(lm.intercept_))  # Append intercept of regression line\n",
            "<ipython-input-12-668b296618b7>:56: DeprecationWarning: Conversion of an array with ndim > 0 to a scalar is deprecated, and will error in future. Ensure you extract a single element from your array before performing this operation. (Deprecated NumPy 1.25.)\n",
            "  features.append(float(lm.coef_))       # Append slope of regression line\n",
            "<ipython-input-12-668b296618b7>:55: DeprecationWarning: Conversion of an array with ndim > 0 to a scalar is deprecated, and will error in future. Ensure you extract a single element from your array before performing this operation. (Deprecated NumPy 1.25.)\n",
            "  features.append(float(lm.intercept_))  # Append intercept of regression line\n",
            "<ipython-input-12-668b296618b7>:56: DeprecationWarning: Conversion of an array with ndim > 0 to a scalar is deprecated, and will error in future. Ensure you extract a single element from your array before performing this operation. (Deprecated NumPy 1.25.)\n",
            "  features.append(float(lm.coef_))       # Append slope of regression line\n",
            "<ipython-input-12-668b296618b7>:55: DeprecationWarning: Conversion of an array with ndim > 0 to a scalar is deprecated, and will error in future. Ensure you extract a single element from your array before performing this operation. (Deprecated NumPy 1.25.)\n",
            "  features.append(float(lm.intercept_))  # Append intercept of regression line\n",
            "<ipython-input-12-668b296618b7>:56: DeprecationWarning: Conversion of an array with ndim > 0 to a scalar is deprecated, and will error in future. Ensure you extract a single element from your array before performing this operation. (Deprecated NumPy 1.25.)\n",
            "  features.append(float(lm.coef_))       # Append slope of regression line\n",
            "<ipython-input-12-668b296618b7>:55: DeprecationWarning: Conversion of an array with ndim > 0 to a scalar is deprecated, and will error in future. Ensure you extract a single element from your array before performing this operation. (Deprecated NumPy 1.25.)\n",
            "  features.append(float(lm.intercept_))  # Append intercept of regression line\n",
            "<ipython-input-12-668b296618b7>:56: DeprecationWarning: Conversion of an array with ndim > 0 to a scalar is deprecated, and will error in future. Ensure you extract a single element from your array before performing this operation. (Deprecated NumPy 1.25.)\n",
            "  features.append(float(lm.coef_))       # Append slope of regression line\n",
            "<ipython-input-12-668b296618b7>:55: DeprecationWarning: Conversion of an array with ndim > 0 to a scalar is deprecated, and will error in future. Ensure you extract a single element from your array before performing this operation. (Deprecated NumPy 1.25.)\n",
            "  features.append(float(lm.intercept_))  # Append intercept of regression line\n",
            "<ipython-input-12-668b296618b7>:56: DeprecationWarning: Conversion of an array with ndim > 0 to a scalar is deprecated, and will error in future. Ensure you extract a single element from your array before performing this operation. (Deprecated NumPy 1.25.)\n",
            "  features.append(float(lm.coef_))       # Append slope of regression line\n",
            "<ipython-input-12-668b296618b7>:55: DeprecationWarning: Conversion of an array with ndim > 0 to a scalar is deprecated, and will error in future. Ensure you extract a single element from your array before performing this operation. (Deprecated NumPy 1.25.)\n",
            "  features.append(float(lm.intercept_))  # Append intercept of regression line\n",
            "<ipython-input-12-668b296618b7>:56: DeprecationWarning: Conversion of an array with ndim > 0 to a scalar is deprecated, and will error in future. Ensure you extract a single element from your array before performing this operation. (Deprecated NumPy 1.25.)\n",
            "  features.append(float(lm.coef_))       # Append slope of regression line\n",
            "<ipython-input-12-668b296618b7>:55: DeprecationWarning: Conversion of an array with ndim > 0 to a scalar is deprecated, and will error in future. Ensure you extract a single element from your array before performing this operation. (Deprecated NumPy 1.25.)\n",
            "  features.append(float(lm.intercept_))  # Append intercept of regression line\n",
            "<ipython-input-12-668b296618b7>:56: DeprecationWarning: Conversion of an array with ndim > 0 to a scalar is deprecated, and will error in future. Ensure you extract a single element from your array before performing this operation. (Deprecated NumPy 1.25.)\n",
            "  features.append(float(lm.coef_))       # Append slope of regression line\n",
            "<ipython-input-12-668b296618b7>:55: DeprecationWarning: Conversion of an array with ndim > 0 to a scalar is deprecated, and will error in future. Ensure you extract a single element from your array before performing this operation. (Deprecated NumPy 1.25.)\n",
            "  features.append(float(lm.intercept_))  # Append intercept of regression line\n",
            "<ipython-input-12-668b296618b7>:56: DeprecationWarning: Conversion of an array with ndim > 0 to a scalar is deprecated, and will error in future. Ensure you extract a single element from your array before performing this operation. (Deprecated NumPy 1.25.)\n",
            "  features.append(float(lm.coef_))       # Append slope of regression line\n",
            "<ipython-input-12-668b296618b7>:55: DeprecationWarning: Conversion of an array with ndim > 0 to a scalar is deprecated, and will error in future. Ensure you extract a single element from your array before performing this operation. (Deprecated NumPy 1.25.)\n",
            "  features.append(float(lm.intercept_))  # Append intercept of regression line\n",
            "<ipython-input-12-668b296618b7>:56: DeprecationWarning: Conversion of an array with ndim > 0 to a scalar is deprecated, and will error in future. Ensure you extract a single element from your array before performing this operation. (Deprecated NumPy 1.25.)\n",
            "  features.append(float(lm.coef_))       # Append slope of regression line\n",
            "<ipython-input-12-668b296618b7>:55: DeprecationWarning: Conversion of an array with ndim > 0 to a scalar is deprecated, and will error in future. Ensure you extract a single element from your array before performing this operation. (Deprecated NumPy 1.25.)\n",
            "  features.append(float(lm.intercept_))  # Append intercept of regression line\n",
            "<ipython-input-12-668b296618b7>:56: DeprecationWarning: Conversion of an array with ndim > 0 to a scalar is deprecated, and will error in future. Ensure you extract a single element from your array before performing this operation. (Deprecated NumPy 1.25.)\n",
            "  features.append(float(lm.coef_))       # Append slope of regression line\n",
            "<ipython-input-12-668b296618b7>:55: DeprecationWarning: Conversion of an array with ndim > 0 to a scalar is deprecated, and will error in future. Ensure you extract a single element from your array before performing this operation. (Deprecated NumPy 1.25.)\n",
            "  features.append(float(lm.intercept_))  # Append intercept of regression line\n",
            "<ipython-input-12-668b296618b7>:56: DeprecationWarning: Conversion of an array with ndim > 0 to a scalar is deprecated, and will error in future. Ensure you extract a single element from your array before performing this operation. (Deprecated NumPy 1.25.)\n",
            "  features.append(float(lm.coef_))       # Append slope of regression line\n",
            "<ipython-input-12-668b296618b7>:55: DeprecationWarning: Conversion of an array with ndim > 0 to a scalar is deprecated, and will error in future. Ensure you extract a single element from your array before performing this operation. (Deprecated NumPy 1.25.)\n",
            "  features.append(float(lm.intercept_))  # Append intercept of regression line\n",
            "<ipython-input-12-668b296618b7>:56: DeprecationWarning: Conversion of an array with ndim > 0 to a scalar is deprecated, and will error in future. Ensure you extract a single element from your array before performing this operation. (Deprecated NumPy 1.25.)\n",
            "  features.append(float(lm.coef_))       # Append slope of regression line\n",
            "<ipython-input-12-668b296618b7>:55: DeprecationWarning: Conversion of an array with ndim > 0 to a scalar is deprecated, and will error in future. Ensure you extract a single element from your array before performing this operation. (Deprecated NumPy 1.25.)\n",
            "  features.append(float(lm.intercept_))  # Append intercept of regression line\n",
            "<ipython-input-12-668b296618b7>:56: DeprecationWarning: Conversion of an array with ndim > 0 to a scalar is deprecated, and will error in future. Ensure you extract a single element from your array before performing this operation. (Deprecated NumPy 1.25.)\n",
            "  features.append(float(lm.coef_))       # Append slope of regression line\n",
            "<ipython-input-12-668b296618b7>:55: DeprecationWarning: Conversion of an array with ndim > 0 to a scalar is deprecated, and will error in future. Ensure you extract a single element from your array before performing this operation. (Deprecated NumPy 1.25.)\n",
            "  features.append(float(lm.intercept_))  # Append intercept of regression line\n",
            "<ipython-input-12-668b296618b7>:56: DeprecationWarning: Conversion of an array with ndim > 0 to a scalar is deprecated, and will error in future. Ensure you extract a single element from your array before performing this operation. (Deprecated NumPy 1.25.)\n",
            "  features.append(float(lm.coef_))       # Append slope of regression line\n",
            "<ipython-input-12-668b296618b7>:55: DeprecationWarning: Conversion of an array with ndim > 0 to a scalar is deprecated, and will error in future. Ensure you extract a single element from your array before performing this operation. (Deprecated NumPy 1.25.)\n",
            "  features.append(float(lm.intercept_))  # Append intercept of regression line\n",
            "<ipython-input-12-668b296618b7>:56: DeprecationWarning: Conversion of an array with ndim > 0 to a scalar is deprecated, and will error in future. Ensure you extract a single element from your array before performing this operation. (Deprecated NumPy 1.25.)\n",
            "  features.append(float(lm.coef_))       # Append slope of regression line\n",
            "<ipython-input-12-668b296618b7>:55: DeprecationWarning: Conversion of an array with ndim > 0 to a scalar is deprecated, and will error in future. Ensure you extract a single element from your array before performing this operation. (Deprecated NumPy 1.25.)\n",
            "  features.append(float(lm.intercept_))  # Append intercept of regression line\n",
            "<ipython-input-12-668b296618b7>:56: DeprecationWarning: Conversion of an array with ndim > 0 to a scalar is deprecated, and will error in future. Ensure you extract a single element from your array before performing this operation. (Deprecated NumPy 1.25.)\n",
            "  features.append(float(lm.coef_))       # Append slope of regression line\n",
            "<ipython-input-12-668b296618b7>:55: DeprecationWarning: Conversion of an array with ndim > 0 to a scalar is deprecated, and will error in future. Ensure you extract a single element from your array before performing this operation. (Deprecated NumPy 1.25.)\n",
            "  features.append(float(lm.intercept_))  # Append intercept of regression line\n",
            "<ipython-input-12-668b296618b7>:56: DeprecationWarning: Conversion of an array with ndim > 0 to a scalar is deprecated, and will error in future. Ensure you extract a single element from your array before performing this operation. (Deprecated NumPy 1.25.)\n",
            "  features.append(float(lm.coef_))       # Append slope of regression line\n",
            "<ipython-input-12-668b296618b7>:55: DeprecationWarning: Conversion of an array with ndim > 0 to a scalar is deprecated, and will error in future. Ensure you extract a single element from your array before performing this operation. (Deprecated NumPy 1.25.)\n",
            "  features.append(float(lm.intercept_))  # Append intercept of regression line\n",
            "<ipython-input-12-668b296618b7>:56: DeprecationWarning: Conversion of an array with ndim > 0 to a scalar is deprecated, and will error in future. Ensure you extract a single element from your array before performing this operation. (Deprecated NumPy 1.25.)\n",
            "  features.append(float(lm.coef_))       # Append slope of regression line\n",
            "<ipython-input-12-668b296618b7>:55: DeprecationWarning: Conversion of an array with ndim > 0 to a scalar is deprecated, and will error in future. Ensure you extract a single element from your array before performing this operation. (Deprecated NumPy 1.25.)\n",
            "  features.append(float(lm.intercept_))  # Append intercept of regression line\n",
            "<ipython-input-12-668b296618b7>:56: DeprecationWarning: Conversion of an array with ndim > 0 to a scalar is deprecated, and will error in future. Ensure you extract a single element from your array before performing this operation. (Deprecated NumPy 1.25.)\n",
            "  features.append(float(lm.coef_))       # Append slope of regression line\n",
            "<ipython-input-12-668b296618b7>:55: DeprecationWarning: Conversion of an array with ndim > 0 to a scalar is deprecated, and will error in future. Ensure you extract a single element from your array before performing this operation. (Deprecated NumPy 1.25.)\n",
            "  features.append(float(lm.intercept_))  # Append intercept of regression line\n",
            "<ipython-input-12-668b296618b7>:56: DeprecationWarning: Conversion of an array with ndim > 0 to a scalar is deprecated, and will error in future. Ensure you extract a single element from your array before performing this operation. (Deprecated NumPy 1.25.)\n",
            "  features.append(float(lm.coef_))       # Append slope of regression line\n",
            "<ipython-input-12-668b296618b7>:55: DeprecationWarning: Conversion of an array with ndim > 0 to a scalar is deprecated, and will error in future. Ensure you extract a single element from your array before performing this operation. (Deprecated NumPy 1.25.)\n",
            "  features.append(float(lm.intercept_))  # Append intercept of regression line\n",
            "<ipython-input-12-668b296618b7>:56: DeprecationWarning: Conversion of an array with ndim > 0 to a scalar is deprecated, and will error in future. Ensure you extract a single element from your array before performing this operation. (Deprecated NumPy 1.25.)\n",
            "  features.append(float(lm.coef_))       # Append slope of regression line\n",
            "<ipython-input-12-668b296618b7>:55: DeprecationWarning: Conversion of an array with ndim > 0 to a scalar is deprecated, and will error in future. Ensure you extract a single element from your array before performing this operation. (Deprecated NumPy 1.25.)\n",
            "  features.append(float(lm.intercept_))  # Append intercept of regression line\n",
            "<ipython-input-12-668b296618b7>:56: DeprecationWarning: Conversion of an array with ndim > 0 to a scalar is deprecated, and will error in future. Ensure you extract a single element from your array before performing this operation. (Deprecated NumPy 1.25.)\n",
            "  features.append(float(lm.coef_))       # Append slope of regression line\n",
            "<ipython-input-12-668b296618b7>:55: DeprecationWarning: Conversion of an array with ndim > 0 to a scalar is deprecated, and will error in future. Ensure you extract a single element from your array before performing this operation. (Deprecated NumPy 1.25.)\n",
            "  features.append(float(lm.intercept_))  # Append intercept of regression line\n",
            "<ipython-input-12-668b296618b7>:56: DeprecationWarning: Conversion of an array with ndim > 0 to a scalar is deprecated, and will error in future. Ensure you extract a single element from your array before performing this operation. (Deprecated NumPy 1.25.)\n",
            "  features.append(float(lm.coef_))       # Append slope of regression line\n",
            "<ipython-input-12-668b296618b7>:55: DeprecationWarning: Conversion of an array with ndim > 0 to a scalar is deprecated, and will error in future. Ensure you extract a single element from your array before performing this operation. (Deprecated NumPy 1.25.)\n",
            "  features.append(float(lm.intercept_))  # Append intercept of regression line\n",
            "<ipython-input-12-668b296618b7>:56: DeprecationWarning: Conversion of an array with ndim > 0 to a scalar is deprecated, and will error in future. Ensure you extract a single element from your array before performing this operation. (Deprecated NumPy 1.25.)\n",
            "  features.append(float(lm.coef_))       # Append slope of regression line\n",
            "<ipython-input-12-668b296618b7>:55: DeprecationWarning: Conversion of an array with ndim > 0 to a scalar is deprecated, and will error in future. Ensure you extract a single element from your array before performing this operation. (Deprecated NumPy 1.25.)\n",
            "  features.append(float(lm.intercept_))  # Append intercept of regression line\n",
            "<ipython-input-12-668b296618b7>:56: DeprecationWarning: Conversion of an array with ndim > 0 to a scalar is deprecated, and will error in future. Ensure you extract a single element from your array before performing this operation. (Deprecated NumPy 1.25.)\n",
            "  features.append(float(lm.coef_))       # Append slope of regression line\n",
            "<ipython-input-12-668b296618b7>:55: DeprecationWarning: Conversion of an array with ndim > 0 to a scalar is deprecated, and will error in future. Ensure you extract a single element from your array before performing this operation. (Deprecated NumPy 1.25.)\n",
            "  features.append(float(lm.intercept_))  # Append intercept of regression line\n",
            "<ipython-input-12-668b296618b7>:56: DeprecationWarning: Conversion of an array with ndim > 0 to a scalar is deprecated, and will error in future. Ensure you extract a single element from your array before performing this operation. (Deprecated NumPy 1.25.)\n",
            "  features.append(float(lm.coef_))       # Append slope of regression line\n",
            "<ipython-input-12-668b296618b7>:55: DeprecationWarning: Conversion of an array with ndim > 0 to a scalar is deprecated, and will error in future. Ensure you extract a single element from your array before performing this operation. (Deprecated NumPy 1.25.)\n",
            "  features.append(float(lm.intercept_))  # Append intercept of regression line\n",
            "<ipython-input-12-668b296618b7>:56: DeprecationWarning: Conversion of an array with ndim > 0 to a scalar is deprecated, and will error in future. Ensure you extract a single element from your array before performing this operation. (Deprecated NumPy 1.25.)\n",
            "  features.append(float(lm.coef_))       # Append slope of regression line\n",
            "<ipython-input-12-668b296618b7>:55: DeprecationWarning: Conversion of an array with ndim > 0 to a scalar is deprecated, and will error in future. Ensure you extract a single element from your array before performing this operation. (Deprecated NumPy 1.25.)\n",
            "  features.append(float(lm.intercept_))  # Append intercept of regression line\n",
            "<ipython-input-12-668b296618b7>:56: DeprecationWarning: Conversion of an array with ndim > 0 to a scalar is deprecated, and will error in future. Ensure you extract a single element from your array before performing this operation. (Deprecated NumPy 1.25.)\n",
            "  features.append(float(lm.coef_))       # Append slope of regression line\n",
            "<ipython-input-12-668b296618b7>:55: DeprecationWarning: Conversion of an array with ndim > 0 to a scalar is deprecated, and will error in future. Ensure you extract a single element from your array before performing this operation. (Deprecated NumPy 1.25.)\n",
            "  features.append(float(lm.intercept_))  # Append intercept of regression line\n",
            "<ipython-input-12-668b296618b7>:56: DeprecationWarning: Conversion of an array with ndim > 0 to a scalar is deprecated, and will error in future. Ensure you extract a single element from your array before performing this operation. (Deprecated NumPy 1.25.)\n",
            "  features.append(float(lm.coef_))       # Append slope of regression line\n",
            "<ipython-input-12-668b296618b7>:55: DeprecationWarning: Conversion of an array with ndim > 0 to a scalar is deprecated, and will error in future. Ensure you extract a single element from your array before performing this operation. (Deprecated NumPy 1.25.)\n",
            "  features.append(float(lm.intercept_))  # Append intercept of regression line\n",
            "<ipython-input-12-668b296618b7>:56: DeprecationWarning: Conversion of an array with ndim > 0 to a scalar is deprecated, and will error in future. Ensure you extract a single element from your array before performing this operation. (Deprecated NumPy 1.25.)\n",
            "  features.append(float(lm.coef_))       # Append slope of regression line\n",
            "<ipython-input-12-668b296618b7>:55: DeprecationWarning: Conversion of an array with ndim > 0 to a scalar is deprecated, and will error in future. Ensure you extract a single element from your array before performing this operation. (Deprecated NumPy 1.25.)\n",
            "  features.append(float(lm.intercept_))  # Append intercept of regression line\n",
            "<ipython-input-12-668b296618b7>:56: DeprecationWarning: Conversion of an array with ndim > 0 to a scalar is deprecated, and will error in future. Ensure you extract a single element from your array before performing this operation. (Deprecated NumPy 1.25.)\n",
            "  features.append(float(lm.coef_))       # Append slope of regression line\n",
            "<ipython-input-12-668b296618b7>:55: DeprecationWarning: Conversion of an array with ndim > 0 to a scalar is deprecated, and will error in future. Ensure you extract a single element from your array before performing this operation. (Deprecated NumPy 1.25.)\n",
            "  features.append(float(lm.intercept_))  # Append intercept of regression line\n",
            "<ipython-input-12-668b296618b7>:56: DeprecationWarning: Conversion of an array with ndim > 0 to a scalar is deprecated, and will error in future. Ensure you extract a single element from your array before performing this operation. (Deprecated NumPy 1.25.)\n",
            "  features.append(float(lm.coef_))       # Append slope of regression line\n",
            "<ipython-input-12-668b296618b7>:55: DeprecationWarning: Conversion of an array with ndim > 0 to a scalar is deprecated, and will error in future. Ensure you extract a single element from your array before performing this operation. (Deprecated NumPy 1.25.)\n",
            "  features.append(float(lm.intercept_))  # Append intercept of regression line\n",
            "<ipython-input-12-668b296618b7>:56: DeprecationWarning: Conversion of an array with ndim > 0 to a scalar is deprecated, and will error in future. Ensure you extract a single element from your array before performing this operation. (Deprecated NumPy 1.25.)\n",
            "  features.append(float(lm.coef_))       # Append slope of regression line\n",
            "<ipython-input-12-668b296618b7>:55: DeprecationWarning: Conversion of an array with ndim > 0 to a scalar is deprecated, and will error in future. Ensure you extract a single element from your array before performing this operation. (Deprecated NumPy 1.25.)\n",
            "  features.append(float(lm.intercept_))  # Append intercept of regression line\n",
            "<ipython-input-12-668b296618b7>:56: DeprecationWarning: Conversion of an array with ndim > 0 to a scalar is deprecated, and will error in future. Ensure you extract a single element from your array before performing this operation. (Deprecated NumPy 1.25.)\n",
            "  features.append(float(lm.coef_))       # Append slope of regression line\n",
            "<ipython-input-12-668b296618b7>:55: DeprecationWarning: Conversion of an array with ndim > 0 to a scalar is deprecated, and will error in future. Ensure you extract a single element from your array before performing this operation. (Deprecated NumPy 1.25.)\n",
            "  features.append(float(lm.intercept_))  # Append intercept of regression line\n",
            "<ipython-input-12-668b296618b7>:56: DeprecationWarning: Conversion of an array with ndim > 0 to a scalar is deprecated, and will error in future. Ensure you extract a single element from your array before performing this operation. (Deprecated NumPy 1.25.)\n",
            "  features.append(float(lm.coef_))       # Append slope of regression line\n",
            "<ipython-input-12-668b296618b7>:55: DeprecationWarning: Conversion of an array with ndim > 0 to a scalar is deprecated, and will error in future. Ensure you extract a single element from your array before performing this operation. (Deprecated NumPy 1.25.)\n",
            "  features.append(float(lm.intercept_))  # Append intercept of regression line\n",
            "<ipython-input-12-668b296618b7>:56: DeprecationWarning: Conversion of an array with ndim > 0 to a scalar is deprecated, and will error in future. Ensure you extract a single element from your array before performing this operation. (Deprecated NumPy 1.25.)\n",
            "  features.append(float(lm.coef_))       # Append slope of regression line\n",
            "<ipython-input-12-668b296618b7>:55: DeprecationWarning: Conversion of an array with ndim > 0 to a scalar is deprecated, and will error in future. Ensure you extract a single element from your array before performing this operation. (Deprecated NumPy 1.25.)\n",
            "  features.append(float(lm.intercept_))  # Append intercept of regression line\n",
            "<ipython-input-12-668b296618b7>:56: DeprecationWarning: Conversion of an array with ndim > 0 to a scalar is deprecated, and will error in future. Ensure you extract a single element from your array before performing this operation. (Deprecated NumPy 1.25.)\n",
            "  features.append(float(lm.coef_))       # Append slope of regression line\n",
            "<ipython-input-12-668b296618b7>:55: DeprecationWarning: Conversion of an array with ndim > 0 to a scalar is deprecated, and will error in future. Ensure you extract a single element from your array before performing this operation. (Deprecated NumPy 1.25.)\n",
            "  features.append(float(lm.intercept_))  # Append intercept of regression line\n",
            "<ipython-input-12-668b296618b7>:56: DeprecationWarning: Conversion of an array with ndim > 0 to a scalar is deprecated, and will error in future. Ensure you extract a single element from your array before performing this operation. (Deprecated NumPy 1.25.)\n",
            "  features.append(float(lm.coef_))       # Append slope of regression line\n",
            "<ipython-input-12-668b296618b7>:55: DeprecationWarning: Conversion of an array with ndim > 0 to a scalar is deprecated, and will error in future. Ensure you extract a single element from your array before performing this operation. (Deprecated NumPy 1.25.)\n",
            "  features.append(float(lm.intercept_))  # Append intercept of regression line\n",
            "<ipython-input-12-668b296618b7>:56: DeprecationWarning: Conversion of an array with ndim > 0 to a scalar is deprecated, and will error in future. Ensure you extract a single element from your array before performing this operation. (Deprecated NumPy 1.25.)\n",
            "  features.append(float(lm.coef_))       # Append slope of regression line\n",
            "<ipython-input-12-668b296618b7>:55: DeprecationWarning: Conversion of an array with ndim > 0 to a scalar is deprecated, and will error in future. Ensure you extract a single element from your array before performing this operation. (Deprecated NumPy 1.25.)\n",
            "  features.append(float(lm.intercept_))  # Append intercept of regression line\n",
            "<ipython-input-12-668b296618b7>:56: DeprecationWarning: Conversion of an array with ndim > 0 to a scalar is deprecated, and will error in future. Ensure you extract a single element from your array before performing this operation. (Deprecated NumPy 1.25.)\n",
            "  features.append(float(lm.coef_))       # Append slope of regression line\n",
            "<ipython-input-12-668b296618b7>:55: DeprecationWarning: Conversion of an array with ndim > 0 to a scalar is deprecated, and will error in future. Ensure you extract a single element from your array before performing this operation. (Deprecated NumPy 1.25.)\n",
            "  features.append(float(lm.intercept_))  # Append intercept of regression line\n",
            "<ipython-input-12-668b296618b7>:56: DeprecationWarning: Conversion of an array with ndim > 0 to a scalar is deprecated, and will error in future. Ensure you extract a single element from your array before performing this operation. (Deprecated NumPy 1.25.)\n",
            "  features.append(float(lm.coef_))       # Append slope of regression line\n",
            "<ipython-input-12-668b296618b7>:55: DeprecationWarning: Conversion of an array with ndim > 0 to a scalar is deprecated, and will error in future. Ensure you extract a single element from your array before performing this operation. (Deprecated NumPy 1.25.)\n",
            "  features.append(float(lm.intercept_))  # Append intercept of regression line\n",
            "<ipython-input-12-668b296618b7>:56: DeprecationWarning: Conversion of an array with ndim > 0 to a scalar is deprecated, and will error in future. Ensure you extract a single element from your array before performing this operation. (Deprecated NumPy 1.25.)\n",
            "  features.append(float(lm.coef_))       # Append slope of regression line\n",
            "<ipython-input-12-668b296618b7>:55: DeprecationWarning: Conversion of an array with ndim > 0 to a scalar is deprecated, and will error in future. Ensure you extract a single element from your array before performing this operation. (Deprecated NumPy 1.25.)\n",
            "  features.append(float(lm.intercept_))  # Append intercept of regression line\n",
            "<ipython-input-12-668b296618b7>:56: DeprecationWarning: Conversion of an array with ndim > 0 to a scalar is deprecated, and will error in future. Ensure you extract a single element from your array before performing this operation. (Deprecated NumPy 1.25.)\n",
            "  features.append(float(lm.coef_))       # Append slope of regression line\n",
            "<ipython-input-12-668b296618b7>:55: DeprecationWarning: Conversion of an array with ndim > 0 to a scalar is deprecated, and will error in future. Ensure you extract a single element from your array before performing this operation. (Deprecated NumPy 1.25.)\n",
            "  features.append(float(lm.intercept_))  # Append intercept of regression line\n",
            "<ipython-input-12-668b296618b7>:56: DeprecationWarning: Conversion of an array with ndim > 0 to a scalar is deprecated, and will error in future. Ensure you extract a single element from your array before performing this operation. (Deprecated NumPy 1.25.)\n",
            "  features.append(float(lm.coef_))       # Append slope of regression line\n",
            "<ipython-input-12-668b296618b7>:55: DeprecationWarning: Conversion of an array with ndim > 0 to a scalar is deprecated, and will error in future. Ensure you extract a single element from your array before performing this operation. (Deprecated NumPy 1.25.)\n",
            "  features.append(float(lm.intercept_))  # Append intercept of regression line\n",
            "<ipython-input-12-668b296618b7>:56: DeprecationWarning: Conversion of an array with ndim > 0 to a scalar is deprecated, and will error in future. Ensure you extract a single element from your array before performing this operation. (Deprecated NumPy 1.25.)\n",
            "  features.append(float(lm.coef_))       # Append slope of regression line\n",
            "<ipython-input-12-668b296618b7>:55: DeprecationWarning: Conversion of an array with ndim > 0 to a scalar is deprecated, and will error in future. Ensure you extract a single element from your array before performing this operation. (Deprecated NumPy 1.25.)\n",
            "  features.append(float(lm.intercept_))  # Append intercept of regression line\n",
            "<ipython-input-12-668b296618b7>:56: DeprecationWarning: Conversion of an array with ndim > 0 to a scalar is deprecated, and will error in future. Ensure you extract a single element from your array before performing this operation. (Deprecated NumPy 1.25.)\n",
            "  features.append(float(lm.coef_))       # Append slope of regression line\n",
            "<ipython-input-12-668b296618b7>:55: DeprecationWarning: Conversion of an array with ndim > 0 to a scalar is deprecated, and will error in future. Ensure you extract a single element from your array before performing this operation. (Deprecated NumPy 1.25.)\n",
            "  features.append(float(lm.intercept_))  # Append intercept of regression line\n",
            "<ipython-input-12-668b296618b7>:56: DeprecationWarning: Conversion of an array with ndim > 0 to a scalar is deprecated, and will error in future. Ensure you extract a single element from your array before performing this operation. (Deprecated NumPy 1.25.)\n",
            "  features.append(float(lm.coef_))       # Append slope of regression line\n",
            "<ipython-input-12-668b296618b7>:55: DeprecationWarning: Conversion of an array with ndim > 0 to a scalar is deprecated, and will error in future. Ensure you extract a single element from your array before performing this operation. (Deprecated NumPy 1.25.)\n",
            "  features.append(float(lm.intercept_))  # Append intercept of regression line\n",
            "<ipython-input-12-668b296618b7>:56: DeprecationWarning: Conversion of an array with ndim > 0 to a scalar is deprecated, and will error in future. Ensure you extract a single element from your array before performing this operation. (Deprecated NumPy 1.25.)\n",
            "  features.append(float(lm.coef_))       # Append slope of regression line\n",
            "<ipython-input-12-668b296618b7>:55: DeprecationWarning: Conversion of an array with ndim > 0 to a scalar is deprecated, and will error in future. Ensure you extract a single element from your array before performing this operation. (Deprecated NumPy 1.25.)\n",
            "  features.append(float(lm.intercept_))  # Append intercept of regression line\n",
            "<ipython-input-12-668b296618b7>:56: DeprecationWarning: Conversion of an array with ndim > 0 to a scalar is deprecated, and will error in future. Ensure you extract a single element from your array before performing this operation. (Deprecated NumPy 1.25.)\n",
            "  features.append(float(lm.coef_))       # Append slope of regression line\n",
            "<ipython-input-12-668b296618b7>:55: DeprecationWarning: Conversion of an array with ndim > 0 to a scalar is deprecated, and will error in future. Ensure you extract a single element from your array before performing this operation. (Deprecated NumPy 1.25.)\n",
            "  features.append(float(lm.intercept_))  # Append intercept of regression line\n",
            "<ipython-input-12-668b296618b7>:56: DeprecationWarning: Conversion of an array with ndim > 0 to a scalar is deprecated, and will error in future. Ensure you extract a single element from your array before performing this operation. (Deprecated NumPy 1.25.)\n",
            "  features.append(float(lm.coef_))       # Append slope of regression line\n",
            "<ipython-input-12-668b296618b7>:55: DeprecationWarning: Conversion of an array with ndim > 0 to a scalar is deprecated, and will error in future. Ensure you extract a single element from your array before performing this operation. (Deprecated NumPy 1.25.)\n",
            "  features.append(float(lm.intercept_))  # Append intercept of regression line\n",
            "<ipython-input-12-668b296618b7>:56: DeprecationWarning: Conversion of an array with ndim > 0 to a scalar is deprecated, and will error in future. Ensure you extract a single element from your array before performing this operation. (Deprecated NumPy 1.25.)\n",
            "  features.append(float(lm.coef_))       # Append slope of regression line\n",
            "<ipython-input-12-668b296618b7>:55: DeprecationWarning: Conversion of an array with ndim > 0 to a scalar is deprecated, and will error in future. Ensure you extract a single element from your array before performing this operation. (Deprecated NumPy 1.25.)\n",
            "  features.append(float(lm.intercept_))  # Append intercept of regression line\n",
            "<ipython-input-12-668b296618b7>:56: DeprecationWarning: Conversion of an array with ndim > 0 to a scalar is deprecated, and will error in future. Ensure you extract a single element from your array before performing this operation. (Deprecated NumPy 1.25.)\n",
            "  features.append(float(lm.coef_))       # Append slope of regression line\n",
            "<ipython-input-12-668b296618b7>:55: DeprecationWarning: Conversion of an array with ndim > 0 to a scalar is deprecated, and will error in future. Ensure you extract a single element from your array before performing this operation. (Deprecated NumPy 1.25.)\n",
            "  features.append(float(lm.intercept_))  # Append intercept of regression line\n",
            "<ipython-input-12-668b296618b7>:56: DeprecationWarning: Conversion of an array with ndim > 0 to a scalar is deprecated, and will error in future. Ensure you extract a single element from your array before performing this operation. (Deprecated NumPy 1.25.)\n",
            "  features.append(float(lm.coef_))       # Append slope of regression line\n",
            "<ipython-input-12-668b296618b7>:55: DeprecationWarning: Conversion of an array with ndim > 0 to a scalar is deprecated, and will error in future. Ensure you extract a single element from your array before performing this operation. (Deprecated NumPy 1.25.)\n",
            "  features.append(float(lm.intercept_))  # Append intercept of regression line\n",
            "<ipython-input-12-668b296618b7>:56: DeprecationWarning: Conversion of an array with ndim > 0 to a scalar is deprecated, and will error in future. Ensure you extract a single element from your array before performing this operation. (Deprecated NumPy 1.25.)\n",
            "  features.append(float(lm.coef_))       # Append slope of regression line\n",
            "<ipython-input-12-668b296618b7>:55: DeprecationWarning: Conversion of an array with ndim > 0 to a scalar is deprecated, and will error in future. Ensure you extract a single element from your array before performing this operation. (Deprecated NumPy 1.25.)\n",
            "  features.append(float(lm.intercept_))  # Append intercept of regression line\n",
            "<ipython-input-12-668b296618b7>:56: DeprecationWarning: Conversion of an array with ndim > 0 to a scalar is deprecated, and will error in future. Ensure you extract a single element from your array before performing this operation. (Deprecated NumPy 1.25.)\n",
            "  features.append(float(lm.coef_))       # Append slope of regression line\n",
            "<ipython-input-12-668b296618b7>:55: DeprecationWarning: Conversion of an array with ndim > 0 to a scalar is deprecated, and will error in future. Ensure you extract a single element from your array before performing this operation. (Deprecated NumPy 1.25.)\n",
            "  features.append(float(lm.intercept_))  # Append intercept of regression line\n",
            "<ipython-input-12-668b296618b7>:56: DeprecationWarning: Conversion of an array with ndim > 0 to a scalar is deprecated, and will error in future. Ensure you extract a single element from your array before performing this operation. (Deprecated NumPy 1.25.)\n",
            "  features.append(float(lm.coef_))       # Append slope of regression line\n",
            "<ipython-input-12-668b296618b7>:55: DeprecationWarning: Conversion of an array with ndim > 0 to a scalar is deprecated, and will error in future. Ensure you extract a single element from your array before performing this operation. (Deprecated NumPy 1.25.)\n",
            "  features.append(float(lm.intercept_))  # Append intercept of regression line\n",
            "<ipython-input-12-668b296618b7>:56: DeprecationWarning: Conversion of an array with ndim > 0 to a scalar is deprecated, and will error in future. Ensure you extract a single element from your array before performing this operation. (Deprecated NumPy 1.25.)\n",
            "  features.append(float(lm.coef_))       # Append slope of regression line\n",
            "<ipython-input-12-668b296618b7>:55: DeprecationWarning: Conversion of an array with ndim > 0 to a scalar is deprecated, and will error in future. Ensure you extract a single element from your array before performing this operation. (Deprecated NumPy 1.25.)\n",
            "  features.append(float(lm.intercept_))  # Append intercept of regression line\n",
            "<ipython-input-12-668b296618b7>:56: DeprecationWarning: Conversion of an array with ndim > 0 to a scalar is deprecated, and will error in future. Ensure you extract a single element from your array before performing this operation. (Deprecated NumPy 1.25.)\n",
            "  features.append(float(lm.coef_))       # Append slope of regression line\n",
            "<ipython-input-12-668b296618b7>:55: DeprecationWarning: Conversion of an array with ndim > 0 to a scalar is deprecated, and will error in future. Ensure you extract a single element from your array before performing this operation. (Deprecated NumPy 1.25.)\n",
            "  features.append(float(lm.intercept_))  # Append intercept of regression line\n",
            "<ipython-input-12-668b296618b7>:56: DeprecationWarning: Conversion of an array with ndim > 0 to a scalar is deprecated, and will error in future. Ensure you extract a single element from your array before performing this operation. (Deprecated NumPy 1.25.)\n",
            "  features.append(float(lm.coef_))       # Append slope of regression line\n",
            "<ipython-input-12-668b296618b7>:55: DeprecationWarning: Conversion of an array with ndim > 0 to a scalar is deprecated, and will error in future. Ensure you extract a single element from your array before performing this operation. (Deprecated NumPy 1.25.)\n",
            "  features.append(float(lm.intercept_))  # Append intercept of regression line\n",
            "<ipython-input-12-668b296618b7>:56: DeprecationWarning: Conversion of an array with ndim > 0 to a scalar is deprecated, and will error in future. Ensure you extract a single element from your array before performing this operation. (Deprecated NumPy 1.25.)\n",
            "  features.append(float(lm.coef_))       # Append slope of regression line\n",
            "<ipython-input-12-668b296618b7>:55: DeprecationWarning: Conversion of an array with ndim > 0 to a scalar is deprecated, and will error in future. Ensure you extract a single element from your array before performing this operation. (Deprecated NumPy 1.25.)\n",
            "  features.append(float(lm.intercept_))  # Append intercept of regression line\n",
            "<ipython-input-12-668b296618b7>:56: DeprecationWarning: Conversion of an array with ndim > 0 to a scalar is deprecated, and will error in future. Ensure you extract a single element from your array before performing this operation. (Deprecated NumPy 1.25.)\n",
            "  features.append(float(lm.coef_))       # Append slope of regression line\n",
            "<ipython-input-12-668b296618b7>:55: DeprecationWarning: Conversion of an array with ndim > 0 to a scalar is deprecated, and will error in future. Ensure you extract a single element from your array before performing this operation. (Deprecated NumPy 1.25.)\n",
            "  features.append(float(lm.intercept_))  # Append intercept of regression line\n",
            "<ipython-input-12-668b296618b7>:56: DeprecationWarning: Conversion of an array with ndim > 0 to a scalar is deprecated, and will error in future. Ensure you extract a single element from your array before performing this operation. (Deprecated NumPy 1.25.)\n",
            "  features.append(float(lm.coef_))       # Append slope of regression line\n",
            "<ipython-input-12-668b296618b7>:55: DeprecationWarning: Conversion of an array with ndim > 0 to a scalar is deprecated, and will error in future. Ensure you extract a single element from your array before performing this operation. (Deprecated NumPy 1.25.)\n",
            "  features.append(float(lm.intercept_))  # Append intercept of regression line\n",
            "<ipython-input-12-668b296618b7>:56: DeprecationWarning: Conversion of an array with ndim > 0 to a scalar is deprecated, and will error in future. Ensure you extract a single element from your array before performing this operation. (Deprecated NumPy 1.25.)\n",
            "  features.append(float(lm.coef_))       # Append slope of regression line\n",
            "<ipython-input-12-668b296618b7>:55: DeprecationWarning: Conversion of an array with ndim > 0 to a scalar is deprecated, and will error in future. Ensure you extract a single element from your array before performing this operation. (Deprecated NumPy 1.25.)\n",
            "  features.append(float(lm.intercept_))  # Append intercept of regression line\n",
            "<ipython-input-12-668b296618b7>:56: DeprecationWarning: Conversion of an array with ndim > 0 to a scalar is deprecated, and will error in future. Ensure you extract a single element from your array before performing this operation. (Deprecated NumPy 1.25.)\n",
            "  features.append(float(lm.coef_))       # Append slope of regression line\n",
            "<ipython-input-12-668b296618b7>:55: DeprecationWarning: Conversion of an array with ndim > 0 to a scalar is deprecated, and will error in future. Ensure you extract a single element from your array before performing this operation. (Deprecated NumPy 1.25.)\n",
            "  features.append(float(lm.intercept_))  # Append intercept of regression line\n",
            "<ipython-input-12-668b296618b7>:56: DeprecationWarning: Conversion of an array with ndim > 0 to a scalar is deprecated, and will error in future. Ensure you extract a single element from your array before performing this operation. (Deprecated NumPy 1.25.)\n",
            "  features.append(float(lm.coef_))       # Append slope of regression line\n",
            "<ipython-input-12-668b296618b7>:55: DeprecationWarning: Conversion of an array with ndim > 0 to a scalar is deprecated, and will error in future. Ensure you extract a single element from your array before performing this operation. (Deprecated NumPy 1.25.)\n",
            "  features.append(float(lm.intercept_))  # Append intercept of regression line\n",
            "<ipython-input-12-668b296618b7>:56: DeprecationWarning: Conversion of an array with ndim > 0 to a scalar is deprecated, and will error in future. Ensure you extract a single element from your array before performing this operation. (Deprecated NumPy 1.25.)\n",
            "  features.append(float(lm.coef_))       # Append slope of regression line\n",
            "<ipython-input-12-668b296618b7>:55: DeprecationWarning: Conversion of an array with ndim > 0 to a scalar is deprecated, and will error in future. Ensure you extract a single element from your array before performing this operation. (Deprecated NumPy 1.25.)\n",
            "  features.append(float(lm.intercept_))  # Append intercept of regression line\n",
            "<ipython-input-12-668b296618b7>:56: DeprecationWarning: Conversion of an array with ndim > 0 to a scalar is deprecated, and will error in future. Ensure you extract a single element from your array before performing this operation. (Deprecated NumPy 1.25.)\n",
            "  features.append(float(lm.coef_))       # Append slope of regression line\n",
            "<ipython-input-12-668b296618b7>:55: DeprecationWarning: Conversion of an array with ndim > 0 to a scalar is deprecated, and will error in future. Ensure you extract a single element from your array before performing this operation. (Deprecated NumPy 1.25.)\n",
            "  features.append(float(lm.intercept_))  # Append intercept of regression line\n",
            "<ipython-input-12-668b296618b7>:56: DeprecationWarning: Conversion of an array with ndim > 0 to a scalar is deprecated, and will error in future. Ensure you extract a single element from your array before performing this operation. (Deprecated NumPy 1.25.)\n",
            "  features.append(float(lm.coef_))       # Append slope of regression line\n",
            "<ipython-input-12-668b296618b7>:55: DeprecationWarning: Conversion of an array with ndim > 0 to a scalar is deprecated, and will error in future. Ensure you extract a single element from your array before performing this operation. (Deprecated NumPy 1.25.)\n",
            "  features.append(float(lm.intercept_))  # Append intercept of regression line\n",
            "<ipython-input-12-668b296618b7>:56: DeprecationWarning: Conversion of an array with ndim > 0 to a scalar is deprecated, and will error in future. Ensure you extract a single element from your array before performing this operation. (Deprecated NumPy 1.25.)\n",
            "  features.append(float(lm.coef_))       # Append slope of regression line\n",
            "<ipython-input-12-668b296618b7>:55: DeprecationWarning: Conversion of an array with ndim > 0 to a scalar is deprecated, and will error in future. Ensure you extract a single element from your array before performing this operation. (Deprecated NumPy 1.25.)\n",
            "  features.append(float(lm.intercept_))  # Append intercept of regression line\n",
            "<ipython-input-12-668b296618b7>:56: DeprecationWarning: Conversion of an array with ndim > 0 to a scalar is deprecated, and will error in future. Ensure you extract a single element from your array before performing this operation. (Deprecated NumPy 1.25.)\n",
            "  features.append(float(lm.coef_))       # Append slope of regression line\n",
            "<ipython-input-12-668b296618b7>:55: DeprecationWarning: Conversion of an array with ndim > 0 to a scalar is deprecated, and will error in future. Ensure you extract a single element from your array before performing this operation. (Deprecated NumPy 1.25.)\n",
            "  features.append(float(lm.intercept_))  # Append intercept of regression line\n",
            "<ipython-input-12-668b296618b7>:56: DeprecationWarning: Conversion of an array with ndim > 0 to a scalar is deprecated, and will error in future. Ensure you extract a single element from your array before performing this operation. (Deprecated NumPy 1.25.)\n",
            "  features.append(float(lm.coef_))       # Append slope of regression line\n",
            "<ipython-input-12-668b296618b7>:55: DeprecationWarning: Conversion of an array with ndim > 0 to a scalar is deprecated, and will error in future. Ensure you extract a single element from your array before performing this operation. (Deprecated NumPy 1.25.)\n",
            "  features.append(float(lm.intercept_))  # Append intercept of regression line\n",
            "<ipython-input-12-668b296618b7>:56: DeprecationWarning: Conversion of an array with ndim > 0 to a scalar is deprecated, and will error in future. Ensure you extract a single element from your array before performing this operation. (Deprecated NumPy 1.25.)\n",
            "  features.append(float(lm.coef_))       # Append slope of regression line\n",
            "<ipython-input-12-668b296618b7>:55: DeprecationWarning: Conversion of an array with ndim > 0 to a scalar is deprecated, and will error in future. Ensure you extract a single element from your array before performing this operation. (Deprecated NumPy 1.25.)\n",
            "  features.append(float(lm.intercept_))  # Append intercept of regression line\n",
            "<ipython-input-12-668b296618b7>:56: DeprecationWarning: Conversion of an array with ndim > 0 to a scalar is deprecated, and will error in future. Ensure you extract a single element from your array before performing this operation. (Deprecated NumPy 1.25.)\n",
            "  features.append(float(lm.coef_))       # Append slope of regression line\n",
            "<ipython-input-12-668b296618b7>:55: DeprecationWarning: Conversion of an array with ndim > 0 to a scalar is deprecated, and will error in future. Ensure you extract a single element from your array before performing this operation. (Deprecated NumPy 1.25.)\n",
            "  features.append(float(lm.intercept_))  # Append intercept of regression line\n",
            "<ipython-input-12-668b296618b7>:56: DeprecationWarning: Conversion of an array with ndim > 0 to a scalar is deprecated, and will error in future. Ensure you extract a single element from your array before performing this operation. (Deprecated NumPy 1.25.)\n",
            "  features.append(float(lm.coef_))       # Append slope of regression line\n",
            "<ipython-input-12-668b296618b7>:55: DeprecationWarning: Conversion of an array with ndim > 0 to a scalar is deprecated, and will error in future. Ensure you extract a single element from your array before performing this operation. (Deprecated NumPy 1.25.)\n",
            "  features.append(float(lm.intercept_))  # Append intercept of regression line\n",
            "<ipython-input-12-668b296618b7>:56: DeprecationWarning: Conversion of an array with ndim > 0 to a scalar is deprecated, and will error in future. Ensure you extract a single element from your array before performing this operation. (Deprecated NumPy 1.25.)\n",
            "  features.append(float(lm.coef_))       # Append slope of regression line\n",
            "<ipython-input-12-668b296618b7>:55: DeprecationWarning: Conversion of an array with ndim > 0 to a scalar is deprecated, and will error in future. Ensure you extract a single element from your array before performing this operation. (Deprecated NumPy 1.25.)\n",
            "  features.append(float(lm.intercept_))  # Append intercept of regression line\n",
            "<ipython-input-12-668b296618b7>:56: DeprecationWarning: Conversion of an array with ndim > 0 to a scalar is deprecated, and will error in future. Ensure you extract a single element from your array before performing this operation. (Deprecated NumPy 1.25.)\n",
            "  features.append(float(lm.coef_))       # Append slope of regression line\n",
            "<ipython-input-12-668b296618b7>:55: DeprecationWarning: Conversion of an array with ndim > 0 to a scalar is deprecated, and will error in future. Ensure you extract a single element from your array before performing this operation. (Deprecated NumPy 1.25.)\n",
            "  features.append(float(lm.intercept_))  # Append intercept of regression line\n",
            "<ipython-input-12-668b296618b7>:56: DeprecationWarning: Conversion of an array with ndim > 0 to a scalar is deprecated, and will error in future. Ensure you extract a single element from your array before performing this operation. (Deprecated NumPy 1.25.)\n",
            "  features.append(float(lm.coef_))       # Append slope of regression line\n",
            "<ipython-input-12-668b296618b7>:55: DeprecationWarning: Conversion of an array with ndim > 0 to a scalar is deprecated, and will error in future. Ensure you extract a single element from your array before performing this operation. (Deprecated NumPy 1.25.)\n",
            "  features.append(float(lm.intercept_))  # Append intercept of regression line\n",
            "<ipython-input-12-668b296618b7>:56: DeprecationWarning: Conversion of an array with ndim > 0 to a scalar is deprecated, and will error in future. Ensure you extract a single element from your array before performing this operation. (Deprecated NumPy 1.25.)\n",
            "  features.append(float(lm.coef_))       # Append slope of regression line\n",
            "<ipython-input-12-668b296618b7>:55: DeprecationWarning: Conversion of an array with ndim > 0 to a scalar is deprecated, and will error in future. Ensure you extract a single element from your array before performing this operation. (Deprecated NumPy 1.25.)\n",
            "  features.append(float(lm.intercept_))  # Append intercept of regression line\n",
            "<ipython-input-12-668b296618b7>:56: DeprecationWarning: Conversion of an array with ndim > 0 to a scalar is deprecated, and will error in future. Ensure you extract a single element from your array before performing this operation. (Deprecated NumPy 1.25.)\n",
            "  features.append(float(lm.coef_))       # Append slope of regression line\n",
            "<ipython-input-12-668b296618b7>:55: DeprecationWarning: Conversion of an array with ndim > 0 to a scalar is deprecated, and will error in future. Ensure you extract a single element from your array before performing this operation. (Deprecated NumPy 1.25.)\n",
            "  features.append(float(lm.intercept_))  # Append intercept of regression line\n",
            "<ipython-input-12-668b296618b7>:56: DeprecationWarning: Conversion of an array with ndim > 0 to a scalar is deprecated, and will error in future. Ensure you extract a single element from your array before performing this operation. (Deprecated NumPy 1.25.)\n",
            "  features.append(float(lm.coef_))       # Append slope of regression line\n",
            "<ipython-input-12-668b296618b7>:55: DeprecationWarning: Conversion of an array with ndim > 0 to a scalar is deprecated, and will error in future. Ensure you extract a single element from your array before performing this operation. (Deprecated NumPy 1.25.)\n",
            "  features.append(float(lm.intercept_))  # Append intercept of regression line\n",
            "<ipython-input-12-668b296618b7>:56: DeprecationWarning: Conversion of an array with ndim > 0 to a scalar is deprecated, and will error in future. Ensure you extract a single element from your array before performing this operation. (Deprecated NumPy 1.25.)\n",
            "  features.append(float(lm.coef_))       # Append slope of regression line\n",
            "<ipython-input-12-668b296618b7>:55: DeprecationWarning: Conversion of an array with ndim > 0 to a scalar is deprecated, and will error in future. Ensure you extract a single element from your array before performing this operation. (Deprecated NumPy 1.25.)\n",
            "  features.append(float(lm.intercept_))  # Append intercept of regression line\n",
            "<ipython-input-12-668b296618b7>:56: DeprecationWarning: Conversion of an array with ndim > 0 to a scalar is deprecated, and will error in future. Ensure you extract a single element from your array before performing this operation. (Deprecated NumPy 1.25.)\n",
            "  features.append(float(lm.coef_))       # Append slope of regression line\n",
            "<ipython-input-12-668b296618b7>:55: DeprecationWarning: Conversion of an array with ndim > 0 to a scalar is deprecated, and will error in future. Ensure you extract a single element from your array before performing this operation. (Deprecated NumPy 1.25.)\n",
            "  features.append(float(lm.intercept_))  # Append intercept of regression line\n",
            "<ipython-input-12-668b296618b7>:56: DeprecationWarning: Conversion of an array with ndim > 0 to a scalar is deprecated, and will error in future. Ensure you extract a single element from your array before performing this operation. (Deprecated NumPy 1.25.)\n",
            "  features.append(float(lm.coef_))       # Append slope of regression line\n",
            "<ipython-input-12-668b296618b7>:55: DeprecationWarning: Conversion of an array with ndim > 0 to a scalar is deprecated, and will error in future. Ensure you extract a single element from your array before performing this operation. (Deprecated NumPy 1.25.)\n",
            "  features.append(float(lm.intercept_))  # Append intercept of regression line\n",
            "<ipython-input-12-668b296618b7>:56: DeprecationWarning: Conversion of an array with ndim > 0 to a scalar is deprecated, and will error in future. Ensure you extract a single element from your array before performing this operation. (Deprecated NumPy 1.25.)\n",
            "  features.append(float(lm.coef_))       # Append slope of regression line\n",
            "<ipython-input-12-668b296618b7>:55: DeprecationWarning: Conversion of an array with ndim > 0 to a scalar is deprecated, and will error in future. Ensure you extract a single element from your array before performing this operation. (Deprecated NumPy 1.25.)\n",
            "  features.append(float(lm.intercept_))  # Append intercept of regression line\n",
            "<ipython-input-12-668b296618b7>:56: DeprecationWarning: Conversion of an array with ndim > 0 to a scalar is deprecated, and will error in future. Ensure you extract a single element from your array before performing this operation. (Deprecated NumPy 1.25.)\n",
            "  features.append(float(lm.coef_))       # Append slope of regression line\n",
            "<ipython-input-12-668b296618b7>:55: DeprecationWarning: Conversion of an array with ndim > 0 to a scalar is deprecated, and will error in future. Ensure you extract a single element from your array before performing this operation. (Deprecated NumPy 1.25.)\n",
            "  features.append(float(lm.intercept_))  # Append intercept of regression line\n",
            "<ipython-input-12-668b296618b7>:56: DeprecationWarning: Conversion of an array with ndim > 0 to a scalar is deprecated, and will error in future. Ensure you extract a single element from your array before performing this operation. (Deprecated NumPy 1.25.)\n",
            "  features.append(float(lm.coef_))       # Append slope of regression line\n",
            "<ipython-input-12-668b296618b7>:55: DeprecationWarning: Conversion of an array with ndim > 0 to a scalar is deprecated, and will error in future. Ensure you extract a single element from your array before performing this operation. (Deprecated NumPy 1.25.)\n",
            "  features.append(float(lm.intercept_))  # Append intercept of regression line\n",
            "<ipython-input-12-668b296618b7>:56: DeprecationWarning: Conversion of an array with ndim > 0 to a scalar is deprecated, and will error in future. Ensure you extract a single element from your array before performing this operation. (Deprecated NumPy 1.25.)\n",
            "  features.append(float(lm.coef_))       # Append slope of regression line\n",
            "<ipython-input-12-668b296618b7>:55: DeprecationWarning: Conversion of an array with ndim > 0 to a scalar is deprecated, and will error in future. Ensure you extract a single element from your array before performing this operation. (Deprecated NumPy 1.25.)\n",
            "  features.append(float(lm.intercept_))  # Append intercept of regression line\n",
            "<ipython-input-12-668b296618b7>:56: DeprecationWarning: Conversion of an array with ndim > 0 to a scalar is deprecated, and will error in future. Ensure you extract a single element from your array before performing this operation. (Deprecated NumPy 1.25.)\n",
            "  features.append(float(lm.coef_))       # Append slope of regression line\n",
            "<ipython-input-12-668b296618b7>:55: DeprecationWarning: Conversion of an array with ndim > 0 to a scalar is deprecated, and will error in future. Ensure you extract a single element from your array before performing this operation. (Deprecated NumPy 1.25.)\n",
            "  features.append(float(lm.intercept_))  # Append intercept of regression line\n",
            "<ipython-input-12-668b296618b7>:56: DeprecationWarning: Conversion of an array with ndim > 0 to a scalar is deprecated, and will error in future. Ensure you extract a single element from your array before performing this operation. (Deprecated NumPy 1.25.)\n",
            "  features.append(float(lm.coef_))       # Append slope of regression line\n",
            "<ipython-input-12-668b296618b7>:55: DeprecationWarning: Conversion of an array with ndim > 0 to a scalar is deprecated, and will error in future. Ensure you extract a single element from your array before performing this operation. (Deprecated NumPy 1.25.)\n",
            "  features.append(float(lm.intercept_))  # Append intercept of regression line\n",
            "<ipython-input-12-668b296618b7>:56: DeprecationWarning: Conversion of an array with ndim > 0 to a scalar is deprecated, and will error in future. Ensure you extract a single element from your array before performing this operation. (Deprecated NumPy 1.25.)\n",
            "  features.append(float(lm.coef_))       # Append slope of regression line\n",
            "<ipython-input-12-668b296618b7>:55: DeprecationWarning: Conversion of an array with ndim > 0 to a scalar is deprecated, and will error in future. Ensure you extract a single element from your array before performing this operation. (Deprecated NumPy 1.25.)\n",
            "  features.append(float(lm.intercept_))  # Append intercept of regression line\n",
            "<ipython-input-12-668b296618b7>:56: DeprecationWarning: Conversion of an array with ndim > 0 to a scalar is deprecated, and will error in future. Ensure you extract a single element from your array before performing this operation. (Deprecated NumPy 1.25.)\n",
            "  features.append(float(lm.coef_))       # Append slope of regression line\n",
            "<ipython-input-12-668b296618b7>:55: DeprecationWarning: Conversion of an array with ndim > 0 to a scalar is deprecated, and will error in future. Ensure you extract a single element from your array before performing this operation. (Deprecated NumPy 1.25.)\n",
            "  features.append(float(lm.intercept_))  # Append intercept of regression line\n",
            "<ipython-input-12-668b296618b7>:56: DeprecationWarning: Conversion of an array with ndim > 0 to a scalar is deprecated, and will error in future. Ensure you extract a single element from your array before performing this operation. (Deprecated NumPy 1.25.)\n",
            "  features.append(float(lm.coef_))       # Append slope of regression line\n",
            "<ipython-input-12-668b296618b7>:55: DeprecationWarning: Conversion of an array with ndim > 0 to a scalar is deprecated, and will error in future. Ensure you extract a single element from your array before performing this operation. (Deprecated NumPy 1.25.)\n",
            "  features.append(float(lm.intercept_))  # Append intercept of regression line\n",
            "<ipython-input-12-668b296618b7>:56: DeprecationWarning: Conversion of an array with ndim > 0 to a scalar is deprecated, and will error in future. Ensure you extract a single element from your array before performing this operation. (Deprecated NumPy 1.25.)\n",
            "  features.append(float(lm.coef_))       # Append slope of regression line\n",
            "<ipython-input-12-668b296618b7>:55: DeprecationWarning: Conversion of an array with ndim > 0 to a scalar is deprecated, and will error in future. Ensure you extract a single element from your array before performing this operation. (Deprecated NumPy 1.25.)\n",
            "  features.append(float(lm.intercept_))  # Append intercept of regression line\n",
            "<ipython-input-12-668b296618b7>:56: DeprecationWarning: Conversion of an array with ndim > 0 to a scalar is deprecated, and will error in future. Ensure you extract a single element from your array before performing this operation. (Deprecated NumPy 1.25.)\n",
            "  features.append(float(lm.coef_))       # Append slope of regression line\n",
            "<ipython-input-12-668b296618b7>:55: DeprecationWarning: Conversion of an array with ndim > 0 to a scalar is deprecated, and will error in future. Ensure you extract a single element from your array before performing this operation. (Deprecated NumPy 1.25.)\n",
            "  features.append(float(lm.intercept_))  # Append intercept of regression line\n",
            "<ipython-input-12-668b296618b7>:56: DeprecationWarning: Conversion of an array with ndim > 0 to a scalar is deprecated, and will error in future. Ensure you extract a single element from your array before performing this operation. (Deprecated NumPy 1.25.)\n",
            "  features.append(float(lm.coef_))       # Append slope of regression line\n",
            "<ipython-input-12-668b296618b7>:55: DeprecationWarning: Conversion of an array with ndim > 0 to a scalar is deprecated, and will error in future. Ensure you extract a single element from your array before performing this operation. (Deprecated NumPy 1.25.)\n",
            "  features.append(float(lm.intercept_))  # Append intercept of regression line\n",
            "<ipython-input-12-668b296618b7>:56: DeprecationWarning: Conversion of an array with ndim > 0 to a scalar is deprecated, and will error in future. Ensure you extract a single element from your array before performing this operation. (Deprecated NumPy 1.25.)\n",
            "  features.append(float(lm.coef_))       # Append slope of regression line\n",
            "<ipython-input-12-668b296618b7>:55: DeprecationWarning: Conversion of an array with ndim > 0 to a scalar is deprecated, and will error in future. Ensure you extract a single element from your array before performing this operation. (Deprecated NumPy 1.25.)\n",
            "  features.append(float(lm.intercept_))  # Append intercept of regression line\n",
            "<ipython-input-12-668b296618b7>:56: DeprecationWarning: Conversion of an array with ndim > 0 to a scalar is deprecated, and will error in future. Ensure you extract a single element from your array before performing this operation. (Deprecated NumPy 1.25.)\n",
            "  features.append(float(lm.coef_))       # Append slope of regression line\n",
            "<ipython-input-12-668b296618b7>:55: DeprecationWarning: Conversion of an array with ndim > 0 to a scalar is deprecated, and will error in future. Ensure you extract a single element from your array before performing this operation. (Deprecated NumPy 1.25.)\n",
            "  features.append(float(lm.intercept_))  # Append intercept of regression line\n",
            "<ipython-input-12-668b296618b7>:56: DeprecationWarning: Conversion of an array with ndim > 0 to a scalar is deprecated, and will error in future. Ensure you extract a single element from your array before performing this operation. (Deprecated NumPy 1.25.)\n",
            "  features.append(float(lm.coef_))       # Append slope of regression line\n",
            "<ipython-input-12-668b296618b7>:55: DeprecationWarning: Conversion of an array with ndim > 0 to a scalar is deprecated, and will error in future. Ensure you extract a single element from your array before performing this operation. (Deprecated NumPy 1.25.)\n",
            "  features.append(float(lm.intercept_))  # Append intercept of regression line\n",
            "<ipython-input-12-668b296618b7>:56: DeprecationWarning: Conversion of an array with ndim > 0 to a scalar is deprecated, and will error in future. Ensure you extract a single element from your array before performing this operation. (Deprecated NumPy 1.25.)\n",
            "  features.append(float(lm.coef_))       # Append slope of regression line\n",
            "<ipython-input-12-668b296618b7>:55: DeprecationWarning: Conversion of an array with ndim > 0 to a scalar is deprecated, and will error in future. Ensure you extract a single element from your array before performing this operation. (Deprecated NumPy 1.25.)\n",
            "  features.append(float(lm.intercept_))  # Append intercept of regression line\n",
            "<ipython-input-12-668b296618b7>:56: DeprecationWarning: Conversion of an array with ndim > 0 to a scalar is deprecated, and will error in future. Ensure you extract a single element from your array before performing this operation. (Deprecated NumPy 1.25.)\n",
            "  features.append(float(lm.coef_))       # Append slope of regression line\n",
            "<ipython-input-12-668b296618b7>:55: DeprecationWarning: Conversion of an array with ndim > 0 to a scalar is deprecated, and will error in future. Ensure you extract a single element from your array before performing this operation. (Deprecated NumPy 1.25.)\n",
            "  features.append(float(lm.intercept_))  # Append intercept of regression line\n",
            "<ipython-input-12-668b296618b7>:56: DeprecationWarning: Conversion of an array with ndim > 0 to a scalar is deprecated, and will error in future. Ensure you extract a single element from your array before performing this operation. (Deprecated NumPy 1.25.)\n",
            "  features.append(float(lm.coef_))       # Append slope of regression line\n",
            "<ipython-input-12-668b296618b7>:55: DeprecationWarning: Conversion of an array with ndim > 0 to a scalar is deprecated, and will error in future. Ensure you extract a single element from your array before performing this operation. (Deprecated NumPy 1.25.)\n",
            "  features.append(float(lm.intercept_))  # Append intercept of regression line\n",
            "<ipython-input-12-668b296618b7>:56: DeprecationWarning: Conversion of an array with ndim > 0 to a scalar is deprecated, and will error in future. Ensure you extract a single element from your array before performing this operation. (Deprecated NumPy 1.25.)\n",
            "  features.append(float(lm.coef_))       # Append slope of regression line\n",
            "<ipython-input-12-668b296618b7>:55: DeprecationWarning: Conversion of an array with ndim > 0 to a scalar is deprecated, and will error in future. Ensure you extract a single element from your array before performing this operation. (Deprecated NumPy 1.25.)\n",
            "  features.append(float(lm.intercept_))  # Append intercept of regression line\n",
            "<ipython-input-12-668b296618b7>:56: DeprecationWarning: Conversion of an array with ndim > 0 to a scalar is deprecated, and will error in future. Ensure you extract a single element from your array before performing this operation. (Deprecated NumPy 1.25.)\n",
            "  features.append(float(lm.coef_))       # Append slope of regression line\n",
            "<ipython-input-12-668b296618b7>:55: DeprecationWarning: Conversion of an array with ndim > 0 to a scalar is deprecated, and will error in future. Ensure you extract a single element from your array before performing this operation. (Deprecated NumPy 1.25.)\n",
            "  features.append(float(lm.intercept_))  # Append intercept of regression line\n",
            "<ipython-input-12-668b296618b7>:56: DeprecationWarning: Conversion of an array with ndim > 0 to a scalar is deprecated, and will error in future. Ensure you extract a single element from your array before performing this operation. (Deprecated NumPy 1.25.)\n",
            "  features.append(float(lm.coef_))       # Append slope of regression line\n",
            "<ipython-input-12-668b296618b7>:55: DeprecationWarning: Conversion of an array with ndim > 0 to a scalar is deprecated, and will error in future. Ensure you extract a single element from your array before performing this operation. (Deprecated NumPy 1.25.)\n",
            "  features.append(float(lm.intercept_))  # Append intercept of regression line\n",
            "<ipython-input-12-668b296618b7>:56: DeprecationWarning: Conversion of an array with ndim > 0 to a scalar is deprecated, and will error in future. Ensure you extract a single element from your array before performing this operation. (Deprecated NumPy 1.25.)\n",
            "  features.append(float(lm.coef_))       # Append slope of regression line\n",
            "<ipython-input-12-668b296618b7>:55: DeprecationWarning: Conversion of an array with ndim > 0 to a scalar is deprecated, and will error in future. Ensure you extract a single element from your array before performing this operation. (Deprecated NumPy 1.25.)\n",
            "  features.append(float(lm.intercept_))  # Append intercept of regression line\n",
            "<ipython-input-12-668b296618b7>:56: DeprecationWarning: Conversion of an array with ndim > 0 to a scalar is deprecated, and will error in future. Ensure you extract a single element from your array before performing this operation. (Deprecated NumPy 1.25.)\n",
            "  features.append(float(lm.coef_))       # Append slope of regression line\n",
            "<ipython-input-12-668b296618b7>:55: DeprecationWarning: Conversion of an array with ndim > 0 to a scalar is deprecated, and will error in future. Ensure you extract a single element from your array before performing this operation. (Deprecated NumPy 1.25.)\n",
            "  features.append(float(lm.intercept_))  # Append intercept of regression line\n",
            "<ipython-input-12-668b296618b7>:56: DeprecationWarning: Conversion of an array with ndim > 0 to a scalar is deprecated, and will error in future. Ensure you extract a single element from your array before performing this operation. (Deprecated NumPy 1.25.)\n",
            "  features.append(float(lm.coef_))       # Append slope of regression line\n",
            "<ipython-input-12-668b296618b7>:55: DeprecationWarning: Conversion of an array with ndim > 0 to a scalar is deprecated, and will error in future. Ensure you extract a single element from your array before performing this operation. (Deprecated NumPy 1.25.)\n",
            "  features.append(float(lm.intercept_))  # Append intercept of regression line\n",
            "<ipython-input-12-668b296618b7>:56: DeprecationWarning: Conversion of an array with ndim > 0 to a scalar is deprecated, and will error in future. Ensure you extract a single element from your array before performing this operation. (Deprecated NumPy 1.25.)\n",
            "  features.append(float(lm.coef_))       # Append slope of regression line\n",
            "<ipython-input-12-668b296618b7>:55: DeprecationWarning: Conversion of an array with ndim > 0 to a scalar is deprecated, and will error in future. Ensure you extract a single element from your array before performing this operation. (Deprecated NumPy 1.25.)\n",
            "  features.append(float(lm.intercept_))  # Append intercept of regression line\n",
            "<ipython-input-12-668b296618b7>:56: DeprecationWarning: Conversion of an array with ndim > 0 to a scalar is deprecated, and will error in future. Ensure you extract a single element from your array before performing this operation. (Deprecated NumPy 1.25.)\n",
            "  features.append(float(lm.coef_))       # Append slope of regression line\n",
            "<ipython-input-12-668b296618b7>:55: DeprecationWarning: Conversion of an array with ndim > 0 to a scalar is deprecated, and will error in future. Ensure you extract a single element from your array before performing this operation. (Deprecated NumPy 1.25.)\n",
            "  features.append(float(lm.intercept_))  # Append intercept of regression line\n",
            "<ipython-input-12-668b296618b7>:56: DeprecationWarning: Conversion of an array with ndim > 0 to a scalar is deprecated, and will error in future. Ensure you extract a single element from your array before performing this operation. (Deprecated NumPy 1.25.)\n",
            "  features.append(float(lm.coef_))       # Append slope of regression line\n",
            "<ipython-input-12-668b296618b7>:55: DeprecationWarning: Conversion of an array with ndim > 0 to a scalar is deprecated, and will error in future. Ensure you extract a single element from your array before performing this operation. (Deprecated NumPy 1.25.)\n",
            "  features.append(float(lm.intercept_))  # Append intercept of regression line\n",
            "<ipython-input-12-668b296618b7>:56: DeprecationWarning: Conversion of an array with ndim > 0 to a scalar is deprecated, and will error in future. Ensure you extract a single element from your array before performing this operation. (Deprecated NumPy 1.25.)\n",
            "  features.append(float(lm.coef_))       # Append slope of regression line\n",
            "<ipython-input-12-668b296618b7>:55: DeprecationWarning: Conversion of an array with ndim > 0 to a scalar is deprecated, and will error in future. Ensure you extract a single element from your array before performing this operation. (Deprecated NumPy 1.25.)\n",
            "  features.append(float(lm.intercept_))  # Append intercept of regression line\n",
            "<ipython-input-12-668b296618b7>:56: DeprecationWarning: Conversion of an array with ndim > 0 to a scalar is deprecated, and will error in future. Ensure you extract a single element from your array before performing this operation. (Deprecated NumPy 1.25.)\n",
            "  features.append(float(lm.coef_))       # Append slope of regression line\n",
            "<ipython-input-12-668b296618b7>:55: DeprecationWarning: Conversion of an array with ndim > 0 to a scalar is deprecated, and will error in future. Ensure you extract a single element from your array before performing this operation. (Deprecated NumPy 1.25.)\n",
            "  features.append(float(lm.intercept_))  # Append intercept of regression line\n",
            "<ipython-input-12-668b296618b7>:56: DeprecationWarning: Conversion of an array with ndim > 0 to a scalar is deprecated, and will error in future. Ensure you extract a single element from your array before performing this operation. (Deprecated NumPy 1.25.)\n",
            "  features.append(float(lm.coef_))       # Append slope of regression line\n",
            "<ipython-input-12-668b296618b7>:55: DeprecationWarning: Conversion of an array with ndim > 0 to a scalar is deprecated, and will error in future. Ensure you extract a single element from your array before performing this operation. (Deprecated NumPy 1.25.)\n",
            "  features.append(float(lm.intercept_))  # Append intercept of regression line\n",
            "<ipython-input-12-668b296618b7>:56: DeprecationWarning: Conversion of an array with ndim > 0 to a scalar is deprecated, and will error in future. Ensure you extract a single element from your array before performing this operation. (Deprecated NumPy 1.25.)\n",
            "  features.append(float(lm.coef_))       # Append slope of regression line\n",
            "<ipython-input-12-668b296618b7>:55: DeprecationWarning: Conversion of an array with ndim > 0 to a scalar is deprecated, and will error in future. Ensure you extract a single element from your array before performing this operation. (Deprecated NumPy 1.25.)\n",
            "  features.append(float(lm.intercept_))  # Append intercept of regression line\n",
            "<ipython-input-12-668b296618b7>:56: DeprecationWarning: Conversion of an array with ndim > 0 to a scalar is deprecated, and will error in future. Ensure you extract a single element from your array before performing this operation. (Deprecated NumPy 1.25.)\n",
            "  features.append(float(lm.coef_))       # Append slope of regression line\n",
            "<ipython-input-12-668b296618b7>:55: DeprecationWarning: Conversion of an array with ndim > 0 to a scalar is deprecated, and will error in future. Ensure you extract a single element from your array before performing this operation. (Deprecated NumPy 1.25.)\n",
            "  features.append(float(lm.intercept_))  # Append intercept of regression line\n",
            "<ipython-input-12-668b296618b7>:56: DeprecationWarning: Conversion of an array with ndim > 0 to a scalar is deprecated, and will error in future. Ensure you extract a single element from your array before performing this operation. (Deprecated NumPy 1.25.)\n",
            "  features.append(float(lm.coef_))       # Append slope of regression line\n",
            "<ipython-input-12-668b296618b7>:55: DeprecationWarning: Conversion of an array with ndim > 0 to a scalar is deprecated, and will error in future. Ensure you extract a single element from your array before performing this operation. (Deprecated NumPy 1.25.)\n",
            "  features.append(float(lm.intercept_))  # Append intercept of regression line\n",
            "<ipython-input-12-668b296618b7>:56: DeprecationWarning: Conversion of an array with ndim > 0 to a scalar is deprecated, and will error in future. Ensure you extract a single element from your array before performing this operation. (Deprecated NumPy 1.25.)\n",
            "  features.append(float(lm.coef_))       # Append slope of regression line\n",
            "<ipython-input-12-668b296618b7>:55: DeprecationWarning: Conversion of an array with ndim > 0 to a scalar is deprecated, and will error in future. Ensure you extract a single element from your array before performing this operation. (Deprecated NumPy 1.25.)\n",
            "  features.append(float(lm.intercept_))  # Append intercept of regression line\n",
            "<ipython-input-12-668b296618b7>:56: DeprecationWarning: Conversion of an array with ndim > 0 to a scalar is deprecated, and will error in future. Ensure you extract a single element from your array before performing this operation. (Deprecated NumPy 1.25.)\n",
            "  features.append(float(lm.coef_))       # Append slope of regression line\n",
            "<ipython-input-12-668b296618b7>:55: DeprecationWarning: Conversion of an array with ndim > 0 to a scalar is deprecated, and will error in future. Ensure you extract a single element from your array before performing this operation. (Deprecated NumPy 1.25.)\n",
            "  features.append(float(lm.intercept_))  # Append intercept of regression line\n",
            "<ipython-input-12-668b296618b7>:56: DeprecationWarning: Conversion of an array with ndim > 0 to a scalar is deprecated, and will error in future. Ensure you extract a single element from your array before performing this operation. (Deprecated NumPy 1.25.)\n",
            "  features.append(float(lm.coef_))       # Append slope of regression line\n",
            "<ipython-input-12-668b296618b7>:55: DeprecationWarning: Conversion of an array with ndim > 0 to a scalar is deprecated, and will error in future. Ensure you extract a single element from your array before performing this operation. (Deprecated NumPy 1.25.)\n",
            "  features.append(float(lm.intercept_))  # Append intercept of regression line\n",
            "<ipython-input-12-668b296618b7>:56: DeprecationWarning: Conversion of an array with ndim > 0 to a scalar is deprecated, and will error in future. Ensure you extract a single element from your array before performing this operation. (Deprecated NumPy 1.25.)\n",
            "  features.append(float(lm.coef_))       # Append slope of regression line\n",
            "<ipython-input-12-668b296618b7>:55: DeprecationWarning: Conversion of an array with ndim > 0 to a scalar is deprecated, and will error in future. Ensure you extract a single element from your array before performing this operation. (Deprecated NumPy 1.25.)\n",
            "  features.append(float(lm.intercept_))  # Append intercept of regression line\n",
            "<ipython-input-12-668b296618b7>:56: DeprecationWarning: Conversion of an array with ndim > 0 to a scalar is deprecated, and will error in future. Ensure you extract a single element from your array before performing this operation. (Deprecated NumPy 1.25.)\n",
            "  features.append(float(lm.coef_))       # Append slope of regression line\n",
            "<ipython-input-12-668b296618b7>:55: DeprecationWarning: Conversion of an array with ndim > 0 to a scalar is deprecated, and will error in future. Ensure you extract a single element from your array before performing this operation. (Deprecated NumPy 1.25.)\n",
            "  features.append(float(lm.intercept_))  # Append intercept of regression line\n",
            "<ipython-input-12-668b296618b7>:56: DeprecationWarning: Conversion of an array with ndim > 0 to a scalar is deprecated, and will error in future. Ensure you extract a single element from your array before performing this operation. (Deprecated NumPy 1.25.)\n",
            "  features.append(float(lm.coef_))       # Append slope of regression line\n",
            "<ipython-input-12-668b296618b7>:55: DeprecationWarning: Conversion of an array with ndim > 0 to a scalar is deprecated, and will error in future. Ensure you extract a single element from your array before performing this operation. (Deprecated NumPy 1.25.)\n",
            "  features.append(float(lm.intercept_))  # Append intercept of regression line\n",
            "<ipython-input-12-668b296618b7>:56: DeprecationWarning: Conversion of an array with ndim > 0 to a scalar is deprecated, and will error in future. Ensure you extract a single element from your array before performing this operation. (Deprecated NumPy 1.25.)\n",
            "  features.append(float(lm.coef_))       # Append slope of regression line\n",
            "<ipython-input-12-668b296618b7>:55: DeprecationWarning: Conversion of an array with ndim > 0 to a scalar is deprecated, and will error in future. Ensure you extract a single element from your array before performing this operation. (Deprecated NumPy 1.25.)\n",
            "  features.append(float(lm.intercept_))  # Append intercept of regression line\n",
            "<ipython-input-12-668b296618b7>:56: DeprecationWarning: Conversion of an array with ndim > 0 to a scalar is deprecated, and will error in future. Ensure you extract a single element from your array before performing this operation. (Deprecated NumPy 1.25.)\n",
            "  features.append(float(lm.coef_))       # Append slope of regression line\n",
            "<ipython-input-12-668b296618b7>:55: DeprecationWarning: Conversion of an array with ndim > 0 to a scalar is deprecated, and will error in future. Ensure you extract a single element from your array before performing this operation. (Deprecated NumPy 1.25.)\n",
            "  features.append(float(lm.intercept_))  # Append intercept of regression line\n",
            "<ipython-input-12-668b296618b7>:56: DeprecationWarning: Conversion of an array with ndim > 0 to a scalar is deprecated, and will error in future. Ensure you extract a single element from your array before performing this operation. (Deprecated NumPy 1.25.)\n",
            "  features.append(float(lm.coef_))       # Append slope of regression line\n",
            "<ipython-input-12-668b296618b7>:55: DeprecationWarning: Conversion of an array with ndim > 0 to a scalar is deprecated, and will error in future. Ensure you extract a single element from your array before performing this operation. (Deprecated NumPy 1.25.)\n",
            "  features.append(float(lm.intercept_))  # Append intercept of regression line\n",
            "<ipython-input-12-668b296618b7>:56: DeprecationWarning: Conversion of an array with ndim > 0 to a scalar is deprecated, and will error in future. Ensure you extract a single element from your array before performing this operation. (Deprecated NumPy 1.25.)\n",
            "  features.append(float(lm.coef_))       # Append slope of regression line\n",
            "<ipython-input-12-668b296618b7>:55: DeprecationWarning: Conversion of an array with ndim > 0 to a scalar is deprecated, and will error in future. Ensure you extract a single element from your array before performing this operation. (Deprecated NumPy 1.25.)\n",
            "  features.append(float(lm.intercept_))  # Append intercept of regression line\n",
            "<ipython-input-12-668b296618b7>:56: DeprecationWarning: Conversion of an array with ndim > 0 to a scalar is deprecated, and will error in future. Ensure you extract a single element from your array before performing this operation. (Deprecated NumPy 1.25.)\n",
            "  features.append(float(lm.coef_))       # Append slope of regression line\n",
            "<ipython-input-12-668b296618b7>:55: DeprecationWarning: Conversion of an array with ndim > 0 to a scalar is deprecated, and will error in future. Ensure you extract a single element from your array before performing this operation. (Deprecated NumPy 1.25.)\n",
            "  features.append(float(lm.intercept_))  # Append intercept of regression line\n",
            "<ipython-input-12-668b296618b7>:56: DeprecationWarning: Conversion of an array with ndim > 0 to a scalar is deprecated, and will error in future. Ensure you extract a single element from your array before performing this operation. (Deprecated NumPy 1.25.)\n",
            "  features.append(float(lm.coef_))       # Append slope of regression line\n",
            "<ipython-input-12-668b296618b7>:55: DeprecationWarning: Conversion of an array with ndim > 0 to a scalar is deprecated, and will error in future. Ensure you extract a single element from your array before performing this operation. (Deprecated NumPy 1.25.)\n",
            "  features.append(float(lm.intercept_))  # Append intercept of regression line\n",
            "<ipython-input-12-668b296618b7>:56: DeprecationWarning: Conversion of an array with ndim > 0 to a scalar is deprecated, and will error in future. Ensure you extract a single element from your array before performing this operation. (Deprecated NumPy 1.25.)\n",
            "  features.append(float(lm.coef_))       # Append slope of regression line\n",
            "<ipython-input-12-668b296618b7>:55: DeprecationWarning: Conversion of an array with ndim > 0 to a scalar is deprecated, and will error in future. Ensure you extract a single element from your array before performing this operation. (Deprecated NumPy 1.25.)\n",
            "  features.append(float(lm.intercept_))  # Append intercept of regression line\n",
            "<ipython-input-12-668b296618b7>:56: DeprecationWarning: Conversion of an array with ndim > 0 to a scalar is deprecated, and will error in future. Ensure you extract a single element from your array before performing this operation. (Deprecated NumPy 1.25.)\n",
            "  features.append(float(lm.coef_))       # Append slope of regression line\n",
            "<ipython-input-12-668b296618b7>:55: DeprecationWarning: Conversion of an array with ndim > 0 to a scalar is deprecated, and will error in future. Ensure you extract a single element from your array before performing this operation. (Deprecated NumPy 1.25.)\n",
            "  features.append(float(lm.intercept_))  # Append intercept of regression line\n",
            "<ipython-input-12-668b296618b7>:56: DeprecationWarning: Conversion of an array with ndim > 0 to a scalar is deprecated, and will error in future. Ensure you extract a single element from your array before performing this operation. (Deprecated NumPy 1.25.)\n",
            "  features.append(float(lm.coef_))       # Append slope of regression line\n",
            "<ipython-input-12-668b296618b7>:55: DeprecationWarning: Conversion of an array with ndim > 0 to a scalar is deprecated, and will error in future. Ensure you extract a single element from your array before performing this operation. (Deprecated NumPy 1.25.)\n",
            "  features.append(float(lm.intercept_))  # Append intercept of regression line\n",
            "<ipython-input-12-668b296618b7>:56: DeprecationWarning: Conversion of an array with ndim > 0 to a scalar is deprecated, and will error in future. Ensure you extract a single element from your array before performing this operation. (Deprecated NumPy 1.25.)\n",
            "  features.append(float(lm.coef_))       # Append slope of regression line\n",
            "<ipython-input-12-668b296618b7>:55: DeprecationWarning: Conversion of an array with ndim > 0 to a scalar is deprecated, and will error in future. Ensure you extract a single element from your array before performing this operation. (Deprecated NumPy 1.25.)\n",
            "  features.append(float(lm.intercept_))  # Append intercept of regression line\n",
            "<ipython-input-12-668b296618b7>:56: DeprecationWarning: Conversion of an array with ndim > 0 to a scalar is deprecated, and will error in future. Ensure you extract a single element from your array before performing this operation. (Deprecated NumPy 1.25.)\n",
            "  features.append(float(lm.coef_))       # Append slope of regression line\n",
            "<ipython-input-12-668b296618b7>:55: DeprecationWarning: Conversion of an array with ndim > 0 to a scalar is deprecated, and will error in future. Ensure you extract a single element from your array before performing this operation. (Deprecated NumPy 1.25.)\n",
            "  features.append(float(lm.intercept_))  # Append intercept of regression line\n",
            "<ipython-input-12-668b296618b7>:56: DeprecationWarning: Conversion of an array with ndim > 0 to a scalar is deprecated, and will error in future. Ensure you extract a single element from your array before performing this operation. (Deprecated NumPy 1.25.)\n",
            "  features.append(float(lm.coef_))       # Append slope of regression line\n",
            "<ipython-input-12-668b296618b7>:55: DeprecationWarning: Conversion of an array with ndim > 0 to a scalar is deprecated, and will error in future. Ensure you extract a single element from your array before performing this operation. (Deprecated NumPy 1.25.)\n",
            "  features.append(float(lm.intercept_))  # Append intercept of regression line\n",
            "<ipython-input-12-668b296618b7>:56: DeprecationWarning: Conversion of an array with ndim > 0 to a scalar is deprecated, and will error in future. Ensure you extract a single element from your array before performing this operation. (Deprecated NumPy 1.25.)\n",
            "  features.append(float(lm.coef_))       # Append slope of regression line\n",
            "<ipython-input-12-668b296618b7>:55: DeprecationWarning: Conversion of an array with ndim > 0 to a scalar is deprecated, and will error in future. Ensure you extract a single element from your array before performing this operation. (Deprecated NumPy 1.25.)\n",
            "  features.append(float(lm.intercept_))  # Append intercept of regression line\n",
            "<ipython-input-12-668b296618b7>:56: DeprecationWarning: Conversion of an array with ndim > 0 to a scalar is deprecated, and will error in future. Ensure you extract a single element from your array before performing this operation. (Deprecated NumPy 1.25.)\n",
            "  features.append(float(lm.coef_))       # Append slope of regression line\n",
            "<ipython-input-12-668b296618b7>:55: DeprecationWarning: Conversion of an array with ndim > 0 to a scalar is deprecated, and will error in future. Ensure you extract a single element from your array before performing this operation. (Deprecated NumPy 1.25.)\n",
            "  features.append(float(lm.intercept_))  # Append intercept of regression line\n",
            "<ipython-input-12-668b296618b7>:56: DeprecationWarning: Conversion of an array with ndim > 0 to a scalar is deprecated, and will error in future. Ensure you extract a single element from your array before performing this operation. (Deprecated NumPy 1.25.)\n",
            "  features.append(float(lm.coef_))       # Append slope of regression line\n",
            "<ipython-input-12-668b296618b7>:55: DeprecationWarning: Conversion of an array with ndim > 0 to a scalar is deprecated, and will error in future. Ensure you extract a single element from your array before performing this operation. (Deprecated NumPy 1.25.)\n",
            "  features.append(float(lm.intercept_))  # Append intercept of regression line\n",
            "<ipython-input-12-668b296618b7>:56: DeprecationWarning: Conversion of an array with ndim > 0 to a scalar is deprecated, and will error in future. Ensure you extract a single element from your array before performing this operation. (Deprecated NumPy 1.25.)\n",
            "  features.append(float(lm.coef_))       # Append slope of regression line\n"
          ]
        },
        {
          "output_type": "stream",
          "name": "stdout",
          "text": [
            "Features saved to std_features_5condition.csv\n"
          ]
        },
        {
          "output_type": "stream",
          "name": "stderr",
          "text": [
            "<ipython-input-12-668b296618b7>:55: DeprecationWarning: Conversion of an array with ndim > 0 to a scalar is deprecated, and will error in future. Ensure you extract a single element from your array before performing this operation. (Deprecated NumPy 1.25.)\n",
            "  features.append(float(lm.intercept_))  # Append intercept of regression line\n",
            "<ipython-input-12-668b296618b7>:56: DeprecationWarning: Conversion of an array with ndim > 0 to a scalar is deprecated, and will error in future. Ensure you extract a single element from your array before performing this operation. (Deprecated NumPy 1.25.)\n",
            "  features.append(float(lm.coef_))       # Append slope of regression line\n",
            "<ipython-input-12-668b296618b7>:55: DeprecationWarning: Conversion of an array with ndim > 0 to a scalar is deprecated, and will error in future. Ensure you extract a single element from your array before performing this operation. (Deprecated NumPy 1.25.)\n",
            "  features.append(float(lm.intercept_))  # Append intercept of regression line\n",
            "<ipython-input-12-668b296618b7>:56: DeprecationWarning: Conversion of an array with ndim > 0 to a scalar is deprecated, and will error in future. Ensure you extract a single element from your array before performing this operation. (Deprecated NumPy 1.25.)\n",
            "  features.append(float(lm.coef_))       # Append slope of regression line\n",
            "<ipython-input-12-668b296618b7>:55: DeprecationWarning: Conversion of an array with ndim > 0 to a scalar is deprecated, and will error in future. Ensure you extract a single element from your array before performing this operation. (Deprecated NumPy 1.25.)\n",
            "  features.append(float(lm.intercept_))  # Append intercept of regression line\n",
            "<ipython-input-12-668b296618b7>:56: DeprecationWarning: Conversion of an array with ndim > 0 to a scalar is deprecated, and will error in future. Ensure you extract a single element from your array before performing this operation. (Deprecated NumPy 1.25.)\n",
            "  features.append(float(lm.coef_))       # Append slope of regression line\n",
            "<ipython-input-12-668b296618b7>:55: DeprecationWarning: Conversion of an array with ndim > 0 to a scalar is deprecated, and will error in future. Ensure you extract a single element from your array before performing this operation. (Deprecated NumPy 1.25.)\n",
            "  features.append(float(lm.intercept_))  # Append intercept of regression line\n",
            "<ipython-input-12-668b296618b7>:56: DeprecationWarning: Conversion of an array with ndim > 0 to a scalar is deprecated, and will error in future. Ensure you extract a single element from your array before performing this operation. (Deprecated NumPy 1.25.)\n",
            "  features.append(float(lm.coef_))       # Append slope of regression line\n",
            "<ipython-input-12-668b296618b7>:55: DeprecationWarning: Conversion of an array with ndim > 0 to a scalar is deprecated, and will error in future. Ensure you extract a single element from your array before performing this operation. (Deprecated NumPy 1.25.)\n",
            "  features.append(float(lm.intercept_))  # Append intercept of regression line\n",
            "<ipython-input-12-668b296618b7>:56: DeprecationWarning: Conversion of an array with ndim > 0 to a scalar is deprecated, and will error in future. Ensure you extract a single element from your array before performing this operation. (Deprecated NumPy 1.25.)\n",
            "  features.append(float(lm.coef_))       # Append slope of regression line\n",
            "<ipython-input-12-668b296618b7>:55: DeprecationWarning: Conversion of an array with ndim > 0 to a scalar is deprecated, and will error in future. Ensure you extract a single element from your array before performing this operation. (Deprecated NumPy 1.25.)\n",
            "  features.append(float(lm.intercept_))  # Append intercept of regression line\n",
            "<ipython-input-12-668b296618b7>:56: DeprecationWarning: Conversion of an array with ndim > 0 to a scalar is deprecated, and will error in future. Ensure you extract a single element from your array before performing this operation. (Deprecated NumPy 1.25.)\n",
            "  features.append(float(lm.coef_))       # Append slope of regression line\n",
            "<ipython-input-12-668b296618b7>:55: DeprecationWarning: Conversion of an array with ndim > 0 to a scalar is deprecated, and will error in future. Ensure you extract a single element from your array before performing this operation. (Deprecated NumPy 1.25.)\n",
            "  features.append(float(lm.intercept_))  # Append intercept of regression line\n",
            "<ipython-input-12-668b296618b7>:56: DeprecationWarning: Conversion of an array with ndim > 0 to a scalar is deprecated, and will error in future. Ensure you extract a single element from your array before performing this operation. (Deprecated NumPy 1.25.)\n",
            "  features.append(float(lm.coef_))       # Append slope of regression line\n",
            "<ipython-input-12-668b296618b7>:55: DeprecationWarning: Conversion of an array with ndim > 0 to a scalar is deprecated, and will error in future. Ensure you extract a single element from your array before performing this operation. (Deprecated NumPy 1.25.)\n",
            "  features.append(float(lm.intercept_))  # Append intercept of regression line\n",
            "<ipython-input-12-668b296618b7>:56: DeprecationWarning: Conversion of an array with ndim > 0 to a scalar is deprecated, and will error in future. Ensure you extract a single element from your array before performing this operation. (Deprecated NumPy 1.25.)\n",
            "  features.append(float(lm.coef_))       # Append slope of regression line\n",
            "<ipython-input-12-668b296618b7>:55: DeprecationWarning: Conversion of an array with ndim > 0 to a scalar is deprecated, and will error in future. Ensure you extract a single element from your array before performing this operation. (Deprecated NumPy 1.25.)\n",
            "  features.append(float(lm.intercept_))  # Append intercept of regression line\n",
            "<ipython-input-12-668b296618b7>:56: DeprecationWarning: Conversion of an array with ndim > 0 to a scalar is deprecated, and will error in future. Ensure you extract a single element from your array before performing this operation. (Deprecated NumPy 1.25.)\n",
            "  features.append(float(lm.coef_))       # Append slope of regression line\n",
            "<ipython-input-12-668b296618b7>:55: DeprecationWarning: Conversion of an array with ndim > 0 to a scalar is deprecated, and will error in future. Ensure you extract a single element from your array before performing this operation. (Deprecated NumPy 1.25.)\n",
            "  features.append(float(lm.intercept_))  # Append intercept of regression line\n",
            "<ipython-input-12-668b296618b7>:56: DeprecationWarning: Conversion of an array with ndim > 0 to a scalar is deprecated, and will error in future. Ensure you extract a single element from your array before performing this operation. (Deprecated NumPy 1.25.)\n",
            "  features.append(float(lm.coef_))       # Append slope of regression line\n",
            "<ipython-input-12-668b296618b7>:55: DeprecationWarning: Conversion of an array with ndim > 0 to a scalar is deprecated, and will error in future. Ensure you extract a single element from your array before performing this operation. (Deprecated NumPy 1.25.)\n",
            "  features.append(float(lm.intercept_))  # Append intercept of regression line\n",
            "<ipython-input-12-668b296618b7>:56: DeprecationWarning: Conversion of an array with ndim > 0 to a scalar is deprecated, and will error in future. Ensure you extract a single element from your array before performing this operation. (Deprecated NumPy 1.25.)\n",
            "  features.append(float(lm.coef_))       # Append slope of regression line\n",
            "<ipython-input-12-668b296618b7>:55: DeprecationWarning: Conversion of an array with ndim > 0 to a scalar is deprecated, and will error in future. Ensure you extract a single element from your array before performing this operation. (Deprecated NumPy 1.25.)\n",
            "  features.append(float(lm.intercept_))  # Append intercept of regression line\n",
            "<ipython-input-12-668b296618b7>:56: DeprecationWarning: Conversion of an array with ndim > 0 to a scalar is deprecated, and will error in future. Ensure you extract a single element from your array before performing this operation. (Deprecated NumPy 1.25.)\n",
            "  features.append(float(lm.coef_))       # Append slope of regression line\n",
            "<ipython-input-12-668b296618b7>:55: DeprecationWarning: Conversion of an array with ndim > 0 to a scalar is deprecated, and will error in future. Ensure you extract a single element from your array before performing this operation. (Deprecated NumPy 1.25.)\n",
            "  features.append(float(lm.intercept_))  # Append intercept of regression line\n",
            "<ipython-input-12-668b296618b7>:56: DeprecationWarning: Conversion of an array with ndim > 0 to a scalar is deprecated, and will error in future. Ensure you extract a single element from your array before performing this operation. (Deprecated NumPy 1.25.)\n",
            "  features.append(float(lm.coef_))       # Append slope of regression line\n",
            "<ipython-input-12-668b296618b7>:55: DeprecationWarning: Conversion of an array with ndim > 0 to a scalar is deprecated, and will error in future. Ensure you extract a single element from your array before performing this operation. (Deprecated NumPy 1.25.)\n",
            "  features.append(float(lm.intercept_))  # Append intercept of regression line\n",
            "<ipython-input-12-668b296618b7>:56: DeprecationWarning: Conversion of an array with ndim > 0 to a scalar is deprecated, and will error in future. Ensure you extract a single element from your array before performing this operation. (Deprecated NumPy 1.25.)\n",
            "  features.append(float(lm.coef_))       # Append slope of regression line\n",
            "<ipython-input-12-668b296618b7>:55: DeprecationWarning: Conversion of an array with ndim > 0 to a scalar is deprecated, and will error in future. Ensure you extract a single element from your array before performing this operation. (Deprecated NumPy 1.25.)\n",
            "  features.append(float(lm.intercept_))  # Append intercept of regression line\n",
            "<ipython-input-12-668b296618b7>:56: DeprecationWarning: Conversion of an array with ndim > 0 to a scalar is deprecated, and will error in future. Ensure you extract a single element from your array before performing this operation. (Deprecated NumPy 1.25.)\n",
            "  features.append(float(lm.coef_))       # Append slope of regression line\n",
            "<ipython-input-12-668b296618b7>:55: DeprecationWarning: Conversion of an array with ndim > 0 to a scalar is deprecated, and will error in future. Ensure you extract a single element from your array before performing this operation. (Deprecated NumPy 1.25.)\n",
            "  features.append(float(lm.intercept_))  # Append intercept of regression line\n",
            "<ipython-input-12-668b296618b7>:56: DeprecationWarning: Conversion of an array with ndim > 0 to a scalar is deprecated, and will error in future. Ensure you extract a single element from your array before performing this operation. (Deprecated NumPy 1.25.)\n",
            "  features.append(float(lm.coef_))       # Append slope of regression line\n",
            "<ipython-input-12-668b296618b7>:55: DeprecationWarning: Conversion of an array with ndim > 0 to a scalar is deprecated, and will error in future. Ensure you extract a single element from your array before performing this operation. (Deprecated NumPy 1.25.)\n",
            "  features.append(float(lm.intercept_))  # Append intercept of regression line\n",
            "<ipython-input-12-668b296618b7>:56: DeprecationWarning: Conversion of an array with ndim > 0 to a scalar is deprecated, and will error in future. Ensure you extract a single element from your array before performing this operation. (Deprecated NumPy 1.25.)\n",
            "  features.append(float(lm.coef_))       # Append slope of regression line\n",
            "<ipython-input-12-668b296618b7>:55: DeprecationWarning: Conversion of an array with ndim > 0 to a scalar is deprecated, and will error in future. Ensure you extract a single element from your array before performing this operation. (Deprecated NumPy 1.25.)\n",
            "  features.append(float(lm.intercept_))  # Append intercept of regression line\n",
            "<ipython-input-12-668b296618b7>:56: DeprecationWarning: Conversion of an array with ndim > 0 to a scalar is deprecated, and will error in future. Ensure you extract a single element from your array before performing this operation. (Deprecated NumPy 1.25.)\n",
            "  features.append(float(lm.coef_))       # Append slope of regression line\n",
            "<ipython-input-12-668b296618b7>:55: DeprecationWarning: Conversion of an array with ndim > 0 to a scalar is deprecated, and will error in future. Ensure you extract a single element from your array before performing this operation. (Deprecated NumPy 1.25.)\n",
            "  features.append(float(lm.intercept_))  # Append intercept of regression line\n",
            "<ipython-input-12-668b296618b7>:56: DeprecationWarning: Conversion of an array with ndim > 0 to a scalar is deprecated, and will error in future. Ensure you extract a single element from your array before performing this operation. (Deprecated NumPy 1.25.)\n",
            "  features.append(float(lm.coef_))       # Append slope of regression line\n",
            "<ipython-input-12-668b296618b7>:55: DeprecationWarning: Conversion of an array with ndim > 0 to a scalar is deprecated, and will error in future. Ensure you extract a single element from your array before performing this operation. (Deprecated NumPy 1.25.)\n",
            "  features.append(float(lm.intercept_))  # Append intercept of regression line\n",
            "<ipython-input-12-668b296618b7>:56: DeprecationWarning: Conversion of an array with ndim > 0 to a scalar is deprecated, and will error in future. Ensure you extract a single element from your array before performing this operation. (Deprecated NumPy 1.25.)\n",
            "  features.append(float(lm.coef_))       # Append slope of regression line\n",
            "<ipython-input-12-668b296618b7>:55: DeprecationWarning: Conversion of an array with ndim > 0 to a scalar is deprecated, and will error in future. Ensure you extract a single element from your array before performing this operation. (Deprecated NumPy 1.25.)\n",
            "  features.append(float(lm.intercept_))  # Append intercept of regression line\n",
            "<ipython-input-12-668b296618b7>:56: DeprecationWarning: Conversion of an array with ndim > 0 to a scalar is deprecated, and will error in future. Ensure you extract a single element from your array before performing this operation. (Deprecated NumPy 1.25.)\n",
            "  features.append(float(lm.coef_))       # Append slope of regression line\n",
            "<ipython-input-12-668b296618b7>:55: DeprecationWarning: Conversion of an array with ndim > 0 to a scalar is deprecated, and will error in future. Ensure you extract a single element from your array before performing this operation. (Deprecated NumPy 1.25.)\n",
            "  features.append(float(lm.intercept_))  # Append intercept of regression line\n",
            "<ipython-input-12-668b296618b7>:56: DeprecationWarning: Conversion of an array with ndim > 0 to a scalar is deprecated, and will error in future. Ensure you extract a single element from your array before performing this operation. (Deprecated NumPy 1.25.)\n",
            "  features.append(float(lm.coef_))       # Append slope of regression line\n",
            "<ipython-input-12-668b296618b7>:55: DeprecationWarning: Conversion of an array with ndim > 0 to a scalar is deprecated, and will error in future. Ensure you extract a single element from your array before performing this operation. (Deprecated NumPy 1.25.)\n",
            "  features.append(float(lm.intercept_))  # Append intercept of regression line\n",
            "<ipython-input-12-668b296618b7>:56: DeprecationWarning: Conversion of an array with ndim > 0 to a scalar is deprecated, and will error in future. Ensure you extract a single element from your array before performing this operation. (Deprecated NumPy 1.25.)\n",
            "  features.append(float(lm.coef_))       # Append slope of regression line\n",
            "<ipython-input-12-668b296618b7>:55: DeprecationWarning: Conversion of an array with ndim > 0 to a scalar is deprecated, and will error in future. Ensure you extract a single element from your array before performing this operation. (Deprecated NumPy 1.25.)\n",
            "  features.append(float(lm.intercept_))  # Append intercept of regression line\n",
            "<ipython-input-12-668b296618b7>:56: DeprecationWarning: Conversion of an array with ndim > 0 to a scalar is deprecated, and will error in future. Ensure you extract a single element from your array before performing this operation. (Deprecated NumPy 1.25.)\n",
            "  features.append(float(lm.coef_))       # Append slope of regression line\n",
            "<ipython-input-12-668b296618b7>:55: DeprecationWarning: Conversion of an array with ndim > 0 to a scalar is deprecated, and will error in future. Ensure you extract a single element from your array before performing this operation. (Deprecated NumPy 1.25.)\n",
            "  features.append(float(lm.intercept_))  # Append intercept of regression line\n",
            "<ipython-input-12-668b296618b7>:56: DeprecationWarning: Conversion of an array with ndim > 0 to a scalar is deprecated, and will error in future. Ensure you extract a single element from your array before performing this operation. (Deprecated NumPy 1.25.)\n",
            "  features.append(float(lm.coef_))       # Append slope of regression line\n"
          ]
        },
        {
          "output_type": "display_data",
          "data": {
            "text/plain": [
              "<Figure size 640x480 with 0 Axes>"
            ]
          },
          "metadata": {}
        },
        {
          "output_type": "display_data",
          "data": {
            "text/plain": [
              "<Figure size 640x480 with 0 Axes>"
            ]
          },
          "metadata": {}
        },
        {
          "output_type": "display_data",
          "data": {
            "text/plain": [
              "<Figure size 640x480 with 0 Axes>"
            ]
          },
          "metadata": {}
        },
        {
          "output_type": "display_data",
          "data": {
            "text/plain": [
              "<Figure size 640x480 with 0 Axes>"
            ]
          },
          "metadata": {}
        },
        {
          "output_type": "display_data",
          "data": {
            "text/plain": [
              "<Figure size 640x480 with 0 Axes>"
            ]
          },
          "metadata": {}
        },
        {
          "output_type": "display_data",
          "data": {
            "text/plain": [
              "<Figure size 640x480 with 0 Axes>"
            ]
          },
          "metadata": {}
        },
        {
          "output_type": "display_data",
          "data": {
            "text/plain": [
              "<Figure size 640x480 with 0 Axes>"
            ]
          },
          "metadata": {}
        },
        {
          "output_type": "display_data",
          "data": {
            "text/plain": [
              "<Figure size 640x480 with 0 Axes>"
            ]
          },
          "metadata": {}
        },
        {
          "output_type": "display_data",
          "data": {
            "text/plain": [
              "<Figure size 640x480 with 0 Axes>"
            ]
          },
          "metadata": {}
        },
        {
          "output_type": "display_data",
          "data": {
            "text/plain": [
              "<Figure size 640x480 with 0 Axes>"
            ]
          },
          "metadata": {}
        },
        {
          "output_type": "display_data",
          "data": {
            "text/plain": [
              "<Figure size 640x480 with 0 Axes>"
            ]
          },
          "metadata": {}
        },
        {
          "output_type": "display_data",
          "data": {
            "text/plain": [
              "<Figure size 640x480 with 0 Axes>"
            ]
          },
          "metadata": {}
        },
        {
          "output_type": "display_data",
          "data": {
            "text/plain": [
              "<Figure size 640x480 with 0 Axes>"
            ]
          },
          "metadata": {}
        },
        {
          "output_type": "display_data",
          "data": {
            "text/plain": [
              "<Figure size 640x480 with 0 Axes>"
            ]
          },
          "metadata": {}
        },
        {
          "output_type": "display_data",
          "data": {
            "text/plain": [
              "<Figure size 640x480 with 0 Axes>"
            ]
          },
          "metadata": {}
        },
        {
          "output_type": "display_data",
          "data": {
            "text/plain": [
              "<Figure size 640x480 with 0 Axes>"
            ]
          },
          "metadata": {}
        },
        {
          "output_type": "display_data",
          "data": {
            "text/plain": [
              "<Figure size 640x480 with 0 Axes>"
            ]
          },
          "metadata": {}
        },
        {
          "output_type": "display_data",
          "data": {
            "text/plain": [
              "<Figure size 640x480 with 0 Axes>"
            ]
          },
          "metadata": {}
        },
        {
          "output_type": "display_data",
          "data": {
            "text/plain": [
              "<Figure size 640x480 with 0 Axes>"
            ]
          },
          "metadata": {}
        },
        {
          "output_type": "display_data",
          "data": {
            "text/plain": [
              "<Figure size 640x480 with 0 Axes>"
            ]
          },
          "metadata": {}
        },
        {
          "output_type": "display_data",
          "data": {
            "text/plain": [
              "<Figure size 640x480 with 0 Axes>"
            ]
          },
          "metadata": {}
        },
        {
          "output_type": "display_data",
          "data": {
            "text/plain": [
              "<Figure size 640x480 with 0 Axes>"
            ]
          },
          "metadata": {}
        },
        {
          "output_type": "display_data",
          "data": {
            "text/plain": [
              "<Figure size 640x480 with 0 Axes>"
            ]
          },
          "metadata": {}
        },
        {
          "output_type": "display_data",
          "data": {
            "text/plain": [
              "<Figure size 640x480 with 0 Axes>"
            ]
          },
          "metadata": {}
        },
        {
          "output_type": "display_data",
          "data": {
            "text/plain": [
              "<Figure size 640x480 with 0 Axes>"
            ]
          },
          "metadata": {}
        },
        {
          "output_type": "display_data",
          "data": {
            "text/plain": [
              "<Figure size 640x480 with 0 Axes>"
            ]
          },
          "metadata": {}
        },
        {
          "output_type": "display_data",
          "data": {
            "text/plain": [
              "<Figure size 640x480 with 0 Axes>"
            ]
          },
          "metadata": {}
        },
        {
          "output_type": "display_data",
          "data": {
            "text/plain": [
              "<Figure size 640x480 with 0 Axes>"
            ]
          },
          "metadata": {}
        },
        {
          "output_type": "display_data",
          "data": {
            "text/plain": [
              "<Figure size 640x480 with 0 Axes>"
            ]
          },
          "metadata": {}
        },
        {
          "output_type": "display_data",
          "data": {
            "text/plain": [
              "<Figure size 640x480 with 0 Axes>"
            ]
          },
          "metadata": {}
        },
        {
          "output_type": "display_data",
          "data": {
            "text/plain": [
              "<Figure size 640x480 with 0 Axes>"
            ]
          },
          "metadata": {}
        },
        {
          "output_type": "display_data",
          "data": {
            "text/plain": [
              "<Figure size 640x480 with 0 Axes>"
            ]
          },
          "metadata": {}
        },
        {
          "output_type": "display_data",
          "data": {
            "text/plain": [
              "<Figure size 640x480 with 0 Axes>"
            ]
          },
          "metadata": {}
        },
        {
          "output_type": "display_data",
          "data": {
            "text/plain": [
              "<Figure size 640x480 with 0 Axes>"
            ]
          },
          "metadata": {}
        },
        {
          "output_type": "display_data",
          "data": {
            "text/plain": [
              "<Figure size 640x480 with 0 Axes>"
            ]
          },
          "metadata": {}
        },
        {
          "output_type": "display_data",
          "data": {
            "text/plain": [
              "<Figure size 640x480 with 0 Axes>"
            ]
          },
          "metadata": {}
        },
        {
          "output_type": "display_data",
          "data": {
            "text/plain": [
              "<Figure size 640x480 with 0 Axes>"
            ]
          },
          "metadata": {}
        },
        {
          "output_type": "display_data",
          "data": {
            "text/plain": [
              "<Figure size 640x480 with 0 Axes>"
            ]
          },
          "metadata": {}
        },
        {
          "output_type": "display_data",
          "data": {
            "text/plain": [
              "<Figure size 640x480 with 0 Axes>"
            ]
          },
          "metadata": {}
        },
        {
          "output_type": "display_data",
          "data": {
            "text/plain": [
              "<Figure size 640x480 with 0 Axes>"
            ]
          },
          "metadata": {}
        },
        {
          "output_type": "display_data",
          "data": {
            "text/plain": [
              "<Figure size 640x480 with 0 Axes>"
            ]
          },
          "metadata": {}
        },
        {
          "output_type": "display_data",
          "data": {
            "text/plain": [
              "<Figure size 640x480 with 0 Axes>"
            ]
          },
          "metadata": {}
        },
        {
          "output_type": "display_data",
          "data": {
            "text/plain": [
              "<Figure size 640x480 with 0 Axes>"
            ]
          },
          "metadata": {}
        },
        {
          "output_type": "display_data",
          "data": {
            "text/plain": [
              "<Figure size 640x480 with 0 Axes>"
            ]
          },
          "metadata": {}
        },
        {
          "output_type": "display_data",
          "data": {
            "text/plain": [
              "<Figure size 640x480 with 0 Axes>"
            ]
          },
          "metadata": {}
        },
        {
          "output_type": "display_data",
          "data": {
            "text/plain": [
              "<Figure size 640x480 with 0 Axes>"
            ]
          },
          "metadata": {}
        },
        {
          "output_type": "display_data",
          "data": {
            "text/plain": [
              "<Figure size 640x480 with 0 Axes>"
            ]
          },
          "metadata": {}
        },
        {
          "output_type": "display_data",
          "data": {
            "text/plain": [
              "<Figure size 640x480 with 0 Axes>"
            ]
          },
          "metadata": {}
        },
        {
          "output_type": "display_data",
          "data": {
            "text/plain": [
              "<Figure size 640x480 with 0 Axes>"
            ]
          },
          "metadata": {}
        },
        {
          "output_type": "display_data",
          "data": {
            "text/plain": [
              "<Figure size 640x480 with 0 Axes>"
            ]
          },
          "metadata": {}
        },
        {
          "output_type": "display_data",
          "data": {
            "text/plain": [
              "<Figure size 640x480 with 0 Axes>"
            ]
          },
          "metadata": {}
        },
        {
          "output_type": "display_data",
          "data": {
            "text/plain": [
              "<Figure size 640x480 with 0 Axes>"
            ]
          },
          "metadata": {}
        },
        {
          "output_type": "display_data",
          "data": {
            "text/plain": [
              "<Figure size 640x480 with 0 Axes>"
            ]
          },
          "metadata": {}
        },
        {
          "output_type": "display_data",
          "data": {
            "text/plain": [
              "<Figure size 640x480 with 0 Axes>"
            ]
          },
          "metadata": {}
        },
        {
          "output_type": "display_data",
          "data": {
            "text/plain": [
              "<Figure size 640x480 with 0 Axes>"
            ]
          },
          "metadata": {}
        },
        {
          "output_type": "display_data",
          "data": {
            "text/plain": [
              "<Figure size 640x480 with 0 Axes>"
            ]
          },
          "metadata": {}
        },
        {
          "output_type": "display_data",
          "data": {
            "text/plain": [
              "<Figure size 640x480 with 0 Axes>"
            ]
          },
          "metadata": {}
        },
        {
          "output_type": "display_data",
          "data": {
            "text/plain": [
              "<Figure size 640x480 with 0 Axes>"
            ]
          },
          "metadata": {}
        },
        {
          "output_type": "display_data",
          "data": {
            "text/plain": [
              "<Figure size 640x480 with 0 Axes>"
            ]
          },
          "metadata": {}
        },
        {
          "output_type": "display_data",
          "data": {
            "text/plain": [
              "<Figure size 640x480 with 0 Axes>"
            ]
          },
          "metadata": {}
        },
        {
          "output_type": "display_data",
          "data": {
            "text/plain": [
              "<Figure size 640x480 with 0 Axes>"
            ]
          },
          "metadata": {}
        },
        {
          "output_type": "display_data",
          "data": {
            "text/plain": [
              "<Figure size 640x480 with 0 Axes>"
            ]
          },
          "metadata": {}
        },
        {
          "output_type": "display_data",
          "data": {
            "text/plain": [
              "<Figure size 640x480 with 0 Axes>"
            ]
          },
          "metadata": {}
        },
        {
          "output_type": "display_data",
          "data": {
            "text/plain": [
              "<Figure size 640x480 with 0 Axes>"
            ]
          },
          "metadata": {}
        }
      ]
    }
  ]
}