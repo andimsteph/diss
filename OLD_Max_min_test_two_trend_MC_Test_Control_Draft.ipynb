{
  "nbformat": 4,
  "nbformat_minor": 0,
  "metadata": {
    "colab": {
      "provenance": [],
      "history_visible": true,
      "authorship_tag": "ABX9TyMvo3T9svN5d/yjsrfjIChl",
      "include_colab_link": true
    },
    "kernelspec": {
      "name": "python3",
      "display_name": "Python 3"
    },
    "language_info": {
      "name": "python"
    }
  },
  "cells": [
    {
      "cell_type": "markdown",
      "metadata": {
        "id": "view-in-github",
        "colab_type": "text"
      },
      "source": [
        "<a href=\"https://colab.research.google.com/github/andimsteph/diss/blob/main/Max_min_test_two_trend_MC_Test_Control_Draft.ipynb\" target=\"_parent\"><img src=\"https://colab.research.google.com/assets/colab-badge.svg\" alt=\"Open In Colab\"/></a>"
      ]
    },
    {
      "cell_type": "code",
      "execution_count": 1,
      "metadata": {
        "id": "ElXmPApEZ2Z1"
      },
      "outputs": [],
      "source": [
        "#Conducting Monte Carlo Simulations to Generate and Analyze Single-Case Graphs\n",
        "\n",
        "#Import packages\n",
        "import numpy as np\n",
        "import math\n",
        "import matplotlib.pyplot as plt\n",
        "from matplotlib.backends.backend_pdf import PdfPages\n",
        "\n",
        "#This function creates a time series with n points, an autocorrelation of a,\n",
        "#and a constant of ct\n",
        "\n",
        "def create_time_series(n, a, ct):\n",
        "\n",
        "    #Create an empty vector to hold values\n",
        "    time_series = np.empty((0,))\n",
        "\n",
        "    #Compute first point (no autocorrelation possible)\n",
        "    point1 = np.random.normal(size = 1)\n",
        "\n",
        "    #Add point1 to time series\n",
        "    time_series = np.hstack((time_series, point1))\n",
        "\n",
        "    #Repeat the process below for all subsequent points\n",
        "    for i in range(1, n):\n",
        "\n",
        "        #Compute autocorrelated point error term\n",
        "        point = a*time_series[i-1]+np.random.normal(size = 1)\n",
        "\n",
        "        #Add autcorrelated point to time series\n",
        "        time_series = np.hstack((time_series, point))\n",
        "\n",
        "    #Add constant to all points\n",
        "    time_series = time_series + ct\n",
        "\n",
        "    #Return the time series\n",
        "    return(time_series)\n",
        "\n"
      ]
    },
    {
      "cell_type": "code",
      "source": [
        "#This function creates data for an alternating treatment graph with an\n",
        "#autocorrelation of a, a trend of tr (in degrees), a constant of ct, a minimum\n",
        "#of nb_points in each condition, a standardized mean difference of smd,\n",
        "#and level of r in the control condition. Alternation is semi-random\n",
        "\n",
        "def create_ME_data(a, trA, trB, ct, nb_points, smd, r, alternation):\n",
        "\n",
        "  if alternation == 'semi-random':\n",
        "\n",
        "        #Empty vector for labels\n",
        "        labels = np.empty((0,))\n",
        "\n",
        "        #Repeat process for each pair of points\n",
        "        for i in range(nb_points):\n",
        "\n",
        "            #Randomly select the order of two conditions\n",
        "            new_var = 2\n",
        "            conditions = np.random.choice(['Control', 'Test'], 2, replace = False)\n",
        "\n",
        "            #Add conditions to labels\n",
        "            labels = np.hstack((labels, conditions))\n",
        "\n",
        "        #Run code until minimum number of points is reached for both phases\n",
        "        while (np.sum(labels == 'Control') < nb_points) | (np.sum(labels == 'Test') < nb_points):\n",
        "\n",
        "            #Randomly select one condition\n",
        "            condition = np.random.choice(['Control', 'Test'], 1)\n",
        "\n",
        "            #Add condition to labels\n",
        "            labels = np.hstack((labels, condition))\n",
        "\n",
        "  #Create times series\n",
        "  time_series = create_time_series(len(labels), a, ct)\n",
        "  all_values = np.copy(time_series)\n",
        "\n",
        "  #Indices for Phase A (Control)\n",
        "  idxA = np.where(labels == 'Control')[0]\n",
        "\n",
        "  #Indices for Phase B\n",
        "  idxB = np.where(labels == 'Test')[0]\n",
        "\n",
        "  #Add smd to values of Phase B\n",
        "  all_values[idxB] += (smd)\n",
        "\n",
        "  #Identify middle point around which to pivot trend\n",
        "  middle_point = np.median(range(len(all_values)))\n",
        "\n",
        "  #Apply trend to all points separately\n",
        "  #Phase A\n",
        "  for j in range(len(idxA)):\n",
        "    distance = idxA[j] - middle_point\n",
        "    all_values[idxA[j]] += distance * math.tan(trA * math.pi / 180)\n",
        "\n",
        "  #Phase B\n",
        "  for j in range(len(idxB)):\n",
        "        distance = idxB[j] - middle_point\n",
        "        all_values[idxB[j]] += distance * math.tan(trB * math.pi / 180)\n",
        "\n",
        "  #Set max and min values, and normalize\n",
        "  min_value = np.min(all_values)\n",
        "  max_value = np.max(all_values)\n",
        "  all_values = (all_values - min_value) / (max_value - min_value) * 10\n",
        "\n",
        "  #Recalculate smd\n",
        "  mean_control = np.mean(all_values[idxA])\n",
        "  mean_test = np.mean(all_values[idxB])\n",
        "  current_smd = mean_test - mean_control\n",
        "\n",
        "  #Adjust values to maintain smd\n",
        "  if current_smd != smd:\n",
        "      adjustment = smd - current_smd\n",
        "      all_values[idxB] += adjustment / 2\n",
        "      all_values[idxA] -= adjustment / 2\n",
        "\n",
        "  #Set max and min values, and normalize (to ensure positive values)\n",
        "  min_value = np.min(all_values)\n",
        "  max_value = np.max(all_values)\n",
        "  all_values = (all_values - min_value) / (max_value - min_value) * 10\n",
        "\n",
        "  #add r after normalization to increase level\n",
        "  all_values[idxA] += r\n",
        "  all_values[idxB] += r\n",
        "\n",
        "  #Combine labels and values in same list\n",
        "  ME_data = [labels, all_values]\n",
        "\n",
        "  #Return ME data\n",
        "  return(ME_data)\n",
        "\n"
      ],
      "metadata": {
        "id": "1j5qOxC2aE9O"
      },
      "execution_count": 24,
      "outputs": []
    },
    {
      "cell_type": "code",
      "source": [
        "#Function to produce ME graph\n",
        "\n",
        "def ATgraph(ME_data, trA, trB):\n",
        "\n",
        "    #Identify indices for Control and Test\n",
        "    Control, = np.where(ME_data[0] == 'Control')\n",
        "    Test, = np.where(ME_data[0] == 'Test')\n",
        "\n",
        "    #Extract values for Control and Test\n",
        "    valuesControl = ME_data[1][Control]\n",
        "    valuesTest = ME_data[1][Test]\n",
        "\n",
        "    #Initialize figure\n",
        "    fig = plt.figure()\n",
        "    ax = fig.add_subplot(111)\n",
        "\n",
        "    #Plot data\n",
        "    plt.plot(Control+1, valuesControl, 'ks-', label = 'Control')\n",
        "    plt.plot(Test+1, valuesTest, 'ko-', label = 'Test')\n",
        "\n",
        "    #Add axes titles\n",
        "    plt.xlabel('Session')\n",
        "    plt.ylabel('Behavior')\n",
        "\n",
        "    #Add legend to graph\n",
        "    ax.legend(loc='lower right', frameon=False)\n",
        "\n",
        "    #Adjust height of graph\n",
        "    plt.ylim(0, np.max(ME_data[1]*1.5))\n",
        "\n",
        "    #Remove right and top borders\n",
        "    ax.spines['right'].set_visible(False)\n",
        "    ax.spines['top'].set_visible(False)\n"
      ],
      "metadata": {
        "id": "-xviJ6n7hy8p"
      },
      "execution_count": 25,
      "outputs": []
    },
    {
      "cell_type": "code",
      "source": [
        "# Define ranges for each parameter\n",
        "nb_points_list = [6, 10]\n",
        "a_list = [0, 0.2]\n",
        "tr_listA = [0, 0, 0] #determine number of 0s, angle of trend from effect size data\n",
        "tr_listB = [-30, 0, 30]\n",
        "smd_list = [0, 3, 6]\n",
        "r_list = [0, 2, 4]\n",
        "ct = 10\n",
        "\n",
        "\n",
        "# Function to create data and graph\n",
        "def perform_simulations():\n",
        "  #Empty list to contain all the input data\n",
        "  all_ME_data = []\n",
        "\n",
        "  #Empty vector to contain the true values\n",
        "  true_values = np.empty((0,))\n",
        "\n",
        "  #Empty vector to contain trend values for each data series\n",
        "  trend_values = np.empty((0, 2))\n",
        "\n",
        "  #pp\n",
        "  pp = PdfPages('MEgraphTest.pdf')\n",
        "\n",
        "  # Loop over each combination of parameters\n",
        "  for nb in nb_points_list:\n",
        "       for a in a_list:\n",
        "          for trA in tr_listA:\n",
        "              for trB in tr_listB:\n",
        "                  for smd in smd_list:\n",
        "                      for r in r_list:\n",
        "\n",
        "\n",
        "                          # Generate ME data for the set of parameters\n",
        "                          ME_data = create_ME_data(a=a, trA=trA, trB=trB, ct=ct, nb_points=nb, smd=smd, r=r, alternation='semi-random')\n",
        "\n",
        "                          # Plot graph\n",
        "                          plt.figure()\n",
        "                          ATgraph(ME_data, trA, trB)\n",
        "\n",
        "                          # Title to distinguish different graphs\n",
        "                          plt.title(f'nb_points={nb}, a={a}, trA={trA}, trB={trB}, smd={smd}, r={r}')\n",
        "\n",
        "                          #plt.show()\n",
        "                          pp.savefig()\n",
        "                          plt.close()\n",
        "\n",
        "                          #Add data series to list\n",
        "                          all_ME_data.append(ME_data)\n",
        "\n",
        "                          #Add true value to vector\n",
        "                          true_values = np.hstack((true_values, 1 if smd > 0 else 0))\n",
        "\n",
        "                          #Add trend value to vector\n",
        "                          trend_values = np.vstack((trend_values, np.array([[trA, trB]])))\n",
        "\n",
        "  pp.close()\n",
        "\n",
        "  return all_ME_data, true_values, trend_values\n",
        "\n",
        "#Call\n",
        "all_ME_data, true_values, trend_values = perform_simulations()\n"
      ],
      "metadata": {
        "colab": {
          "base_uri": "https://localhost:8080/",
          "height": 1000
        },
        "id": "BF44fS06mJa3",
        "outputId": "024fef95-17fa-4e73-be63-783e38c342d7"
      },
      "execution_count": 28,
      "outputs": [
        {
          "output_type": "stream",
          "name": "stderr",
          "text": [
            "<ipython-input-25-8e3a8c74fdea>:14: RuntimeWarning: More than 20 figures have been opened. Figures created through the pyplot interface (`matplotlib.pyplot.figure`) are retained until explicitly closed and may consume too much memory. (To control this warning, see the rcParam `figure.max_open_warning`). Consider using `matplotlib.pyplot.close()`.\n",
            "  fig = plt.figure()\n",
            "<ipython-input-28-84e4d65f983e>:38: RuntimeWarning: More than 20 figures have been opened. Figures created through the pyplot interface (`matplotlib.pyplot.figure`) are retained until explicitly closed and may consume too much memory. (To control this warning, see the rcParam `figure.max_open_warning`). Consider using `matplotlib.pyplot.close()`.\n",
            "  plt.figure()\n"
          ]
        },
        {
          "output_type": "display_data",
          "data": {
            "text/plain": [
              "<Figure size 640x480 with 0 Axes>"
            ]
          },
          "metadata": {}
        },
        {
          "output_type": "display_data",
          "data": {
            "text/plain": [
              "<Figure size 640x480 with 0 Axes>"
            ]
          },
          "metadata": {}
        },
        {
          "output_type": "display_data",
          "data": {
            "text/plain": [
              "<Figure size 640x480 with 0 Axes>"
            ]
          },
          "metadata": {}
        },
        {
          "output_type": "display_data",
          "data": {
            "text/plain": [
              "<Figure size 640x480 with 0 Axes>"
            ]
          },
          "metadata": {}
        },
        {
          "output_type": "display_data",
          "data": {
            "text/plain": [
              "<Figure size 640x480 with 0 Axes>"
            ]
          },
          "metadata": {}
        },
        {
          "output_type": "display_data",
          "data": {
            "text/plain": [
              "<Figure size 640x480 with 0 Axes>"
            ]
          },
          "metadata": {}
        },
        {
          "output_type": "display_data",
          "data": {
            "text/plain": [
              "<Figure size 640x480 with 0 Axes>"
            ]
          },
          "metadata": {}
        },
        {
          "output_type": "display_data",
          "data": {
            "text/plain": [
              "<Figure size 640x480 with 0 Axes>"
            ]
          },
          "metadata": {}
        },
        {
          "output_type": "display_data",
          "data": {
            "text/plain": [
              "<Figure size 640x480 with 0 Axes>"
            ]
          },
          "metadata": {}
        },
        {
          "output_type": "display_data",
          "data": {
            "text/plain": [
              "<Figure size 640x480 with 0 Axes>"
            ]
          },
          "metadata": {}
        },
        {
          "output_type": "display_data",
          "data": {
            "text/plain": [
              "<Figure size 640x480 with 0 Axes>"
            ]
          },
          "metadata": {}
        },
        {
          "output_type": "display_data",
          "data": {
            "text/plain": [
              "<Figure size 640x480 with 0 Axes>"
            ]
          },
          "metadata": {}
        },
        {
          "output_type": "display_data",
          "data": {
            "text/plain": [
              "<Figure size 640x480 with 0 Axes>"
            ]
          },
          "metadata": {}
        },
        {
          "output_type": "display_data",
          "data": {
            "text/plain": [
              "<Figure size 640x480 with 0 Axes>"
            ]
          },
          "metadata": {}
        },
        {
          "output_type": "display_data",
          "data": {
            "text/plain": [
              "<Figure size 640x480 with 0 Axes>"
            ]
          },
          "metadata": {}
        },
        {
          "output_type": "display_data",
          "data": {
            "text/plain": [
              "<Figure size 640x480 with 0 Axes>"
            ]
          },
          "metadata": {}
        },
        {
          "output_type": "display_data",
          "data": {
            "text/plain": [
              "<Figure size 640x480 with 0 Axes>"
            ]
          },
          "metadata": {}
        },
        {
          "output_type": "display_data",
          "data": {
            "text/plain": [
              "<Figure size 640x480 with 0 Axes>"
            ]
          },
          "metadata": {}
        },
        {
          "output_type": "display_data",
          "data": {
            "text/plain": [
              "<Figure size 640x480 with 0 Axes>"
            ]
          },
          "metadata": {}
        },
        {
          "output_type": "display_data",
          "data": {
            "text/plain": [
              "<Figure size 640x480 with 0 Axes>"
            ]
          },
          "metadata": {}
        },
        {
          "output_type": "display_data",
          "data": {
            "text/plain": [
              "<Figure size 640x480 with 0 Axes>"
            ]
          },
          "metadata": {}
        },
        {
          "output_type": "display_data",
          "data": {
            "text/plain": [
              "<Figure size 640x480 with 0 Axes>"
            ]
          },
          "metadata": {}
        },
        {
          "output_type": "display_data",
          "data": {
            "text/plain": [
              "<Figure size 640x480 with 0 Axes>"
            ]
          },
          "metadata": {}
        },
        {
          "output_type": "display_data",
          "data": {
            "text/plain": [
              "<Figure size 640x480 with 0 Axes>"
            ]
          },
          "metadata": {}
        },
        {
          "output_type": "display_data",
          "data": {
            "text/plain": [
              "<Figure size 640x480 with 0 Axes>"
            ]
          },
          "metadata": {}
        },
        {
          "output_type": "display_data",
          "data": {
            "text/plain": [
              "<Figure size 640x480 with 0 Axes>"
            ]
          },
          "metadata": {}
        },
        {
          "output_type": "display_data",
          "data": {
            "text/plain": [
              "<Figure size 640x480 with 0 Axes>"
            ]
          },
          "metadata": {}
        },
        {
          "output_type": "display_data",
          "data": {
            "text/plain": [
              "<Figure size 640x480 with 0 Axes>"
            ]
          },
          "metadata": {}
        },
        {
          "output_type": "display_data",
          "data": {
            "text/plain": [
              "<Figure size 640x480 with 0 Axes>"
            ]
          },
          "metadata": {}
        },
        {
          "output_type": "display_data",
          "data": {
            "text/plain": [
              "<Figure size 640x480 with 0 Axes>"
            ]
          },
          "metadata": {}
        },
        {
          "output_type": "display_data",
          "data": {
            "text/plain": [
              "<Figure size 640x480 with 0 Axes>"
            ]
          },
          "metadata": {}
        },
        {
          "output_type": "display_data",
          "data": {
            "text/plain": [
              "<Figure size 640x480 with 0 Axes>"
            ]
          },
          "metadata": {}
        },
        {
          "output_type": "display_data",
          "data": {
            "text/plain": [
              "<Figure size 640x480 with 0 Axes>"
            ]
          },
          "metadata": {}
        },
        {
          "output_type": "display_data",
          "data": {
            "text/plain": [
              "<Figure size 640x480 with 0 Axes>"
            ]
          },
          "metadata": {}
        },
        {
          "output_type": "display_data",
          "data": {
            "text/plain": [
              "<Figure size 640x480 with 0 Axes>"
            ]
          },
          "metadata": {}
        },
        {
          "output_type": "display_data",
          "data": {
            "text/plain": [
              "<Figure size 640x480 with 0 Axes>"
            ]
          },
          "metadata": {}
        },
        {
          "output_type": "display_data",
          "data": {
            "text/plain": [
              "<Figure size 640x480 with 0 Axes>"
            ]
          },
          "metadata": {}
        },
        {
          "output_type": "display_data",
          "data": {
            "text/plain": [
              "<Figure size 640x480 with 0 Axes>"
            ]
          },
          "metadata": {}
        },
        {
          "output_type": "display_data",
          "data": {
            "text/plain": [
              "<Figure size 640x480 with 0 Axes>"
            ]
          },
          "metadata": {}
        },
        {
          "output_type": "display_data",
          "data": {
            "text/plain": [
              "<Figure size 640x480 with 0 Axes>"
            ]
          },
          "metadata": {}
        },
        {
          "output_type": "display_data",
          "data": {
            "text/plain": [
              "<Figure size 640x480 with 0 Axes>"
            ]
          },
          "metadata": {}
        },
        {
          "output_type": "display_data",
          "data": {
            "text/plain": [
              "<Figure size 640x480 with 0 Axes>"
            ]
          },
          "metadata": {}
        },
        {
          "output_type": "display_data",
          "data": {
            "text/plain": [
              "<Figure size 640x480 with 0 Axes>"
            ]
          },
          "metadata": {}
        },
        {
          "output_type": "display_data",
          "data": {
            "text/plain": [
              "<Figure size 640x480 with 0 Axes>"
            ]
          },
          "metadata": {}
        },
        {
          "output_type": "display_data",
          "data": {
            "text/plain": [
              "<Figure size 640x480 with 0 Axes>"
            ]
          },
          "metadata": {}
        },
        {
          "output_type": "display_data",
          "data": {
            "text/plain": [
              "<Figure size 640x480 with 0 Axes>"
            ]
          },
          "metadata": {}
        },
        {
          "output_type": "display_data",
          "data": {
            "text/plain": [
              "<Figure size 640x480 with 0 Axes>"
            ]
          },
          "metadata": {}
        },
        {
          "output_type": "display_data",
          "data": {
            "text/plain": [
              "<Figure size 640x480 with 0 Axes>"
            ]
          },
          "metadata": {}
        },
        {
          "output_type": "display_data",
          "data": {
            "text/plain": [
              "<Figure size 640x480 with 0 Axes>"
            ]
          },
          "metadata": {}
        },
        {
          "output_type": "display_data",
          "data": {
            "text/plain": [
              "<Figure size 640x480 with 0 Axes>"
            ]
          },
          "metadata": {}
        },
        {
          "output_type": "display_data",
          "data": {
            "text/plain": [
              "<Figure size 640x480 with 0 Axes>"
            ]
          },
          "metadata": {}
        },
        {
          "output_type": "display_data",
          "data": {
            "text/plain": [
              "<Figure size 640x480 with 0 Axes>"
            ]
          },
          "metadata": {}
        },
        {
          "output_type": "display_data",
          "data": {
            "text/plain": [
              "<Figure size 640x480 with 0 Axes>"
            ]
          },
          "metadata": {}
        },
        {
          "output_type": "display_data",
          "data": {
            "text/plain": [
              "<Figure size 640x480 with 0 Axes>"
            ]
          },
          "metadata": {}
        },
        {
          "output_type": "display_data",
          "data": {
            "text/plain": [
              "<Figure size 640x480 with 0 Axes>"
            ]
          },
          "metadata": {}
        },
        {
          "output_type": "display_data",
          "data": {
            "text/plain": [
              "<Figure size 640x480 with 0 Axes>"
            ]
          },
          "metadata": {}
        },
        {
          "output_type": "display_data",
          "data": {
            "text/plain": [
              "<Figure size 640x480 with 0 Axes>"
            ]
          },
          "metadata": {}
        },
        {
          "output_type": "display_data",
          "data": {
            "text/plain": [
              "<Figure size 640x480 with 0 Axes>"
            ]
          },
          "metadata": {}
        },
        {
          "output_type": "display_data",
          "data": {
            "text/plain": [
              "<Figure size 640x480 with 0 Axes>"
            ]
          },
          "metadata": {}
        },
        {
          "output_type": "display_data",
          "data": {
            "text/plain": [
              "<Figure size 640x480 with 0 Axes>"
            ]
          },
          "metadata": {}
        },
        {
          "output_type": "display_data",
          "data": {
            "text/plain": [
              "<Figure size 640x480 with 0 Axes>"
            ]
          },
          "metadata": {}
        },
        {
          "output_type": "display_data",
          "data": {
            "text/plain": [
              "<Figure size 640x480 with 0 Axes>"
            ]
          },
          "metadata": {}
        },
        {
          "output_type": "display_data",
          "data": {
            "text/plain": [
              "<Figure size 640x480 with 0 Axes>"
            ]
          },
          "metadata": {}
        },
        {
          "output_type": "display_data",
          "data": {
            "text/plain": [
              "<Figure size 640x480 with 0 Axes>"
            ]
          },
          "metadata": {}
        },
        {
          "output_type": "display_data",
          "data": {
            "text/plain": [
              "<Figure size 640x480 with 0 Axes>"
            ]
          },
          "metadata": {}
        },
        {
          "output_type": "display_data",
          "data": {
            "text/plain": [
              "<Figure size 640x480 with 0 Axes>"
            ]
          },
          "metadata": {}
        },
        {
          "output_type": "display_data",
          "data": {
            "text/plain": [
              "<Figure size 640x480 with 0 Axes>"
            ]
          },
          "metadata": {}
        },
        {
          "output_type": "display_data",
          "data": {
            "text/plain": [
              "<Figure size 640x480 with 0 Axes>"
            ]
          },
          "metadata": {}
        },
        {
          "output_type": "display_data",
          "data": {
            "text/plain": [
              "<Figure size 640x480 with 0 Axes>"
            ]
          },
          "metadata": {}
        },
        {
          "output_type": "display_data",
          "data": {
            "text/plain": [
              "<Figure size 640x480 with 0 Axes>"
            ]
          },
          "metadata": {}
        },
        {
          "output_type": "display_data",
          "data": {
            "text/plain": [
              "<Figure size 640x480 with 0 Axes>"
            ]
          },
          "metadata": {}
        },
        {
          "output_type": "display_data",
          "data": {
            "text/plain": [
              "<Figure size 640x480 with 0 Axes>"
            ]
          },
          "metadata": {}
        },
        {
          "output_type": "display_data",
          "data": {
            "text/plain": [
              "<Figure size 640x480 with 0 Axes>"
            ]
          },
          "metadata": {}
        },
        {
          "output_type": "display_data",
          "data": {
            "text/plain": [
              "<Figure size 640x480 with 0 Axes>"
            ]
          },
          "metadata": {}
        },
        {
          "output_type": "display_data",
          "data": {
            "text/plain": [
              "<Figure size 640x480 with 0 Axes>"
            ]
          },
          "metadata": {}
        },
        {
          "output_type": "display_data",
          "data": {
            "text/plain": [
              "<Figure size 640x480 with 0 Axes>"
            ]
          },
          "metadata": {}
        },
        {
          "output_type": "display_data",
          "data": {
            "text/plain": [
              "<Figure size 640x480 with 0 Axes>"
            ]
          },
          "metadata": {}
        },
        {
          "output_type": "display_data",
          "data": {
            "text/plain": [
              "<Figure size 640x480 with 0 Axes>"
            ]
          },
          "metadata": {}
        },
        {
          "output_type": "display_data",
          "data": {
            "text/plain": [
              "<Figure size 640x480 with 0 Axes>"
            ]
          },
          "metadata": {}
        },
        {
          "output_type": "display_data",
          "data": {
            "text/plain": [
              "<Figure size 640x480 with 0 Axes>"
            ]
          },
          "metadata": {}
        },
        {
          "output_type": "display_data",
          "data": {
            "text/plain": [
              "<Figure size 640x480 with 0 Axes>"
            ]
          },
          "metadata": {}
        },
        {
          "output_type": "display_data",
          "data": {
            "text/plain": [
              "<Figure size 640x480 with 0 Axes>"
            ]
          },
          "metadata": {}
        },
        {
          "output_type": "display_data",
          "data": {
            "text/plain": [
              "<Figure size 640x480 with 0 Axes>"
            ]
          },
          "metadata": {}
        },
        {
          "output_type": "display_data",
          "data": {
            "text/plain": [
              "<Figure size 640x480 with 0 Axes>"
            ]
          },
          "metadata": {}
        },
        {
          "output_type": "display_data",
          "data": {
            "text/plain": [
              "<Figure size 640x480 with 0 Axes>"
            ]
          },
          "metadata": {}
        },
        {
          "output_type": "display_data",
          "data": {
            "text/plain": [
              "<Figure size 640x480 with 0 Axes>"
            ]
          },
          "metadata": {}
        },
        {
          "output_type": "display_data",
          "data": {
            "text/plain": [
              "<Figure size 640x480 with 0 Axes>"
            ]
          },
          "metadata": {}
        },
        {
          "output_type": "display_data",
          "data": {
            "text/plain": [
              "<Figure size 640x480 with 0 Axes>"
            ]
          },
          "metadata": {}
        },
        {
          "output_type": "display_data",
          "data": {
            "text/plain": [
              "<Figure size 640x480 with 0 Axes>"
            ]
          },
          "metadata": {}
        },
        {
          "output_type": "display_data",
          "data": {
            "text/plain": [
              "<Figure size 640x480 with 0 Axes>"
            ]
          },
          "metadata": {}
        },
        {
          "output_type": "display_data",
          "data": {
            "text/plain": [
              "<Figure size 640x480 with 0 Axes>"
            ]
          },
          "metadata": {}
        },
        {
          "output_type": "display_data",
          "data": {
            "text/plain": [
              "<Figure size 640x480 with 0 Axes>"
            ]
          },
          "metadata": {}
        },
        {
          "output_type": "display_data",
          "data": {
            "text/plain": [
              "<Figure size 640x480 with 0 Axes>"
            ]
          },
          "metadata": {}
        },
        {
          "output_type": "display_data",
          "data": {
            "text/plain": [
              "<Figure size 640x480 with 0 Axes>"
            ]
          },
          "metadata": {}
        },
        {
          "output_type": "display_data",
          "data": {
            "text/plain": [
              "<Figure size 640x480 with 0 Axes>"
            ]
          },
          "metadata": {}
        },
        {
          "output_type": "display_data",
          "data": {
            "text/plain": [
              "<Figure size 640x480 with 0 Axes>"
            ]
          },
          "metadata": {}
        },
        {
          "output_type": "display_data",
          "data": {
            "text/plain": [
              "<Figure size 640x480 with 0 Axes>"
            ]
          },
          "metadata": {}
        },
        {
          "output_type": "display_data",
          "data": {
            "text/plain": [
              "<Figure size 640x480 with 0 Axes>"
            ]
          },
          "metadata": {}
        },
        {
          "output_type": "display_data",
          "data": {
            "text/plain": [
              "<Figure size 640x480 with 0 Axes>"
            ]
          },
          "metadata": {}
        },
        {
          "output_type": "display_data",
          "data": {
            "text/plain": [
              "<Figure size 640x480 with 0 Axes>"
            ]
          },
          "metadata": {}
        },
        {
          "output_type": "display_data",
          "data": {
            "text/plain": [
              "<Figure size 640x480 with 0 Axes>"
            ]
          },
          "metadata": {}
        },
        {
          "output_type": "display_data",
          "data": {
            "text/plain": [
              "<Figure size 640x480 with 0 Axes>"
            ]
          },
          "metadata": {}
        },
        {
          "output_type": "display_data",
          "data": {
            "text/plain": [
              "<Figure size 640x480 with 0 Axes>"
            ]
          },
          "metadata": {}
        },
        {
          "output_type": "display_data",
          "data": {
            "text/plain": [
              "<Figure size 640x480 with 0 Axes>"
            ]
          },
          "metadata": {}
        },
        {
          "output_type": "display_data",
          "data": {
            "text/plain": [
              "<Figure size 640x480 with 0 Axes>"
            ]
          },
          "metadata": {}
        },
        {
          "output_type": "display_data",
          "data": {
            "text/plain": [
              "<Figure size 640x480 with 0 Axes>"
            ]
          },
          "metadata": {}
        },
        {
          "output_type": "display_data",
          "data": {
            "text/plain": [
              "<Figure size 640x480 with 0 Axes>"
            ]
          },
          "metadata": {}
        },
        {
          "output_type": "display_data",
          "data": {
            "text/plain": [
              "<Figure size 640x480 with 0 Axes>"
            ]
          },
          "metadata": {}
        }
      ]
    },
    {
      "cell_type": "markdown",
      "source": [],
      "metadata": {
        "id": "FICT2ztYJF8k"
      }
    },
    {
      "cell_type": "code",
      "source": [
        "from google.colab import files\n",
        "files.download('MEgraphTest.pdf')"
      ],
      "metadata": {
        "id": "xT09ukjKFlgM"
      },
      "execution_count": null,
      "outputs": []
    },
    {
      "cell_type": "code",
      "source": [
        "# TEST - Setting parameters\n",
        "test_params = {\n",
        "    'a': 0.2,\n",
        "    'trA': 0,\n",
        "    'trB': 30,\n",
        "    'ct': 10,\n",
        "    'nb_points': 6,\n",
        "    'smd': 0,\n",
        "    'r': -8,\n",
        "    'alternation': 'semi-random'\n",
        "}\n",
        "\n",
        "# TEST - Generate ME data with parameters\n",
        "ME_data = create_ME_data(\n",
        "    test_params['a'],\n",
        "    test_params['trA'],\n",
        "    test_params['trB'],\n",
        "    test_params['ct'],\n",
        "    test_params['nb_points'],\n",
        "    test_params['smd'],\n",
        "    test_params['r'],\n",
        "    test_params['alternation']\n",
        ")\n",
        "\n",
        "# TEST - Graph plotting\n",
        "plt.figure\n",
        "ATgraph(ME_data, trA, trB)\n",
        "plt.title(f\"Test Graph: {test_params}\")\n",
        "plt.show()"
      ],
      "metadata": {
        "colab": {
          "base_uri": "https://localhost:8080/",
          "height": 251
        },
        "id": "U2T2hMpeD575",
        "outputId": "6e965037-0eeb-46a4-d24a-af002228f65c"
      },
      "execution_count": null,
      "outputs": [
        {
          "output_type": "error",
          "ename": "NameError",
          "evalue": "name 'trA' is not defined",
          "traceback": [
            "\u001b[0;31m---------------------------------------------------------------------------\u001b[0m",
            "\u001b[0;31mNameError\u001b[0m                                 Traceback (most recent call last)",
            "\u001b[0;32m<ipython-input-107-db5eabed8508>\u001b[0m in \u001b[0;36m<cell line: 27>\u001b[0;34m()\u001b[0m\n\u001b[1;32m     25\u001b[0m \u001b[0;31m# TEST - Graph plotting\u001b[0m\u001b[0;34m\u001b[0m\u001b[0;34m\u001b[0m\u001b[0m\n\u001b[1;32m     26\u001b[0m \u001b[0mplt\u001b[0m\u001b[0;34m.\u001b[0m\u001b[0mfigure\u001b[0m\u001b[0;34m\u001b[0m\u001b[0;34m\u001b[0m\u001b[0m\n\u001b[0;32m---> 27\u001b[0;31m \u001b[0mATgraph\u001b[0m\u001b[0;34m(\u001b[0m\u001b[0mME_data\u001b[0m\u001b[0;34m,\u001b[0m \u001b[0mtrA\u001b[0m\u001b[0;34m,\u001b[0m \u001b[0mtrB\u001b[0m\u001b[0;34m)\u001b[0m\u001b[0;34m\u001b[0m\u001b[0;34m\u001b[0m\u001b[0m\n\u001b[0m\u001b[1;32m     28\u001b[0m \u001b[0mplt\u001b[0m\u001b[0;34m.\u001b[0m\u001b[0mtitle\u001b[0m\u001b[0;34m(\u001b[0m\u001b[0;34mf\"Test Graph: {test_params}\"\u001b[0m\u001b[0;34m)\u001b[0m\u001b[0;34m\u001b[0m\u001b[0;34m\u001b[0m\u001b[0m\n\u001b[1;32m     29\u001b[0m \u001b[0mplt\u001b[0m\u001b[0;34m.\u001b[0m\u001b[0mshow\u001b[0m\u001b[0;34m(\u001b[0m\u001b[0;34m)\u001b[0m\u001b[0;34m\u001b[0m\u001b[0;34m\u001b[0m\u001b[0m\n",
            "\u001b[0;31mNameError\u001b[0m: name 'trA' is not defined"
          ]
        }
      ]
    }
  ]
}
